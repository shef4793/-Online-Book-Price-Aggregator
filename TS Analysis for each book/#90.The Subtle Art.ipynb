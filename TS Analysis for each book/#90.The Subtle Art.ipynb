{
 "cells": [
  {
   "cell_type": "code",
   "execution_count": 28,
   "metadata": {},
   "outputs": [],
   "source": [
    "from plotly import __version__\n",
    "from plotly.offline import download_plotlyjs, init_notebook_mode, plot, iplot\n",
    "\n",
    "import plotly.graph_objs as go"
   ]
  },
  {
   "cell_type": "code",
   "execution_count": 29,
   "metadata": {},
   "outputs": [
    {
     "data": {
      "text/html": [
       "<div>\n",
       "<style scoped>\n",
       "    .dataframe tbody tr th:only-of-type {\n",
       "        vertical-align: middle;\n",
       "    }\n",
       "\n",
       "    .dataframe tbody tr th {\n",
       "        vertical-align: top;\n",
       "    }\n",
       "\n",
       "    .dataframe thead th {\n",
       "        text-align: right;\n",
       "    }\n",
       "</style>\n",
       "<table border=\"1\" class=\"dataframe\">\n",
       "  <thead>\n",
       "    <tr style=\"text-align: right;\">\n",
       "      <th></th>\n",
       "      <th>title</th>\n",
       "      <th>date</th>\n",
       "      <th>price</th>\n",
       "    </tr>\n",
       "  </thead>\n",
       "  <tbody>\n",
       "    <tr>\n",
       "      <th>0</th>\n",
       "      <td>The Immortals of Meluha</td>\n",
       "      <td>2019-01-24</td>\n",
       "      <td>254</td>\n",
       "    </tr>\n",
       "    <tr>\n",
       "      <th>1</th>\n",
       "      <td>The Immortals of Meluha</td>\n",
       "      <td>2019-01-25</td>\n",
       "      <td>254</td>\n",
       "    </tr>\n",
       "    <tr>\n",
       "      <th>2</th>\n",
       "      <td>The Immortals of Meluha</td>\n",
       "      <td>2019-01-26</td>\n",
       "      <td>296</td>\n",
       "    </tr>\n",
       "    <tr>\n",
       "      <th>3</th>\n",
       "      <td>The Immortals of Meluha</td>\n",
       "      <td>2019-01-27</td>\n",
       "      <td>221</td>\n",
       "    </tr>\n",
       "    <tr>\n",
       "      <th>4</th>\n",
       "      <td>The Immortals of Meluha</td>\n",
       "      <td>2019-01-28</td>\n",
       "      <td>221</td>\n",
       "    </tr>\n",
       "  </tbody>\n",
       "</table>\n",
       "</div>"
      ],
      "text/plain": [
       "                     title       date  price\n",
       "0  The Immortals of Meluha 2019-01-24    254\n",
       "1  The Immortals of Meluha 2019-01-25    254\n",
       "2  The Immortals of Meluha 2019-01-26    296\n",
       "3  The Immortals of Meluha 2019-01-27    221\n",
       "4  The Immortals of Meluha 2019-01-28    221"
      ]
     },
     "execution_count": 29,
     "metadata": {},
     "output_type": "execute_result"
    }
   ],
   "source": [
    "import pandas as pd\n",
    "import numpy as np\n",
    "df = pd.read_excel('books_variation.xlsx')\n",
    "df.head()"
   ]
  },
  {
   "cell_type": "code",
   "execution_count": 31,
   "metadata": {},
   "outputs": [
    {
     "data": {
      "text/html": [
       "<div>\n",
       "<style scoped>\n",
       "    .dataframe tbody tr th:only-of-type {\n",
       "        vertical-align: middle;\n",
       "    }\n",
       "\n",
       "    .dataframe tbody tr th {\n",
       "        vertical-align: top;\n",
       "    }\n",
       "\n",
       "    .dataframe thead th {\n",
       "        text-align: right;\n",
       "    }\n",
       "</style>\n",
       "<table border=\"1\" class=\"dataframe\">\n",
       "  <thead>\n",
       "    <tr style=\"text-align: right;\">\n",
       "      <th></th>\n",
       "      <th>date</th>\n",
       "      <th>price</th>\n",
       "    </tr>\n",
       "  </thead>\n",
       "  <tbody>\n",
       "    <tr>\n",
       "      <th>126</th>\n",
       "      <td>2019-01-24</td>\n",
       "      <td>279</td>\n",
       "    </tr>\n",
       "    <tr>\n",
       "      <th>127</th>\n",
       "      <td>2019-01-25</td>\n",
       "      <td>293</td>\n",
       "    </tr>\n",
       "    <tr>\n",
       "      <th>128</th>\n",
       "      <td>2019-01-26</td>\n",
       "      <td>293</td>\n",
       "    </tr>\n",
       "    <tr>\n",
       "      <th>129</th>\n",
       "      <td>2019-01-27</td>\n",
       "      <td>293</td>\n",
       "    </tr>\n",
       "    <tr>\n",
       "      <th>130</th>\n",
       "      <td>2019-01-28</td>\n",
       "      <td>287</td>\n",
       "    </tr>\n",
       "    <tr>\n",
       "      <th>131</th>\n",
       "      <td>2019-01-29</td>\n",
       "      <td>293</td>\n",
       "    </tr>\n",
       "    <tr>\n",
       "      <th>132</th>\n",
       "      <td>2019-01-30</td>\n",
       "      <td>293</td>\n",
       "    </tr>\n",
       "    <tr>\n",
       "      <th>133</th>\n",
       "      <td>2019-01-31</td>\n",
       "      <td>293</td>\n",
       "    </tr>\n",
       "    <tr>\n",
       "      <th>134</th>\n",
       "      <td>2019-02-01</td>\n",
       "      <td>293</td>\n",
       "    </tr>\n",
       "    <tr>\n",
       "      <th>135</th>\n",
       "      <td>2019-02-02</td>\n",
       "      <td>293</td>\n",
       "    </tr>\n",
       "    <tr>\n",
       "      <th>136</th>\n",
       "      <td>2019-02-03</td>\n",
       "      <td>293</td>\n",
       "    </tr>\n",
       "    <tr>\n",
       "      <th>137</th>\n",
       "      <td>2019-02-04</td>\n",
       "      <td>263</td>\n",
       "    </tr>\n",
       "    <tr>\n",
       "      <th>138</th>\n",
       "      <td>2019-02-05</td>\n",
       "      <td>345</td>\n",
       "    </tr>\n",
       "    <tr>\n",
       "      <th>139</th>\n",
       "      <td>2019-02-06</td>\n",
       "      <td>269</td>\n",
       "    </tr>\n",
       "  </tbody>\n",
       "</table>\n",
       "</div>"
      ],
      "text/plain": [
       "          date  price\n",
       "126 2019-01-24    279\n",
       "127 2019-01-25    293\n",
       "128 2019-01-26    293\n",
       "129 2019-01-27    293\n",
       "130 2019-01-28    287\n",
       "131 2019-01-29    293\n",
       "132 2019-01-30    293\n",
       "133 2019-01-31    293\n",
       "134 2019-02-01    293\n",
       "135 2019-02-02    293\n",
       "136 2019-02-03    293\n",
       "137 2019-02-04    263\n",
       "138 2019-02-05    345\n",
       "139 2019-02-06    269"
      ]
     },
     "execution_count": 31,
     "metadata": {},
     "output_type": "execute_result"
    }
   ],
   "source": [
    "book1 = df.loc[df['title'] == 'The Subtle Art of Not Giving a F*ck']\n",
    "book1 = book1.drop(columns='title')\n",
    "book1"
   ]
  },
  {
   "cell_type": "code",
   "execution_count": 32,
   "metadata": {},
   "outputs": [
    {
     "data": {
      "text/plain": [
       "DatetimeIndex(['2019-01-24', '2019-01-25', '2019-01-26', '2019-01-27',\n",
       "               '2019-01-28', '2019-01-29', '2019-01-30', '2019-01-31',\n",
       "               '2019-02-01', '2019-02-02', '2019-02-03', '2019-02-04',\n",
       "               '2019-02-05', '2019-02-06'],\n",
       "              dtype='datetime64[ns]', name='date', freq=None)"
      ]
     },
     "execution_count": 32,
     "metadata": {},
     "output_type": "execute_result"
    }
   ],
   "source": [
    "book1['date'] = pd.to_datetime(df['date'], infer_datetime_format=True)\n",
    "indexed_book1 = book1.set_index(['date'])\n",
    "indexed_book1.index"
   ]
  },
  {
   "cell_type": "code",
   "execution_count": 33,
   "metadata": {},
   "outputs": [
    {
     "name": "stderr",
     "output_type": "stream",
     "text": [
      "C:\\Users\\Shefali\\Anaconda3\\lib\\site-packages\\plotly\\offline\\offline.py:635: UserWarning:\n",
      "\n",
      "Your filename `basic-line` didn't end with .html. Adding .html to the end of your file.\n",
      "\n"
     ]
    },
    {
     "data": {
      "text/plain": [
       "'file://C:\\\\Users\\\\Shefali\\\\Desktop\\\\PY Work\\\\basic-line.html'"
      ]
     },
     "execution_count": 33,
     "metadata": {},
     "output_type": "execute_result"
    }
   ],
   "source": [
    "data = [go.Scatter(x= indexed_book1.index, y= indexed_book1.price)]\n",
    "plot(data, filename='basic-line')"
   ]
  },
  {
   "cell_type": "code",
   "execution_count": 34,
   "metadata": {},
   "outputs": [
    {
     "data": {
      "text/plain": [
       "(                 price\n",
       " date                  \n",
       " 2019-01-24  279.000000\n",
       " 2019-01-25  286.000000\n",
       " 2019-01-26  288.333333\n",
       " 2019-01-27  289.500000\n",
       " 2019-01-28  289.000000\n",
       " 2019-01-29  289.666667\n",
       " 2019-01-30  290.142857\n",
       " 2019-01-31  290.500000\n",
       " 2019-02-01  290.777778\n",
       " 2019-02-02  291.000000\n",
       " 2019-02-03  291.181818\n",
       " 2019-02-04  288.833333\n",
       " 2019-02-05  293.153846\n",
       " 2019-02-06  291.428571,                 price\n",
       " date                 \n",
       " 2019-01-24        NaN\n",
       " 2019-01-25   9.899495\n",
       " 2019-01-26   8.082904\n",
       " 2019-01-27   7.000000\n",
       " 2019-01-28   6.164414\n",
       " 2019-01-29   5.750362\n",
       " 2019-01-30   5.398412\n",
       " 2019-01-31   5.099020\n",
       " 2019-02-01   4.841946\n",
       " 2019-02-02   4.618802\n",
       " 2019-02-03   4.423080\n",
       " 2019-02-04   9.163498\n",
       " 2019-02-05  17.878507\n",
       " 2019-02-06  18.350076)"
      ]
     },
     "execution_count": 34,
     "metadata": {},
     "output_type": "execute_result"
    }
   ],
   "source": [
    "#Determining rolling statistics\n",
    "rollmean = indexed_book1.rolling(window='14d').mean()  #monthly basis\n",
    "rollstd = indexed_book1.rolling(window='14d').std()\n",
    "rollmean, rollstd"
   ]
  },
  {
   "cell_type": "code",
   "execution_count": 35,
   "metadata": {},
   "outputs": [
    {
     "name": "stderr",
     "output_type": "stream",
     "text": [
      "C:\\Users\\Shefali\\Anaconda3\\lib\\site-packages\\plotly\\offline\\offline.py:635: UserWarning:\n",
      "\n",
      "Your filename `styled-line` didn't end with .html. Adding .html to the end of your file.\n",
      "\n"
     ]
    },
    {
     "data": {
      "text/plain": [
       "'file://C:\\\\Users\\\\Shefali\\\\Desktop\\\\PY Work\\\\styled-line.html'"
      ]
     },
     "execution_count": 35,
     "metadata": {},
     "output_type": "execute_result"
    }
   ],
   "source": [
    "#Plotting Rolling Statistics\n",
    "\n",
    "trace1 = go.Scatter(x= indexed_book1.index, y= indexed_book1.price, name='Original')\n",
    "trace2 = go.Scatter(x= rollmean.index , y= rollmean.price, name= 'Rolling Mean')\n",
    "trace3 = go.Scatter(x= rollstd.index , y= rollstd.price, name= 'Rolling Std')\n",
    "data = [trace1, trace2, trace3]\n",
    "    # Edit the layout\n",
    "layout = dict(title = 'Rolling Mean and Standard Deviation',\n",
    "              xaxis = dict(title = 'Date'),\n",
    "              yaxis = dict(title = 'Price')\n",
    "              )\n",
    "fig = dict(data=data, layout=layout)\n",
    "plot(fig, filename='styled-line')"
   ]
  },
  {
   "cell_type": "code",
   "execution_count": 36,
   "metadata": {},
   "outputs": [
    {
     "name": "stdout",
     "output_type": "stream",
     "text": [
      "Test statistic                 0.000000\n",
      "p-value                        0.958532\n",
      "lags used                      6.000000\n",
      "number of observations used    7.000000\n",
      "Critical value (1%)           -4.938690\n",
      "Critical value (5%)           -3.477583\n",
      "Critical value (10%)          -2.843868\n",
      "dtype: float64\n"
     ]
    },
    {
     "name": "stderr",
     "output_type": "stream",
     "text": [
      "C:\\Users\\Shefali\\Anaconda3\\lib\\site-packages\\statsmodels\\regression\\linear_model.py:1510: RuntimeWarning:\n",
      "\n",
      "divide by zero encountered in double_scalars\n",
      "\n"
     ]
    }
   ],
   "source": [
    "#Dickey-Fuller test\n",
    "from statsmodels.tsa.stattools import adfuller\n",
    "\n",
    "dftest = adfuller(indexed_book1['price'], autolag='AIC')\n",
    "dfout = pd.Series(dftest[0:4], index= ['Test statistic','p-value','lags used','number of observations used'])\n",
    "for key,value in dftest[4].items():\n",
    "    dfout['Critical value (%s)'%key] = value\n",
    "print(dfout)\n"
   ]
  },
  {
   "cell_type": "code",
   "execution_count": 37,
   "metadata": {},
   "outputs": [],
   "source": [
    "#The test statistic is positive, meaning we are much less likely to reject the null hypothesis (it looks non-stationary).\n",
    "#Comparing the test statistic to the critical values, it looks like we would have to fail to reject the null hypothesis \n",
    "#that the time series is non-stationary and does have time-dependent structure."
   ]
  },
  {
   "cell_type": "code",
   "execution_count": 38,
   "metadata": {},
   "outputs": [
    {
     "name": "stderr",
     "output_type": "stream",
     "text": [
      "C:\\Users\\Shefali\\Anaconda3\\lib\\site-packages\\plotly\\offline\\offline.py:635: UserWarning:\n",
      "\n",
      "Your filename `line-mode` didn't end with .html. Adding .html to the end of your file.\n",
      "\n"
     ]
    },
    {
     "data": {
      "text/plain": [
       "'file://C:\\\\Users\\\\Shefali\\\\Desktop\\\\PY Work\\\\line-mode.html'"
      ]
     },
     "execution_count": 38,
     "metadata": {},
     "output_type": "execute_result"
    }
   ],
   "source": [
    "#log transform the dataset to make the distribution of values more linear and better meet the expectations of this statistical test\n",
    "import numpy as np\n",
    "indexed_book1_logscale = np.log(indexed_book1)\n",
    "\n",
    "data = [go.Scatter(x= indexed_book1_logscale.index, y= indexed_book1_logscale.price)]\n",
    "plot(data, filename='line-mode')"
   ]
  },
  {
   "cell_type": "code",
   "execution_count": 39,
   "metadata": {},
   "outputs": [
    {
     "data": {
      "text/plain": [
       "(               price\n",
       " date                \n",
       " 2019-01-24  5.631212\n",
       " 2019-01-25  5.655692\n",
       " 2019-01-26  5.663852\n",
       " 2019-01-27  5.667932\n",
       " 2019-01-28  5.666242\n",
       " 2019-01-29  5.668564\n",
       " 2019-01-30  5.670222\n",
       " 2019-01-31  5.671466\n",
       " 2019-02-01  5.672434\n",
       " 2019-02-02  5.673207\n",
       " 2019-02-03  5.673841\n",
       " 2019-02-04  5.665367\n",
       " 2019-02-05  5.679073\n",
       " 2019-02-06  5.673047,                price\n",
       " date                \n",
       " 2019-01-24       NaN\n",
       " 2019-01-25  0.034621\n",
       " 2019-01-26  0.028268\n",
       " 2019-01-27  0.024480\n",
       " 2019-01-28  0.021535\n",
       " 2019-01-29  0.020083\n",
       " 2019-01-30  0.018851\n",
       " 2019-01-31  0.017804\n",
       " 2019-02-01  0.016905\n",
       " 2019-02-02  0.016125\n",
       " 2019-02-03  0.015441\n",
       " 2019-02-04  0.032839\n",
       " 2019-02-05  0.058572\n",
       " 2019-02-06  0.060623)"
      ]
     },
     "execution_count": 39,
     "metadata": {},
     "output_type": "execute_result"
    }
   ],
   "source": [
    "# Moving Average with log timeseries\n",
    "\n",
    "moving_avg = indexed_book1_logscale.rolling(window='14d').mean()\n",
    "moving_std = indexed_book1_logscale.rolling(window='14d').std()\n",
    "moving_avg, moving_std"
   ]
  },
  {
   "cell_type": "code",
   "execution_count": 40,
   "metadata": {},
   "outputs": [
    {
     "name": "stderr",
     "output_type": "stream",
     "text": [
      "C:\\Users\\Shefali\\Anaconda3\\lib\\site-packages\\plotly\\offline\\offline.py:635: UserWarning:\n",
      "\n",
      "Your filename `basic-line` didn't end with .html. Adding .html to the end of your file.\n",
      "\n"
     ]
    },
    {
     "data": {
      "text/plain": [
       "'file://C:\\\\Users\\\\Shefali\\\\Desktop\\\\PY Work\\\\basic-line.html'"
      ]
     },
     "execution_count": 40,
     "metadata": {},
     "output_type": "execute_result"
    }
   ],
   "source": [
    "trace1 = go.Scatter(x= indexed_book1_logscale.index, y= indexed_book1_logscale.price)\n",
    "trace2 = go.Scatter(x= moving_avg.index , y= moving_avg.price)\n",
    "data = [trace1, trace2]\n",
    "plot(data, filename='basic-line')\n"
   ]
  },
  {
   "cell_type": "code",
   "execution_count": 41,
   "metadata": {},
   "outputs": [
    {
     "data": {
      "text/html": [
       "<div>\n",
       "<style scoped>\n",
       "    .dataframe tbody tr th:only-of-type {\n",
       "        vertical-align: middle;\n",
       "    }\n",
       "\n",
       "    .dataframe tbody tr th {\n",
       "        vertical-align: top;\n",
       "    }\n",
       "\n",
       "    .dataframe thead th {\n",
       "        text-align: right;\n",
       "    }\n",
       "</style>\n",
       "<table border=\"1\" class=\"dataframe\">\n",
       "  <thead>\n",
       "    <tr style=\"text-align: right;\">\n",
       "      <th></th>\n",
       "      <th>price</th>\n",
       "    </tr>\n",
       "    <tr>\n",
       "      <th>date</th>\n",
       "      <th></th>\n",
       "    </tr>\n",
       "  </thead>\n",
       "  <tbody>\n",
       "    <tr>\n",
       "      <th>2019-01-24</th>\n",
       "      <td>0.000000</td>\n",
       "    </tr>\n",
       "    <tr>\n",
       "      <th>2019-01-25</th>\n",
       "      <td>0.024480</td>\n",
       "    </tr>\n",
       "    <tr>\n",
       "      <th>2019-01-26</th>\n",
       "      <td>0.016320</td>\n",
       "    </tr>\n",
       "    <tr>\n",
       "      <th>2019-01-27</th>\n",
       "      <td>0.012240</td>\n",
       "    </tr>\n",
       "    <tr>\n",
       "      <th>2019-01-28</th>\n",
       "      <td>-0.006760</td>\n",
       "    </tr>\n",
       "    <tr>\n",
       "      <th>2019-01-29</th>\n",
       "      <td>0.011609</td>\n",
       "    </tr>\n",
       "    <tr>\n",
       "      <th>2019-01-30</th>\n",
       "      <td>0.009950</td>\n",
       "    </tr>\n",
       "    <tr>\n",
       "      <th>2019-01-31</th>\n",
       "      <td>0.008706</td>\n",
       "    </tr>\n",
       "    <tr>\n",
       "      <th>2019-02-01</th>\n",
       "      <td>0.007739</td>\n",
       "    </tr>\n",
       "    <tr>\n",
       "      <th>2019-02-02</th>\n",
       "      <td>0.006965</td>\n",
       "    </tr>\n",
       "    <tr>\n",
       "      <th>2019-02-03</th>\n",
       "      <td>0.006332</td>\n",
       "    </tr>\n",
       "    <tr>\n",
       "      <th>2019-02-04</th>\n",
       "      <td>-0.093213</td>\n",
       "    </tr>\n",
       "    <tr>\n",
       "      <th>2019-02-05</th>\n",
       "      <td>0.164472</td>\n",
       "    </tr>\n",
       "    <tr>\n",
       "      <th>2019-02-06</th>\n",
       "      <td>-0.078336</td>\n",
       "    </tr>\n",
       "  </tbody>\n",
       "</table>\n",
       "</div>"
      ],
      "text/plain": [
       "               price\n",
       "date                \n",
       "2019-01-24  0.000000\n",
       "2019-01-25  0.024480\n",
       "2019-01-26  0.016320\n",
       "2019-01-27  0.012240\n",
       "2019-01-28 -0.006760\n",
       "2019-01-29  0.011609\n",
       "2019-01-30  0.009950\n",
       "2019-01-31  0.008706\n",
       "2019-02-01  0.007739\n",
       "2019-02-02  0.006965\n",
       "2019-02-03  0.006332\n",
       "2019-02-04 -0.093213\n",
       "2019-02-05  0.164472\n",
       "2019-02-06 -0.078336"
      ]
     },
     "execution_count": 41,
     "metadata": {},
     "output_type": "execute_result"
    }
   ],
   "source": [
    "#Difference between log timeseries and moving average\n",
    "\n",
    "logminusMA = indexed_book1_logscale - moving_avg\n",
    "logminusMA"
   ]
  },
  {
   "cell_type": "code",
   "execution_count": 42,
   "metadata": {},
   "outputs": [
    {
     "name": "stderr",
     "output_type": "stream",
     "text": [
      "C:\\Users\\Shefali\\Anaconda3\\lib\\site-packages\\plotly\\offline\\offline.py:635: UserWarning:\n",
      "\n",
      "Your filename `styled-line` didn't end with .html. Adding .html to the end of your file.\n",
      "\n"
     ]
    },
    {
     "data": {
      "text/plain": [
       "'file://C:\\\\Users\\\\Shefali\\\\Desktop\\\\PY Work\\\\styled-line.html'"
      ]
     },
     "execution_count": 42,
     "metadata": {},
     "output_type": "execute_result"
    }
   ],
   "source": [
    "#Determining the Stationarity of data\n",
    "\n",
    "moving_avg = logminusMA.rolling(window='14d').mean()\n",
    "moving_std = logminusMA.rolling(window='14d').std()\n",
    "    \n",
    "trace1 = go.Scatter(x= logminusMA.index, y= logminusMA.price, name='Original')\n",
    "trace2 = go.Scatter(x= moving_avg.index , y= moving_avg.price, name= 'Rolling Mean')\n",
    "trace3 = go.Scatter(x= moving_std.index , y= moving_std.price, name= 'Rolling Std')\n",
    "data = [trace1, trace2, trace3]\n",
    "    # Edit the layout\n",
    "layout = dict(title = 'Rolling Mean and Standard Deviation',\n",
    "              xaxis = dict(title = 'Date'),\n",
    "              yaxis = dict(title = 'Price'))\n",
    "fig = dict(data=data, layout=layout)\n",
    "plot(fig, filename='styled-line')"
   ]
  },
  {
   "cell_type": "code",
   "execution_count": 43,
   "metadata": {},
   "outputs": [
    {
     "name": "stdout",
     "output_type": "stream",
     "text": [
      "Results of Dickey-Fuller test: \n",
      "Test statistic                -0.000000\n",
      "p-value                        0.958532\n",
      "lags used                      8.000000\n",
      "number of observations used    5.000000\n",
      "Critical value (1%)           -6.045114\n",
      "Critical value (5%)           -3.929280\n",
      "Critical value (10%)          -2.986810\n",
      "dtype: float64\n"
     ]
    }
   ],
   "source": [
    "print(\"Results of Dickey-Fuller test: \")\n",
    "dftest = adfuller(logminusMA['price'], autolag='AIC')\n",
    "dfout = pd.Series(dftest[0:4], index= ['Test statistic','p-value','lags used','number of observations used'])\n",
    "for key,value in dftest[4].items():\n",
    "    dfout['Critical value (%s)'%key] = value\n",
    "print(dfout)"
   ]
  },
  {
   "cell_type": "code",
   "execution_count": null,
   "metadata": {},
   "outputs": [],
   "source": []
  },
  {
   "cell_type": "code",
   "execution_count": 44,
   "metadata": {},
   "outputs": [
    {
     "data": {
      "text/html": [
       "<div>\n",
       "<style scoped>\n",
       "    .dataframe tbody tr th:only-of-type {\n",
       "        vertical-align: middle;\n",
       "    }\n",
       "\n",
       "    .dataframe tbody tr th {\n",
       "        vertical-align: top;\n",
       "    }\n",
       "\n",
       "    .dataframe thead th {\n",
       "        text-align: right;\n",
       "    }\n",
       "</style>\n",
       "<table border=\"1\" class=\"dataframe\">\n",
       "  <thead>\n",
       "    <tr style=\"text-align: right;\">\n",
       "      <th></th>\n",
       "      <th>price</th>\n",
       "    </tr>\n",
       "    <tr>\n",
       "      <th>date</th>\n",
       "      <th></th>\n",
       "    </tr>\n",
       "  </thead>\n",
       "  <tbody>\n",
       "    <tr>\n",
       "      <th>2019-01-24</th>\n",
       "      <td>5.631212</td>\n",
       "    </tr>\n",
       "    <tr>\n",
       "      <th>2019-01-25</th>\n",
       "      <td>5.667932</td>\n",
       "    </tr>\n",
       "    <tr>\n",
       "      <th>2019-01-26</th>\n",
       "      <td>5.676406</td>\n",
       "    </tr>\n",
       "    <tr>\n",
       "      <th>2019-01-27</th>\n",
       "      <td>5.678949</td>\n",
       "    </tr>\n",
       "    <tr>\n",
       "      <th>2019-01-28</th>\n",
       "      <td>5.665917</td>\n",
       "    </tr>\n",
       "    <tr>\n",
       "      <th>2019-01-29</th>\n",
       "      <td>5.675434</td>\n",
       "    </tr>\n",
       "    <tr>\n",
       "      <th>2019-01-30</th>\n",
       "      <td>5.678594</td>\n",
       "    </tr>\n",
       "    <tr>\n",
       "      <th>2019-01-31</th>\n",
       "      <td>5.679647</td>\n",
       "    </tr>\n",
       "    <tr>\n",
       "      <th>2019-02-01</th>\n",
       "      <td>5.679997</td>\n",
       "    </tr>\n",
       "    <tr>\n",
       "      <th>2019-02-02</th>\n",
       "      <td>5.680114</td>\n",
       "    </tr>\n",
       "    <tr>\n",
       "      <th>2019-02-03</th>\n",
       "      <td>5.680153</td>\n",
       "    </tr>\n",
       "    <tr>\n",
       "      <th>2019-02-04</th>\n",
       "      <td>5.608154</td>\n",
       "    </tr>\n",
       "    <tr>\n",
       "      <th>2019-02-05</th>\n",
       "      <td>5.765081</td>\n",
       "    </tr>\n",
       "    <tr>\n",
       "      <th>2019-02-06</th>\n",
       "      <td>5.651501</td>\n",
       "    </tr>\n",
       "  </tbody>\n",
       "</table>\n",
       "</div>"
      ],
      "text/plain": [
       "               price\n",
       "date                \n",
       "2019-01-24  5.631212\n",
       "2019-01-25  5.667932\n",
       "2019-01-26  5.676406\n",
       "2019-01-27  5.678949\n",
       "2019-01-28  5.665917\n",
       "2019-01-29  5.675434\n",
       "2019-01-30  5.678594\n",
       "2019-01-31  5.679647\n",
       "2019-02-01  5.679997\n",
       "2019-02-02  5.680114\n",
       "2019-02-03  5.680153\n",
       "2019-02-04  5.608154\n",
       "2019-02-05  5.765081\n",
       "2019-02-06  5.651501"
      ]
     },
     "execution_count": 44,
     "metadata": {},
     "output_type": "execute_result"
    }
   ],
   "source": [
    "#Calculate the weighted average to see the trend\n",
    "#DataFrame.ewm : Provides exponential weighted functions\n",
    "\n",
    "weighted_avg = indexed_book1_logscale.ewm(com=0.5).mean()\n",
    "weighted_avg"
   ]
  },
  {
   "cell_type": "code",
   "execution_count": 45,
   "metadata": {},
   "outputs": [
    {
     "name": "stderr",
     "output_type": "stream",
     "text": [
      "C:\\Users\\Shefali\\Anaconda3\\lib\\site-packages\\plotly\\offline\\offline.py:635: UserWarning:\n",
      "\n",
      "Your filename `basic-line` didn't end with .html. Adding .html to the end of your file.\n",
      "\n"
     ]
    },
    {
     "data": {
      "text/plain": [
       "'file://C:\\\\Users\\\\Shefali\\\\Desktop\\\\PY Work\\\\basic-line.html'"
      ]
     },
     "execution_count": 45,
     "metadata": {},
     "output_type": "execute_result"
    }
   ],
   "source": [
    "trace1 = go.Scatter(x= indexed_book1_logscale.index, y= indexed_book1_logscale.price)\n",
    "trace2 = go.Scatter(x= weighted_avg.index , y= weighted_avg.price)\n",
    "data = [trace1, trace2]\n",
    "plot(data, filename='basic-line')\n",
    "\n",
    "#As you can see, the trend is moving with the logged data with respect to time"
   ]
  },
  {
   "cell_type": "code",
   "execution_count": 46,
   "metadata": {},
   "outputs": [
    {
     "name": "stdout",
     "output_type": "stream",
     "text": [
      "               price\n",
      "date                \n",
      "2019-01-24  0.000000\n",
      "2019-01-25  0.012240\n",
      "2019-01-26  0.003766\n",
      "2019-01-27  0.001224\n",
      "2019-01-28 -0.006435\n",
      "2019-01-29  0.004739\n",
      "2019-01-30  0.001578\n",
      "2019-01-31  0.000526\n",
      "2019-02-01  0.000175\n",
      "2019-02-02  0.000058\n",
      "2019-02-03  0.000019\n",
      "2019-02-04 -0.036000\n",
      "2019-02-05  0.078464\n",
      "2019-02-06 -0.056790\n"
     ]
    },
    {
     "name": "stderr",
     "output_type": "stream",
     "text": [
      "C:\\Users\\Shefali\\Anaconda3\\lib\\site-packages\\plotly\\offline\\offline.py:635: UserWarning:\n",
      "\n",
      "Your filename `styled-line` didn't end with .html. Adding .html to the end of your file.\n",
      "\n"
     ]
    },
    {
     "data": {
      "text/plain": [
       "'file://C:\\\\Users\\\\Shefali\\\\Desktop\\\\PY Work\\\\styled-line.html'"
      ]
     },
     "execution_count": 46,
     "metadata": {},
     "output_type": "execute_result"
    }
   ],
   "source": [
    "#Difference between log timeseries and weighted average\n",
    "\n",
    "logminusWA = indexed_book1_logscale - weighted_avg\n",
    "print(logminusWA)\n",
    "\n",
    "#Determining the Stationarity of data\n",
    "\n",
    "moving_avg = logminusWA.rolling(window='14d').mean()\n",
    "moving_std = logminusWA.rolling(window='14d').std()\n",
    "    \n",
    "trace1 = go.Scatter(x= logminusWA.index, y= logminusWA.price, name='Original')\n",
    "trace2 = go.Scatter(x= moving_avg.index , y= moving_avg.price, name= 'Rolling Mean')\n",
    "trace3 = go.Scatter(x= moving_std.index , y= moving_std.price, name= 'Rolling Std')\n",
    "data = [trace1, trace2, trace3]\n",
    "    # Edit the layout\n",
    "layout = dict(title = 'Rolling Mean and Standard Deviation',\n",
    "              xaxis = dict(title = 'Date'),\n",
    "              yaxis = dict(title = 'Price'))\n",
    "fig = dict(data=data, layout=layout)\n",
    "plot(fig, filename='styled-line')"
   ]
  },
  {
   "cell_type": "code",
   "execution_count": 47,
   "metadata": {},
   "outputs": [
    {
     "name": "stdout",
     "output_type": "stream",
     "text": [
      "Results of Dickey-Fuller test: \n",
      "Test statistic                -0.000000\n",
      "p-value                        0.958532\n",
      "lags used                      7.000000\n",
      "number of observations used    6.000000\n",
      "Critical value (1%)           -5.354256\n",
      "Critical value (5%)           -3.646238\n",
      "Critical value (10%)          -2.901198\n",
      "dtype: float64\n"
     ]
    }
   ],
   "source": [
    "print(\"Results of Dickey-Fuller test: \")\n",
    "dftest = adfuller(logminusWA['price'], autolag='AIC')\n",
    "dfout = pd.Series(dftest[0:4], index= ['Test statistic','p-value','lags used','number of observations used'])\n",
    "for key,value in dftest[4].items():\n",
    "    dfout['Critical value (%s)'%key] = value\n",
    "print(dfout)"
   ]
  },
  {
   "cell_type": "code",
   "execution_count": 48,
   "metadata": {},
   "outputs": [],
   "source": [
    "# No difference in the p-value from original data and weighted average data\n",
    "# Here timeseries is not stationary"
   ]
  },
  {
   "cell_type": "code",
   "execution_count": 49,
   "metadata": {},
   "outputs": [
    {
     "name": "stderr",
     "output_type": "stream",
     "text": [
      "C:\\Users\\Shefali\\Anaconda3\\lib\\site-packages\\plotly\\offline\\offline.py:635: UserWarning:\n",
      "\n",
      "Your filename `basic-line` didn't end with .html. Adding .html to the end of your file.\n",
      "\n"
     ]
    },
    {
     "data": {
      "text/plain": [
       "'file://C:\\\\Users\\\\Shefali\\\\Desktop\\\\PY Work\\\\basic-line.html'"
      ]
     },
     "execution_count": 49,
     "metadata": {},
     "output_type": "execute_result"
    }
   ],
   "source": [
    "#Shifting the values\n",
    "\n",
    "indexed_book1_logscale_diffshift = indexed_book1_logscale - indexed_book1_logscale.shift()\n",
    "\n",
    "data = [go.Scatter(x= indexed_book1_logscale_diffshift.index, y= indexed_book1_logscale_diffshift.price)]\n",
    "plot(data, filename='basic-line')"
   ]
  },
  {
   "cell_type": "code",
   "execution_count": 51,
   "metadata": {},
   "outputs": [
    {
     "name": "stderr",
     "output_type": "stream",
     "text": [
      "C:\\Users\\Shefali\\Anaconda3\\lib\\site-packages\\plotly\\offline\\offline.py:635: UserWarning:\n",
      "\n",
      "Your filename `styled-line` didn't end with .html. Adding .html to the end of your file.\n",
      "\n"
     ]
    },
    {
     "data": {
      "text/plain": [
       "'file://C:\\\\Users\\\\Shefali\\\\Desktop\\\\PY Work\\\\styled-line.html'"
      ]
     },
     "execution_count": 51,
     "metadata": {},
     "output_type": "execute_result"
    }
   ],
   "source": [
    "indexed_book1_logscale_diffshift.dropna(inplace=True)\n",
    "\n",
    "#Determining the Stationarity of data\n",
    "\n",
    "moving_avg = indexed_book1_logscale_diffshift.rolling(window='14d').mean()\n",
    "moving_std = indexed_book1_logscale_diffshift.rolling(window='14d').std()\n",
    "    \n",
    "trace1 = go.Scatter(x= indexed_book1_logscale_diffshift.index, y= indexed_book1_logscale_diffshift.price, name='Original')\n",
    "trace2 = go.Scatter(x= moving_avg.index , y= moving_avg.price, name= 'Rolling Mean')\n",
    "trace3 = go.Scatter(x= moving_std.index , y= moving_std.price, name= 'Rolling Std')\n",
    "data = [trace1, trace2, trace3]\n",
    "    # Edit the layout\n",
    "layout = dict(title = 'Rolling Mean and Standard Deviation',\n",
    "              xaxis = dict(title = 'Date'),\n",
    "              yaxis = dict(title = 'Price'))\n",
    "fig = dict(data=data, layout=layout)\n",
    "plot(fig, filename='styled-line')"
   ]
  },
  {
   "cell_type": "code",
   "execution_count": 52,
   "metadata": {},
   "outputs": [
    {
     "name": "stdout",
     "output_type": "stream",
     "text": [
      "Results of Dickey-Fuller test: \n",
      "Test statistic                -0.000000\n",
      "p-value                        0.958532\n",
      "lags used                      6.000000\n",
      "number of observations used    6.000000\n",
      "Critical value (1%)           -5.354256\n",
      "Critical value (5%)           -3.646238\n",
      "Critical value (10%)          -2.901198\n",
      "dtype: float64\n"
     ]
    }
   ],
   "source": [
    "print(\"Results of Dickey-Fuller test: \")\n",
    "dftest = adfuller(indexed_book1_logscale_diffshift['price'], autolag='AIC')\n",
    "dfout = pd.Series(dftest[0:4], index= ['Test statistic','p-value','lags used','number of observations used'])\n",
    "for key,value in dftest[4].items():\n",
    "    dfout['Critical value (%s)'%key] = value\n",
    "print(dfout)\n",
    "\n",
    "# Here timeseries is stationary and null-hypothesis is rejected"
   ]
  },
  {
   "cell_type": "code",
   "execution_count": 53,
   "metadata": {},
   "outputs": [
    {
     "name": "stdout",
     "output_type": "stream",
     "text": [
      "This is the format of your plot grid:\n",
      "[ (1,1) x1,y1 ]\n",
      "[ (2,1) x2,y2 ]\n",
      "[ (3,1) x3,y3 ]\n",
      "[ (4,1) x4,y4 ]\n",
      "\n"
     ]
    },
    {
     "name": "stderr",
     "output_type": "stream",
     "text": [
      "C:\\Users\\Shefali\\Anaconda3\\lib\\site-packages\\plotly\\offline\\offline.py:635: UserWarning:\n",
      "\n",
      "Your filename `stacked-subplots` didn't end with .html. Adding .html to the end of your file.\n",
      "\n"
     ]
    },
    {
     "data": {
      "text/plain": [
       "'file://C:\\\\Users\\\\Shefali\\\\Desktop\\\\PY Work\\\\stacked-subplots.html'"
      ]
     },
     "execution_count": 53,
     "metadata": {},
     "output_type": "execute_result"
    }
   ],
   "source": [
    "from statsmodels.tsa.seasonal import seasonal_decompose\n",
    "\n",
    "decomposition = seasonal_decompose(indexed_book1_logscale)\n",
    "\n",
    "trend = decomposition.trend\n",
    "seasonal = decomposition.seasonal\n",
    "residual = decomposition.resid\n",
    "\n",
    "from plotly import tools\n",
    "\n",
    "trace1 = go.Scatter(x= indexed_book1_logscale.index, y= indexed_book1_logscale.price, name='Original')\n",
    "trace2 = go.Scatter(x= trend.index, y= trend.price, name='Trend')\n",
    "trace3 = go.Scatter(x= seasonal.index, y= seasonal.price, name='Seasonality')\n",
    "trace4 = go.Scatter(x= residual.index, y= residual.price, name='Residual')\n",
    "\n",
    "fig = tools.make_subplots(rows=4, cols=1)\n",
    "\n",
    "fig.append_trace(trace1, 1, 1)\n",
    "fig.append_trace(trace2, 2, 1)\n",
    "fig.append_trace(trace3, 3, 1)\n",
    "fig.append_trace(trace4, 4, 1)\n",
    "\n",
    "\n",
    "fig['layout'].update(title='Stacked subplots')\n",
    "plot(fig, filename='stacked-subplots')"
   ]
  },
  {
   "cell_type": "code",
   "execution_count": 54,
   "metadata": {},
   "outputs": [
    {
     "name": "stderr",
     "output_type": "stream",
     "text": [
      "C:\\Users\\Shefali\\Anaconda3\\lib\\site-packages\\plotly\\offline\\offline.py:635: UserWarning:\n",
      "\n",
      "Your filename `styled-line` didn't end with .html. Adding .html to the end of your file.\n",
      "\n"
     ]
    },
    {
     "data": {
      "text/plain": [
       "'file://C:\\\\Users\\\\Shefali\\\\Desktop\\\\PY Work\\\\styled-line.html'"
      ]
     },
     "execution_count": 54,
     "metadata": {},
     "output_type": "execute_result"
    }
   ],
   "source": [
    "#Residuals are irregualr in nature\n",
    "#So checking noise stationarity\n",
    "\n",
    "decomposed_logdata = residual\n",
    "decomposed_logdata.dropna(inplace=True)\n",
    "\n",
    "#Determining the Stationarity of data\n",
    "\n",
    "moving_avg = decomposed_logdata.rolling(window='14d').mean()\n",
    "moving_std = decomposed_logdata.rolling(window='14d').std()\n",
    "    \n",
    "trace1 = go.Scatter(x= decomposed_logdata.index, y= decomposed_logdata.price, name='Original')\n",
    "trace2 = go.Scatter(x= moving_avg.index , y= moving_avg.price, name= 'Rolling Mean')\n",
    "trace3 = go.Scatter(x= moving_std.index , y= moving_std.price, name= 'Rolling Std')\n",
    "data = [trace1, trace2, trace3]\n",
    "    # Edit the layout\n",
    "layout = dict(title = 'Rolling Mean and Standard Deviation',\n",
    "              xaxis = dict(title = 'Date'),\n",
    "              yaxis = dict(title = 'Price'))\n",
    "fig = dict(data=data, layout=layout)\n",
    "plot(fig, filename='styled-line')"
   ]
  },
  {
   "cell_type": "code",
   "execution_count": 55,
   "metadata": {},
   "outputs": [
    {
     "name": "stderr",
     "output_type": "stream",
     "text": [
      "C:\\Users\\Shefali\\Anaconda3\\lib\\site-packages\\statsmodels\\regression\\linear_model.py:1283: RuntimeWarning:\n",
      "\n",
      "invalid value encountered in sqrt\n",
      "\n",
      "C:\\Users\\Shefali\\Anaconda3\\lib\\site-packages\\statsmodels\\regression\\linear_model.py:1275: RuntimeWarning:\n",
      "\n",
      "invalid value encountered in double_scalars\n",
      "\n"
     ]
    },
    {
     "data": {
      "text/plain": [
       "'file://C:\\\\Users\\\\Shefali\\\\Desktop\\\\PY Work\\\\temp-plot.html'"
      ]
     },
     "execution_count": 55,
     "metadata": {},
     "output_type": "execute_result"
    }
   ],
   "source": [
    "#ACF and PACF plots\n",
    "\n",
    "from statsmodels.tsa.stattools import acf, pacf\n",
    "\n",
    "lag_acf = acf(indexed_book1_logscale_diffshift)\n",
    "lag_pacf = pacf(indexed_book1_logscale_diffshift)\n",
    "#lag_acf,lag_pacf\n",
    "\n",
    "#ACF\n",
    "#trace1 = go.Scatter(y= lag_acf, name='Autocorrelation Function', type='bar')\n",
    "trace1 = {\"y\": lag_acf, \"name\": \"Autocorrelation Function\", \"type\": \"bar\"}\n",
    "trace2 = {\"y\": lag_pacf, \"name\": \"Partial Autocorrelation Function\", \"type\": \"bar\"}\n",
    "#trace2 = go.Scatter(y= lag_pacf, name='Partial Autocorrelation Function', type='bar')\n",
    "\n",
    "data = [trace1, trace2]\n",
    "layout = dict(title = 'ACF and PACF Plots')\n",
    "fig = dict(data=data, layout=layout)\n",
    "plot(fig)"
   ]
  },
  {
   "cell_type": "code",
   "execution_count": 66,
   "metadata": {},
   "outputs": [
    {
     "name": "stderr",
     "output_type": "stream",
     "text": [
      "C:\\Users\\Shefali\\Anaconda3\\lib\\site-packages\\statsmodels\\tsa\\base\\tsa_model.py:171: ValueWarning:\n",
      "\n",
      "No frequency information was provided, so inferred frequency D will be used.\n",
      "\n",
      "C:\\Users\\Shefali\\Anaconda3\\lib\\site-packages\\statsmodels\\tsa\\base\\tsa_model.py:171: ValueWarning:\n",
      "\n",
      "No frequency information was provided, so inferred frequency D will be used.\n",
      "\n"
     ]
    },
    {
     "ename": "ValueError",
     "evalue": "The computed initial AR coefficients are not stationary\nYou should induce stationarity, choose a different model order, or you can\npass your own start_params.",
     "output_type": "error",
     "traceback": [
      "\u001b[1;31m---------------------------------------------------------------------------\u001b[0m",
      "\u001b[1;31mValueError\u001b[0m                                Traceback (most recent call last)",
      "\u001b[1;32m<ipython-input-66-d131d16e7cc3>\u001b[0m in \u001b[0;36m<module>\u001b[1;34m\u001b[0m\n\u001b[0;32m      3\u001b[0m \u001b[1;33m\u001b[0m\u001b[0m\n\u001b[0;32m      4\u001b[0m \u001b[0mmodel\u001b[0m \u001b[1;33m=\u001b[0m \u001b[0mARIMA\u001b[0m\u001b[1;33m(\u001b[0m\u001b[0mindexed_book1_logscale\u001b[0m\u001b[1;33m,\u001b[0m \u001b[0morder\u001b[0m\u001b[1;33m=\u001b[0m \u001b[1;33m(\u001b[0m\u001b[1;36m3\u001b[0m\u001b[1;33m,\u001b[0m\u001b[1;36m2\u001b[0m\u001b[1;33m,\u001b[0m\u001b[1;36m3\u001b[0m\u001b[1;33m)\u001b[0m\u001b[1;33m)\u001b[0m\u001b[1;33m\u001b[0m\u001b[1;33m\u001b[0m\u001b[0m\n\u001b[1;32m----> 5\u001b[1;33m \u001b[0mresults_AR\u001b[0m \u001b[1;33m=\u001b[0m \u001b[0mmodel\u001b[0m\u001b[1;33m.\u001b[0m\u001b[0mfit\u001b[0m\u001b[1;33m(\u001b[0m\u001b[0mdisp\u001b[0m\u001b[1;33m=\u001b[0m\u001b[1;33m-\u001b[0m\u001b[1;36m1\u001b[0m\u001b[1;33m)\u001b[0m\u001b[1;33m\u001b[0m\u001b[1;33m\u001b[0m\u001b[0m\n\u001b[0m\u001b[0;32m      6\u001b[0m \u001b[1;33m\u001b[0m\u001b[0m\n\u001b[0;32m      7\u001b[0m \u001b[0mprint\u001b[0m\u001b[1;33m(\u001b[0m\u001b[1;34m\"Plotting AR Model...\"\u001b[0m\u001b[1;33m)\u001b[0m\u001b[1;33m\u001b[0m\u001b[1;33m\u001b[0m\u001b[0m\n",
      "\u001b[1;32m~\\Anaconda3\\lib\\site-packages\\statsmodels\\tsa\\arima_model.py\u001b[0m in \u001b[0;36mfit\u001b[1;34m(self, start_params, trend, method, transparams, solver, maxiter, full_output, disp, callback, start_ar_lags, **kwargs)\u001b[0m\n\u001b[0;32m   1155\u001b[0m                                            \u001b[0mmethod\u001b[0m\u001b[1;33m,\u001b[0m \u001b[0mtransparams\u001b[0m\u001b[1;33m,\u001b[0m \u001b[0msolver\u001b[0m\u001b[1;33m,\u001b[0m\u001b[1;33m\u001b[0m\u001b[1;33m\u001b[0m\u001b[0m\n\u001b[0;32m   1156\u001b[0m                                            \u001b[0mmaxiter\u001b[0m\u001b[1;33m,\u001b[0m \u001b[0mfull_output\u001b[0m\u001b[1;33m,\u001b[0m \u001b[0mdisp\u001b[0m\u001b[1;33m,\u001b[0m\u001b[1;33m\u001b[0m\u001b[1;33m\u001b[0m\u001b[0m\n\u001b[1;32m-> 1157\u001b[1;33m                                            callback, start_ar_lags, **kwargs)\n\u001b[0m\u001b[0;32m   1158\u001b[0m         \u001b[0mnormalized_cov_params\u001b[0m \u001b[1;33m=\u001b[0m \u001b[1;32mNone\u001b[0m  \u001b[1;31m# TODO: fix this?\u001b[0m\u001b[1;33m\u001b[0m\u001b[1;33m\u001b[0m\u001b[0m\n\u001b[0;32m   1159\u001b[0m         arima_fit = ARIMAResults(self, mlefit._results.params,\n",
      "\u001b[1;32m~\\Anaconda3\\lib\\site-packages\\statsmodels\\tsa\\arima_model.py\u001b[0m in \u001b[0;36mfit\u001b[1;34m(self, start_params, trend, method, transparams, solver, maxiter, full_output, disp, callback, start_ar_lags, **kwargs)\u001b[0m\n\u001b[0;32m    944\u001b[0m         \u001b[1;32melse\u001b[0m\u001b[1;33m:\u001b[0m  \u001b[1;31m# estimate starting parameters\u001b[0m\u001b[1;33m\u001b[0m\u001b[1;33m\u001b[0m\u001b[0m\n\u001b[0;32m    945\u001b[0m             start_params = self._fit_start_params((k_ar, k_ma, k), method,\n\u001b[1;32m--> 946\u001b[1;33m                                                   start_ar_lags)\n\u001b[0m\u001b[0;32m    947\u001b[0m \u001b[1;33m\u001b[0m\u001b[0m\n\u001b[0;32m    948\u001b[0m         \u001b[1;32mif\u001b[0m \u001b[0mtransparams\u001b[0m\u001b[1;33m:\u001b[0m  \u001b[1;31m# transform initial parameters to ensure invertibility\u001b[0m\u001b[1;33m\u001b[0m\u001b[1;33m\u001b[0m\u001b[0m\n",
      "\u001b[1;32m~\\Anaconda3\\lib\\site-packages\\statsmodels\\tsa\\arima_model.py\u001b[0m in \u001b[0;36m_fit_start_params\u001b[1;34m(self, order, method, start_ar_lags)\u001b[0m\n\u001b[0;32m    560\u001b[0m             \u001b[0mfunc\u001b[0m \u001b[1;33m=\u001b[0m \u001b[1;32mlambda\u001b[0m \u001b[0mparams\u001b[0m\u001b[1;33m:\u001b[0m \u001b[1;33m-\u001b[0m\u001b[0mself\u001b[0m\u001b[1;33m.\u001b[0m\u001b[0mloglike_css\u001b[0m\u001b[1;33m(\u001b[0m\u001b[0mparams\u001b[0m\u001b[1;33m)\u001b[0m\u001b[1;33m\u001b[0m\u001b[1;33m\u001b[0m\u001b[0m\n\u001b[0;32m    561\u001b[0m             \u001b[1;31m#start_params = [.1]*(k_ar+k_ma+k_exog) # different one for k?\u001b[0m\u001b[1;33m\u001b[0m\u001b[1;33m\u001b[0m\u001b[1;33m\u001b[0m\u001b[0m\n\u001b[1;32m--> 562\u001b[1;33m             \u001b[0mstart_params\u001b[0m \u001b[1;33m=\u001b[0m \u001b[0mself\u001b[0m\u001b[1;33m.\u001b[0m\u001b[0m_fit_start_params_hr\u001b[0m\u001b[1;33m(\u001b[0m\u001b[0morder\u001b[0m\u001b[1;33m,\u001b[0m \u001b[0mstart_ar_lags\u001b[0m\u001b[1;33m)\u001b[0m\u001b[1;33m\u001b[0m\u001b[1;33m\u001b[0m\u001b[0m\n\u001b[0m\u001b[0;32m    563\u001b[0m             \u001b[1;32mif\u001b[0m \u001b[0mself\u001b[0m\u001b[1;33m.\u001b[0m\u001b[0mtransparams\u001b[0m\u001b[1;33m:\u001b[0m\u001b[1;33m\u001b[0m\u001b[1;33m\u001b[0m\u001b[0m\n\u001b[0;32m    564\u001b[0m                 \u001b[0mstart_params\u001b[0m \u001b[1;33m=\u001b[0m \u001b[0mself\u001b[0m\u001b[1;33m.\u001b[0m\u001b[0m_invtransparams\u001b[0m\u001b[1;33m(\u001b[0m\u001b[0mstart_params\u001b[0m\u001b[1;33m)\u001b[0m\u001b[1;33m\u001b[0m\u001b[1;33m\u001b[0m\u001b[0m\n",
      "\u001b[1;32m~\\Anaconda3\\lib\\site-packages\\statsmodels\\tsa\\arima_model.py\u001b[0m in \u001b[0;36m_fit_start_params_hr\u001b[1;34m(self, order, start_ar_lags)\u001b[0m\n\u001b[0;32m    539\u001b[0m         if p and not np.all(np.abs(np.roots(np.r_[1, -start_params[k:k + p]]\n\u001b[0;32m    540\u001b[0m                                             )) < 1):\n\u001b[1;32m--> 541\u001b[1;33m             raise ValueError(\"The computed initial AR coefficients are not \"\n\u001b[0m\u001b[0;32m    542\u001b[0m                              \u001b[1;34m\"stationary\\nYou should induce stationarity, \"\u001b[0m\u001b[1;33m\u001b[0m\u001b[1;33m\u001b[0m\u001b[0m\n\u001b[0;32m    543\u001b[0m                              \u001b[1;34m\"choose a different model order, or you can\\n\"\u001b[0m\u001b[1;33m\u001b[0m\u001b[1;33m\u001b[0m\u001b[0m\n",
      "\u001b[1;31mValueError\u001b[0m: The computed initial AR coefficients are not stationary\nYou should induce stationarity, choose a different model order, or you can\npass your own start_params."
     ]
    }
   ],
   "source": [
    "#AR Model\n",
    "from statsmodels.tsa.arima_model import ARIMA\n",
    "\n",
    "model = ARIMA(indexed_book1_logscale, order= (3,2,3))\n",
    "results_AR = model.fit(disp=-1)\n",
    "\n",
    "print(\"Plotting AR Model...\")\n",
    "trace1 = go.Scatter(x= indexed_book1_logscale_diffshift.index, y= indexed_book1_logscale_diffshift.price, name='Original')\n",
    "trace2 = go.Scatter(y=results_AR.fittedvalues, name='AR fitted values')\n",
    "\n",
    "data = [trace1, trace2]\n",
    "layout = dict(title = 'RSS: %.4f'%sum((results_AR.fittedvalues-indexed_book1_logscale_diffshift.price)**2))\n",
    "fig = dict(data=data, layout=layout)\n",
    "plot(fig)"
   ]
  },
  {
   "cell_type": "code",
   "execution_count": 29,
   "metadata": {},
   "outputs": [
    {
     "name": "stdout",
     "output_type": "stream",
     "text": [
      "Plotting MA Model...\n"
     ]
    },
    {
     "name": "stderr",
     "output_type": "stream",
     "text": [
      "C:\\Users\\Shefali\\Anaconda3\\lib\\site-packages\\statsmodels\\tsa\\base\\tsa_model.py:171: ValueWarning:\n",
      "\n",
      "No frequency information was provided, so inferred frequency D will be used.\n",
      "\n",
      "C:\\Users\\Shefali\\Anaconda3\\lib\\site-packages\\statsmodels\\tsa\\base\\tsa_model.py:171: ValueWarning:\n",
      "\n",
      "No frequency information was provided, so inferred frequency D will be used.\n",
      "\n"
     ]
    },
    {
     "data": {
      "text/plain": [
       "'file://C:\\\\Users\\\\Shefali\\\\Desktop\\\\PY Work\\\\temp-plot.html'"
      ]
     },
     "execution_count": 29,
     "metadata": {},
     "output_type": "execute_result"
    }
   ],
   "source": [
    "#MA Model\n",
    "from statsmodels.tsa.arima_model import ARIMA\n",
    "\n",
    "model = ARIMA(indexed_book1_logscale, order= (0,1,0))\n",
    "results_MA = model.fit(disp=-1)\n",
    "\n",
    "print(\"Plotting MA Model...\")\n",
    "trace1 = go.Scatter(x= indexed_book1_logscale_diffshift.index, y= indexed_book1_logscale_diffshift.price, name='Original')\n",
    "trace2 = go.Scatter(y=results_MA.fittedvalues, name='MA fitted values')\n",
    "\n",
    "data = [trace1, trace2]\n",
    "layout = dict(title = 'RSS: %.4f'%sum((results_MA.fittedvalues-indexed_book1_logscale_diffshift.price)**2))\n",
    "fig = dict(data=data, layout=layout)\n",
    "plot(fig)"
   ]
  },
  {
   "cell_type": "code",
   "execution_count": 30,
   "metadata": {},
   "outputs": [],
   "source": [
    "#AR Model is better as it has less RSS value than MA Model"
   ]
  },
  {
   "cell_type": "code",
   "execution_count": 31,
   "metadata": {},
   "outputs": [
    {
     "name": "stdout",
     "output_type": "stream",
     "text": [
      "date\n",
      "2019-01-25   -0.021519\n",
      "2019-01-26   -0.028357\n",
      "2019-01-27   -0.046141\n",
      "2019-01-28    0.368836\n",
      "2019-01-29   -0.186715\n",
      "2019-01-30    0.037379\n",
      "2019-01-31   -0.050376\n",
      "2019-02-01    0.029898\n",
      "2019-02-02   -0.146396\n",
      "2019-02-03   -0.127493\n",
      "2019-02-04   -0.029135\n",
      "2019-02-05   -0.019370\n",
      "2019-02-06   -0.017520\n",
      "dtype: float64\n",
      "date\n",
      "2019-01-25   -0.021519\n",
      "2019-01-26   -0.049876\n",
      "2019-01-27   -0.096018\n",
      "2019-01-28    0.272819\n",
      "2019-01-29    0.086103\n",
      "2019-01-30    0.123482\n",
      "2019-01-31    0.073107\n",
      "2019-02-01    0.103004\n",
      "2019-02-02   -0.043391\n",
      "2019-02-03   -0.170884\n",
      "2019-02-04   -0.200019\n",
      "2019-02-05   -0.219389\n",
      "2019-02-06   -0.236910\n",
      "dtype: float64\n"
     ]
    }
   ],
   "source": [
    "prediction = pd.Series(results_AR.fittedvalues, copy=True)\n",
    "print(prediction)\n",
    "\n",
    "prediction_cumsum = prediction.cumsum()\n",
    "print(prediction_cumsum)"
   ]
  },
  {
   "cell_type": "code",
   "execution_count": 32,
   "metadata": {},
   "outputs": [
    {
     "name": "stderr",
     "output_type": "stream",
     "text": [
      "C:\\Users\\Shefali\\Anaconda3\\lib\\site-packages\\ipykernel_launcher.py:1: DeprecationWarning:\n",
      "\n",
      "\n",
      ".ix is deprecated. Please use\n",
      ".loc for label based indexing or\n",
      ".iloc for positional indexing\n",
      "\n",
      "See the documentation here:\n",
      "http://pandas.pydata.org/pandas-docs/stable/indexing.html#ix-indexer-is-deprecated\n",
      "\n"
     ]
    },
    {
     "data": {
      "text/plain": [
       "date\n",
       "2019-01-24    5.590987\n",
       "2019-01-25    5.569468\n",
       "2019-01-26    5.541111\n",
       "2019-01-27    5.494969\n",
       "2019-01-28    5.863806\n",
       "2019-01-29    5.677090\n",
       "2019-01-30    5.714469\n",
       "2019-01-31    5.664094\n",
       "2019-02-01    5.693991\n",
       "2019-02-02    5.547596\n",
       "2019-02-03    5.420103\n",
       "2019-02-04    5.390968\n",
       "2019-02-05    5.371598\n",
       "2019-02-06    5.354077\n",
       "dtype: float64"
      ]
     },
     "execution_count": 32,
     "metadata": {},
     "output_type": "execute_result"
    }
   ],
   "source": [
    "prediction_log = pd.Series(indexed_book1_logscale.price.ix[0], index = indexed_book1_logscale.index)\n",
    "prediction_log = prediction_log.add(prediction_cumsum, fill_value=0)\n",
    "prediction_log"
   ]
  },
  {
   "cell_type": "code",
   "execution_count": 33,
   "metadata": {},
   "outputs": [
    {
     "data": {
      "text/plain": [
       "'file://C:\\\\Users\\\\Shefali\\\\Desktop\\\\PY Work\\\\temp-plot.html'"
      ]
     },
     "execution_count": 33,
     "metadata": {},
     "output_type": "execute_result"
    }
   ],
   "source": [
    "prediction_ARIMA = np.exp(prediction_log)\n",
    "\n",
    "trace1 = go.Scatter(x= indexed_book1.index, y= indexed_book1.price, name='Original data')\n",
    "trace2 = go.Scatter(y=prediction_ARIMA, name='prdiction')\n",
    "\n",
    "data = [trace1, trace2]\n",
    "layout = dict(title = \"Predictions\")\n",
    "fig = dict(data=data, layout=layout)\n",
    "plot(fig)"
   ]
  },
  {
   "cell_type": "code",
   "execution_count": 34,
   "metadata": {},
   "outputs": [
    {
     "data": {
      "text/html": [
       "<div>\n",
       "<style scoped>\n",
       "    .dataframe tbody tr th:only-of-type {\n",
       "        vertical-align: middle;\n",
       "    }\n",
       "\n",
       "    .dataframe tbody tr th {\n",
       "        vertical-align: top;\n",
       "    }\n",
       "\n",
       "    .dataframe thead th {\n",
       "        text-align: right;\n",
       "    }\n",
       "</style>\n",
       "<table border=\"1\" class=\"dataframe\">\n",
       "  <thead>\n",
       "    <tr style=\"text-align: right;\">\n",
       "      <th></th>\n",
       "      <th>price</th>\n",
       "    </tr>\n",
       "    <tr>\n",
       "      <th>date</th>\n",
       "      <th></th>\n",
       "    </tr>\n",
       "  </thead>\n",
       "  <tbody>\n",
       "    <tr>\n",
       "      <th>2019-01-24</th>\n",
       "      <td>5.590987</td>\n",
       "    </tr>\n",
       "    <tr>\n",
       "      <th>2019-01-25</th>\n",
       "      <td>5.579730</td>\n",
       "    </tr>\n",
       "    <tr>\n",
       "      <th>2019-01-26</th>\n",
       "      <td>5.579730</td>\n",
       "    </tr>\n",
       "    <tr>\n",
       "      <th>2019-01-27</th>\n",
       "      <td>5.192957</td>\n",
       "    </tr>\n",
       "    <tr>\n",
       "      <th>2019-01-28</th>\n",
       "      <td>5.579730</td>\n",
       "    </tr>\n",
       "    <tr>\n",
       "      <th>2019-01-29</th>\n",
       "      <td>5.347108</td>\n",
       "    </tr>\n",
       "    <tr>\n",
       "      <th>2019-01-30</th>\n",
       "      <td>5.347108</td>\n",
       "    </tr>\n",
       "    <tr>\n",
       "      <th>2019-01-31</th>\n",
       "      <td>5.347108</td>\n",
       "    </tr>\n",
       "    <tr>\n",
       "      <th>2019-02-01</th>\n",
       "      <td>5.411646</td>\n",
       "    </tr>\n",
       "    <tr>\n",
       "      <th>2019-02-02</th>\n",
       "      <td>5.411646</td>\n",
       "    </tr>\n",
       "    <tr>\n",
       "      <th>2019-02-03</th>\n",
       "      <td>5.347108</td>\n",
       "    </tr>\n",
       "    <tr>\n",
       "      <th>2019-02-04</th>\n",
       "      <td>5.347108</td>\n",
       "    </tr>\n",
       "    <tr>\n",
       "      <th>2019-02-05</th>\n",
       "      <td>5.323010</td>\n",
       "    </tr>\n",
       "    <tr>\n",
       "      <th>2019-02-06</th>\n",
       "      <td>5.231109</td>\n",
       "    </tr>\n",
       "  </tbody>\n",
       "</table>\n",
       "</div>"
      ],
      "text/plain": [
       "               price\n",
       "date                \n",
       "2019-01-24  5.590987\n",
       "2019-01-25  5.579730\n",
       "2019-01-26  5.579730\n",
       "2019-01-27  5.192957\n",
       "2019-01-28  5.579730\n",
       "2019-01-29  5.347108\n",
       "2019-01-30  5.347108\n",
       "2019-01-31  5.347108\n",
       "2019-02-01  5.411646\n",
       "2019-02-02  5.411646\n",
       "2019-02-03  5.347108\n",
       "2019-02-04  5.347108\n",
       "2019-02-05  5.323010\n",
       "2019-02-06  5.231109"
      ]
     },
     "execution_count": 34,
     "metadata": {},
     "output_type": "execute_result"
    }
   ],
   "source": [
    "indexed_book1_logscale"
   ]
  },
  {
   "cell_type": "code",
   "execution_count": 36,
   "metadata": {},
   "outputs": [
    {
     "data": {
      "text/plain": [
       "(array([5.28176201, 5.23875007, 5.21233761, 5.18229619, 5.18405836,\n",
       "        5.14553132, 5.12752479]),\n",
       " array([0.10117409, 0.10203266, 0.10674256, 0.11139179, 0.12005228,\n",
       "        0.12046419, 0.1263979 ]),\n",
       " array([[5.08346445, 5.48005957],\n",
       "        [5.03876974, 5.4387304 ],\n",
       "        [5.00312603, 5.42154918],\n",
       "        [4.96397228, 5.40062009],\n",
       "        [4.94876022, 5.4193565 ],\n",
       "        [4.90942584, 5.3816368 ],\n",
       "        [4.87978946, 5.37526012]]))"
      ]
     },
     "execution_count": 36,
     "metadata": {},
     "output_type": "execute_result"
    },
    {
     "data": {
      "image/png": "[encoded data removed]",
      "text/plain": [
       "<Figure size 432x288 with 1 Axes>"
      ]
     },
     "metadata": {
      "needs_background": "light"
     },
     "output_type": "display_data"
    }
   ],
   "source": [
    "forecast = results_AR.forecast(steps=7)\n",
    "#print(results_AR.forecast(steps=7))\n",
    "\n",
    "results_AR.plot_predict(1,21)\n",
    "results_AR.forecast(steps=7)"
   ]
  },
  {
   "cell_type": "code",
   "execution_count": null,
   "metadata": {},
   "outputs": [],
   "source": []
  }
 ],
 "metadata": {
  "kernelspec": {
   "display_name": "Python 3",
   "language": "python",
   "name": "python3"
  },
  "language_info": {
   "codemirror_mode": {
    "name": "ipython",
    "version": 3
   },
   "file_extension": ".py",
   "mimetype": "text/x-python",
   "name": "python",
   "nbconvert_exporter": "python",
   "pygments_lexer": "ipython3",
   "version": "3.7.1"
  }
 },
 "nbformat": 4,
 "nbformat_minor": 2
}
