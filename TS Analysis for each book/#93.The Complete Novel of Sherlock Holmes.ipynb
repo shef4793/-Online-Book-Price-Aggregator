{
 "cells": [
  {
   "cell_type": "code",
   "execution_count": 1,
   "metadata": {},
   "outputs": [],
   "source": [
    "from plotly import __version__\n",
    "from plotly.offline import download_plotlyjs, init_notebook_mode, plot, iplot\n",
    "\n",
    "import plotly.graph_objs as go"
   ]
  },
  {
   "cell_type": "code",
   "execution_count": 2,
   "metadata": {},
   "outputs": [
    {
     "data": {
      "text/html": [
       "<div>\n",
       "<style scoped>\n",
       "    .dataframe tbody tr th:only-of-type {\n",
       "        vertical-align: middle;\n",
       "    }\n",
       "\n",
       "    .dataframe tbody tr th {\n",
       "        vertical-align: top;\n",
       "    }\n",
       "\n",
       "    .dataframe thead th {\n",
       "        text-align: right;\n",
       "    }\n",
       "</style>\n",
       "<table border=\"1\" class=\"dataframe\">\n",
       "  <thead>\n",
       "    <tr style=\"text-align: right;\">\n",
       "      <th></th>\n",
       "      <th>title</th>\n",
       "      <th>date</th>\n",
       "      <th>price</th>\n",
       "    </tr>\n",
       "  </thead>\n",
       "  <tbody>\n",
       "    <tr>\n",
       "      <th>0</th>\n",
       "      <td>The Immortals of Meluha</td>\n",
       "      <td>2019-01-24</td>\n",
       "      <td>254</td>\n",
       "    </tr>\n",
       "    <tr>\n",
       "      <th>1</th>\n",
       "      <td>The Immortals of Meluha</td>\n",
       "      <td>2019-01-25</td>\n",
       "      <td>254</td>\n",
       "    </tr>\n",
       "    <tr>\n",
       "      <th>2</th>\n",
       "      <td>The Immortals of Meluha</td>\n",
       "      <td>2019-01-26</td>\n",
       "      <td>296</td>\n",
       "    </tr>\n",
       "    <tr>\n",
       "      <th>3</th>\n",
       "      <td>The Immortals of Meluha</td>\n",
       "      <td>2019-01-27</td>\n",
       "      <td>221</td>\n",
       "    </tr>\n",
       "    <tr>\n",
       "      <th>4</th>\n",
       "      <td>The Immortals of Meluha</td>\n",
       "      <td>2019-01-28</td>\n",
       "      <td>221</td>\n",
       "    </tr>\n",
       "  </tbody>\n",
       "</table>\n",
       "</div>"
      ],
      "text/plain": [
       "                     title       date  price\n",
       "0  The Immortals of Meluha 2019-01-24    254\n",
       "1  The Immortals of Meluha 2019-01-25    254\n",
       "2  The Immortals of Meluha 2019-01-26    296\n",
       "3  The Immortals of Meluha 2019-01-27    221\n",
       "4  The Immortals of Meluha 2019-01-28    221"
      ]
     },
     "execution_count": 2,
     "metadata": {},
     "output_type": "execute_result"
    }
   ],
   "source": [
    "import pandas as pd\n",
    "import numpy as np\n",
    "df = pd.read_excel('books_variation.xlsx')\n",
    "df.head()"
   ]
  },
  {
   "cell_type": "code",
   "execution_count": 3,
   "metadata": {},
   "outputs": [
    {
     "data": {
      "text/html": [
       "<div>\n",
       "<style scoped>\n",
       "    .dataframe tbody tr th:only-of-type {\n",
       "        vertical-align: middle;\n",
       "    }\n",
       "\n",
       "    .dataframe tbody tr th {\n",
       "        vertical-align: top;\n",
       "    }\n",
       "\n",
       "    .dataframe thead th {\n",
       "        text-align: right;\n",
       "    }\n",
       "</style>\n",
       "<table border=\"1\" class=\"dataframe\">\n",
       "  <thead>\n",
       "    <tr style=\"text-align: right;\">\n",
       "      <th></th>\n",
       "      <th>date</th>\n",
       "      <th>price</th>\n",
       "    </tr>\n",
       "  </thead>\n",
       "  <tbody>\n",
       "    <tr>\n",
       "      <th>168</th>\n",
       "      <td>2019-01-24</td>\n",
       "      <td>263</td>\n",
       "    </tr>\n",
       "    <tr>\n",
       "      <th>169</th>\n",
       "      <td>2019-01-25</td>\n",
       "      <td>263</td>\n",
       "    </tr>\n",
       "    <tr>\n",
       "      <th>170</th>\n",
       "      <td>2019-01-26</td>\n",
       "      <td>263</td>\n",
       "    </tr>\n",
       "    <tr>\n",
       "      <th>171</th>\n",
       "      <td>2019-01-27</td>\n",
       "      <td>263</td>\n",
       "    </tr>\n",
       "    <tr>\n",
       "      <th>172</th>\n",
       "      <td>2019-01-28</td>\n",
       "      <td>263</td>\n",
       "    </tr>\n",
       "    <tr>\n",
       "      <th>173</th>\n",
       "      <td>2019-01-29</td>\n",
       "      <td>263</td>\n",
       "    </tr>\n",
       "    <tr>\n",
       "      <th>174</th>\n",
       "      <td>2019-01-30</td>\n",
       "      <td>263</td>\n",
       "    </tr>\n",
       "    <tr>\n",
       "      <th>175</th>\n",
       "      <td>2019-01-31</td>\n",
       "      <td>263</td>\n",
       "    </tr>\n",
       "    <tr>\n",
       "      <th>176</th>\n",
       "      <td>2019-02-01</td>\n",
       "      <td>263</td>\n",
       "    </tr>\n",
       "    <tr>\n",
       "      <th>177</th>\n",
       "      <td>2019-02-02</td>\n",
       "      <td>185</td>\n",
       "    </tr>\n",
       "    <tr>\n",
       "      <th>178</th>\n",
       "      <td>2019-02-03</td>\n",
       "      <td>185</td>\n",
       "    </tr>\n",
       "    <tr>\n",
       "      <th>179</th>\n",
       "      <td>2019-02-04</td>\n",
       "      <td>185</td>\n",
       "    </tr>\n",
       "    <tr>\n",
       "      <th>180</th>\n",
       "      <td>2019-02-05</td>\n",
       "      <td>185</td>\n",
       "    </tr>\n",
       "    <tr>\n",
       "      <th>181</th>\n",
       "      <td>2019-02-06</td>\n",
       "      <td>166</td>\n",
       "    </tr>\n",
       "  </tbody>\n",
       "</table>\n",
       "</div>"
      ],
      "text/plain": [
       "          date  price\n",
       "168 2019-01-24    263\n",
       "169 2019-01-25    263\n",
       "170 2019-01-26    263\n",
       "171 2019-01-27    263\n",
       "172 2019-01-28    263\n",
       "173 2019-01-29    263\n",
       "174 2019-01-30    263\n",
       "175 2019-01-31    263\n",
       "176 2019-02-01    263\n",
       "177 2019-02-02    185\n",
       "178 2019-02-03    185\n",
       "179 2019-02-04    185\n",
       "180 2019-02-05    185\n",
       "181 2019-02-06    166"
      ]
     },
     "execution_count": 3,
     "metadata": {},
     "output_type": "execute_result"
    }
   ],
   "source": [
    "book1 = df.loc[df['title'] == 'The Complete Novel of Sherlock Holmes']\n",
    "book1 = book1.drop(columns='title')\n",
    "book1"
   ]
  },
  {
   "cell_type": "code",
   "execution_count": 4,
   "metadata": {},
   "outputs": [
    {
     "data": {
      "text/plain": [
       "DatetimeIndex(['2019-01-24', '2019-01-25', '2019-01-26', '2019-01-27',\n",
       "               '2019-01-28', '2019-01-29', '2019-01-30', '2019-01-31',\n",
       "               '2019-02-01', '2019-02-02', '2019-02-03', '2019-02-04',\n",
       "               '2019-02-05', '2019-02-06'],\n",
       "              dtype='datetime64[ns]', name='date', freq=None)"
      ]
     },
     "execution_count": 4,
     "metadata": {},
     "output_type": "execute_result"
    }
   ],
   "source": [
    "book1['date'] = pd.to_datetime(df['date'], infer_datetime_format=True)\n",
    "indexed_book1 = book1.set_index(['date'])\n",
    "indexed_book1.index"
   ]
  },
  {
   "cell_type": "code",
   "execution_count": 5,
   "metadata": {},
   "outputs": [
    {
     "name": "stderr",
     "output_type": "stream",
     "text": [
      "C:\\Users\\Shefali\\Anaconda3\\lib\\site-packages\\plotly\\offline\\offline.py:635: UserWarning:\n",
      "\n",
      "Your filename `basic-line` didn't end with .html. Adding .html to the end of your file.\n",
      "\n"
     ]
    },
    {
     "data": {
      "text/plain": [
       "'file://C:\\\\Users\\\\Shefali\\\\Desktop\\\\PY Work\\\\basic-line.html'"
      ]
     },
     "execution_count": 5,
     "metadata": {},
     "output_type": "execute_result"
    }
   ],
   "source": [
    "data = [go.Scatter(x= indexed_book1.index, y= indexed_book1.price)]\n",
    "plot(data, filename='basic-line')"
   ]
  },
  {
   "cell_type": "code",
   "execution_count": 6,
   "metadata": {},
   "outputs": [
    {
     "data": {
      "text/plain": [
       "(                 price\n",
       " date                  \n",
       " 2019-01-24  263.000000\n",
       " 2019-01-25  263.000000\n",
       " 2019-01-26  263.000000\n",
       " 2019-01-27  263.000000\n",
       " 2019-01-28  263.000000\n",
       " 2019-01-29  263.000000\n",
       " 2019-01-30  263.000000\n",
       " 2019-01-31  263.000000\n",
       " 2019-02-01  263.000000\n",
       " 2019-02-02  255.200000\n",
       " 2019-02-03  248.818182\n",
       " 2019-02-04  243.500000\n",
       " 2019-02-05  239.000000\n",
       " 2019-02-06  233.785714,                 price\n",
       " date                 \n",
       " 2019-01-24        NaN\n",
       " 2019-01-25   0.000000\n",
       " 2019-01-26   0.000000\n",
       " 2019-01-27   0.000000\n",
       " 2019-01-28   0.000000\n",
       " 2019-01-29   0.000000\n",
       " 2019-01-30   0.000000\n",
       " 2019-01-31   0.000000\n",
       " 2019-02-01   0.000000\n",
       " 2019-02-02  24.665766\n",
       " 2019-02-03  31.552554\n",
       " 2019-02-04  35.276827\n",
       " 2019-02-05  37.469988\n",
       " 2019-02-06  40.946830)"
      ]
     },
     "execution_count": 6,
     "metadata": {},
     "output_type": "execute_result"
    }
   ],
   "source": [
    "#Determining rolling statistics\n",
    "rollmean = indexed_book1.rolling(window='14d').mean()  #monthly basis\n",
    "rollstd = indexed_book1.rolling(window='14d').std()\n",
    "rollmean, rollstd"
   ]
  },
  {
   "cell_type": "code",
   "execution_count": 7,
   "metadata": {},
   "outputs": [
    {
     "name": "stderr",
     "output_type": "stream",
     "text": [
      "C:\\Users\\Shefali\\Anaconda3\\lib\\site-packages\\plotly\\offline\\offline.py:635: UserWarning:\n",
      "\n",
      "Your filename `styled-line` didn't end with .html. Adding .html to the end of your file.\n",
      "\n"
     ]
    },
    {
     "data": {
      "text/plain": [
       "'file://C:\\\\Users\\\\Shefali\\\\Desktop\\\\PY Work\\\\styled-line.html'"
      ]
     },
     "execution_count": 7,
     "metadata": {},
     "output_type": "execute_result"
    }
   ],
   "source": [
    "#Plotting Rolling Statistics\n",
    "\n",
    "trace1 = go.Scatter(x= indexed_book1.index, y= indexed_book1.price, name='Original')\n",
    "trace2 = go.Scatter(x= rollmean.index , y= rollmean.price, name= 'Rolling Mean')\n",
    "trace3 = go.Scatter(x= rollstd.index , y= rollstd.price, name= 'Rolling Std')\n",
    "data = [trace1, trace2, trace3]\n",
    "    # Edit the layout\n",
    "layout = dict(title = 'Rolling Mean and Standard Deviation',\n",
    "              xaxis = dict(title = 'Date'),\n",
    "              yaxis = dict(title = 'Price')\n",
    "              )\n",
    "fig = dict(data=data, layout=layout)\n",
    "plot(fig, filename='styled-line')"
   ]
  },
  {
   "cell_type": "code",
   "execution_count": 8,
   "metadata": {},
   "outputs": [
    {
     "name": "stdout",
     "output_type": "stream",
     "text": [
      "Test statistic                -0.999941\n",
      "p-value                        0.753286\n",
      "lags used                      4.000000\n",
      "number of observations used    9.000000\n",
      "Critical value (1%)           -4.473135\n",
      "Critical value (5%)           -3.289881\n",
      "Critical value (10%)          -2.772382\n",
      "dtype: float64\n"
     ]
    }
   ],
   "source": [
    "#Dickey-Fuller test\n",
    "from statsmodels.tsa.stattools import adfuller\n",
    "\n",
    "dftest = adfuller(indexed_book1['price'], autolag='AIC')\n",
    "dfout = pd.Series(dftest[0:4], index= ['Test statistic','p-value','lags used','number of observations used'])\n",
    "for key,value in dftest[4].items():\n",
    "    dfout['Critical value (%s)'%key] = value\n",
    "print(dfout)\n"
   ]
  },
  {
   "cell_type": "code",
   "execution_count": 9,
   "metadata": {},
   "outputs": [],
   "source": [
    "#The test statistic is positive, meaning we are much less likely to reject the null hypothesis (it looks non-stationary).\n",
    "#Comparing the test statistic to the critical values, it looks like we would have to fail to reject the null hypothesis \n",
    "#that the time series is non-stationary and does have time-dependent structure."
   ]
  },
  {
   "cell_type": "code",
   "execution_count": 10,
   "metadata": {},
   "outputs": [
    {
     "name": "stderr",
     "output_type": "stream",
     "text": [
      "C:\\Users\\Shefali\\Anaconda3\\lib\\site-packages\\plotly\\offline\\offline.py:635: UserWarning:\n",
      "\n",
      "Your filename `line-mode` didn't end with .html. Adding .html to the end of your file.\n",
      "\n"
     ]
    },
    {
     "data": {
      "text/plain": [
       "'file://C:\\\\Users\\\\Shefali\\\\Desktop\\\\PY Work\\\\line-mode.html'"
      ]
     },
     "execution_count": 10,
     "metadata": {},
     "output_type": "execute_result"
    }
   ],
   "source": [
    "#log transform the dataset to make the distribution of values more linear and better meet the expectations of this statistical test\n",
    "import numpy as np\n",
    "indexed_book1_logscale = np.log(indexed_book1)\n",
    "\n",
    "data = [go.Scatter(x= indexed_book1_logscale.index, y= indexed_book1_logscale.price)]\n",
    "plot(data, filename='line-mode')"
   ]
  },
  {
   "cell_type": "code",
   "execution_count": 11,
   "metadata": {},
   "outputs": [
    {
     "data": {
      "text/plain": [
       "(               price\n",
       " date                \n",
       " 2019-01-24  5.572154\n",
       " 2019-01-25  5.572154\n",
       " 2019-01-26  5.572154\n",
       " 2019-01-27  5.572154\n",
       " 2019-01-28  5.572154\n",
       " 2019-01-29  5.572154\n",
       " 2019-01-30  5.572154\n",
       " 2019-01-31  5.572154\n",
       " 2019-02-01  5.572154\n",
       " 2019-02-02  5.536974\n",
       " 2019-02-03  5.508191\n",
       " 2019-02-04  5.484204\n",
       " 2019-02-05  5.463908\n",
       " 2019-02-06  5.438771,                price\n",
       " date                \n",
       " 2019-01-24       NaN\n",
       " 2019-01-25  0.000000\n",
       " 2019-01-26  0.000000\n",
       " 2019-01-27  0.000000\n",
       " 2019-01-28  0.000000\n",
       " 2019-01-29  0.000000\n",
       " 2019-01-30  0.000000\n",
       " 2019-01-31  0.000000\n",
       " 2019-02-01  0.000000\n",
       " 2019-02-02  0.111248\n",
       " 2019-02-03  0.142309\n",
       " 2019-02-04  0.159107\n",
       " 2019-02-05  0.168998\n",
       " 2019-02-06  0.187643)"
      ]
     },
     "execution_count": 11,
     "metadata": {},
     "output_type": "execute_result"
    }
   ],
   "source": [
    "# Moving Average with log timeseries\n",
    "\n",
    "moving_avg = indexed_book1_logscale.rolling(window='14d').mean()\n",
    "moving_std = indexed_book1_logscale.rolling(window='14d').std()\n",
    "moving_avg, moving_std"
   ]
  },
  {
   "cell_type": "code",
   "execution_count": 12,
   "metadata": {},
   "outputs": [
    {
     "name": "stderr",
     "output_type": "stream",
     "text": [
      "C:\\Users\\Shefali\\Anaconda3\\lib\\site-packages\\plotly\\offline\\offline.py:635: UserWarning:\n",
      "\n",
      "Your filename `basic-line` didn't end with .html. Adding .html to the end of your file.\n",
      "\n"
     ]
    },
    {
     "data": {
      "text/plain": [
       "'file://C:\\\\Users\\\\Shefali\\\\Desktop\\\\PY Work\\\\basic-line.html'"
      ]
     },
     "execution_count": 12,
     "metadata": {},
     "output_type": "execute_result"
    }
   ],
   "source": [
    "trace1 = go.Scatter(x= indexed_book1_logscale.index, y= indexed_book1_logscale.price)\n",
    "trace2 = go.Scatter(x= moving_avg.index , y= moving_avg.price)\n",
    "data = [trace1, trace2]\n",
    "plot(data, filename='basic-line')\n"
   ]
  },
  {
   "cell_type": "code",
   "execution_count": 13,
   "metadata": {},
   "outputs": [
    {
     "data": {
      "text/html": [
       "<div>\n",
       "<style scoped>\n",
       "    .dataframe tbody tr th:only-of-type {\n",
       "        vertical-align: middle;\n",
       "    }\n",
       "\n",
       "    .dataframe tbody tr th {\n",
       "        vertical-align: top;\n",
       "    }\n",
       "\n",
       "    .dataframe thead th {\n",
       "        text-align: right;\n",
       "    }\n",
       "</style>\n",
       "<table border=\"1\" class=\"dataframe\">\n",
       "  <thead>\n",
       "    <tr style=\"text-align: right;\">\n",
       "      <th></th>\n",
       "      <th>price</th>\n",
       "    </tr>\n",
       "    <tr>\n",
       "      <th>date</th>\n",
       "      <th></th>\n",
       "    </tr>\n",
       "  </thead>\n",
       "  <tbody>\n",
       "    <tr>\n",
       "      <th>2019-01-24</th>\n",
       "      <td>0.000000</td>\n",
       "    </tr>\n",
       "    <tr>\n",
       "      <th>2019-01-25</th>\n",
       "      <td>0.000000</td>\n",
       "    </tr>\n",
       "    <tr>\n",
       "      <th>2019-01-26</th>\n",
       "      <td>0.000000</td>\n",
       "    </tr>\n",
       "    <tr>\n",
       "      <th>2019-01-27</th>\n",
       "      <td>0.000000</td>\n",
       "    </tr>\n",
       "    <tr>\n",
       "      <th>2019-01-28</th>\n",
       "      <td>0.000000</td>\n",
       "    </tr>\n",
       "    <tr>\n",
       "      <th>2019-01-29</th>\n",
       "      <td>0.000000</td>\n",
       "    </tr>\n",
       "    <tr>\n",
       "      <th>2019-01-30</th>\n",
       "      <td>0.000000</td>\n",
       "    </tr>\n",
       "    <tr>\n",
       "      <th>2019-01-31</th>\n",
       "      <td>0.000000</td>\n",
       "    </tr>\n",
       "    <tr>\n",
       "      <th>2019-02-01</th>\n",
       "      <td>0.000000</td>\n",
       "    </tr>\n",
       "    <tr>\n",
       "      <th>2019-02-02</th>\n",
       "      <td>-0.316618</td>\n",
       "    </tr>\n",
       "    <tr>\n",
       "      <th>2019-02-03</th>\n",
       "      <td>-0.287835</td>\n",
       "    </tr>\n",
       "    <tr>\n",
       "      <th>2019-02-04</th>\n",
       "      <td>-0.263849</td>\n",
       "    </tr>\n",
       "    <tr>\n",
       "      <th>2019-02-05</th>\n",
       "      <td>-0.243553</td>\n",
       "    </tr>\n",
       "    <tr>\n",
       "      <th>2019-02-06</th>\n",
       "      <td>-0.326783</td>\n",
       "    </tr>\n",
       "  </tbody>\n",
       "</table>\n",
       "</div>"
      ],
      "text/plain": [
       "               price\n",
       "date                \n",
       "2019-01-24  0.000000\n",
       "2019-01-25  0.000000\n",
       "2019-01-26  0.000000\n",
       "2019-01-27  0.000000\n",
       "2019-01-28  0.000000\n",
       "2019-01-29  0.000000\n",
       "2019-01-30  0.000000\n",
       "2019-01-31  0.000000\n",
       "2019-02-01  0.000000\n",
       "2019-02-02 -0.316618\n",
       "2019-02-03 -0.287835\n",
       "2019-02-04 -0.263849\n",
       "2019-02-05 -0.243553\n",
       "2019-02-06 -0.326783"
      ]
     },
     "execution_count": 13,
     "metadata": {},
     "output_type": "execute_result"
    }
   ],
   "source": [
    "#Difference between log timeseries and moving average\n",
    "\n",
    "logminusMA = indexed_book1_logscale - moving_avg\n",
    "logminusMA"
   ]
  },
  {
   "cell_type": "code",
   "execution_count": 14,
   "metadata": {},
   "outputs": [
    {
     "name": "stderr",
     "output_type": "stream",
     "text": [
      "C:\\Users\\Shefali\\Anaconda3\\lib\\site-packages\\plotly\\offline\\offline.py:635: UserWarning:\n",
      "\n",
      "Your filename `styled-line` didn't end with .html. Adding .html to the end of your file.\n",
      "\n"
     ]
    },
    {
     "data": {
      "text/plain": [
       "'file://C:\\\\Users\\\\Shefali\\\\Desktop\\\\PY Work\\\\styled-line.html'"
      ]
     },
     "execution_count": 14,
     "metadata": {},
     "output_type": "execute_result"
    }
   ],
   "source": [
    "#Determining the Stationarity of data\n",
    "\n",
    "moving_avg = logminusMA.rolling(window='14d').mean()\n",
    "moving_std = logminusMA.rolling(window='14d').std()\n",
    "    \n",
    "trace1 = go.Scatter(x= logminusMA.index, y= logminusMA.price, name='Original')\n",
    "trace2 = go.Scatter(x= moving_avg.index , y= moving_avg.price, name= 'Rolling Mean')\n",
    "trace3 = go.Scatter(x= moving_std.index , y= moving_std.price, name= 'Rolling Std')\n",
    "data = [trace1, trace2, trace3]\n",
    "    # Edit the layout\n",
    "layout = dict(title = 'Rolling Mean and Standard Deviation',\n",
    "              xaxis = dict(title = 'Date'),\n",
    "              yaxis = dict(title = 'Price'))\n",
    "fig = dict(data=data, layout=layout)\n",
    "plot(fig, filename='styled-line')"
   ]
  },
  {
   "cell_type": "code",
   "execution_count": 15,
   "metadata": {},
   "outputs": [
    {
     "name": "stdout",
     "output_type": "stream",
     "text": [
      "Results of Dickey-Fuller test: \n",
      "Test statistic                -0.712137\n",
      "p-value                        0.843581\n",
      "lags used                      5.000000\n",
      "number of observations used    8.000000\n",
      "Critical value (1%)           -4.665186\n",
      "Critical value (5%)           -3.367187\n",
      "Critical value (10%)          -2.802961\n",
      "dtype: float64\n"
     ]
    },
    {
     "name": "stderr",
     "output_type": "stream",
     "text": [
      "C:\\Users\\Shefali\\Anaconda3\\lib\\site-packages\\statsmodels\\base\\model.py:1100: RuntimeWarning:\n",
      "\n",
      "invalid value encountered in true_divide\n",
      "\n"
     ]
    }
   ],
   "source": [
    "print(\"Results of Dickey-Fuller test: \")\n",
    "dftest = adfuller(logminusMA['price'], autolag='AIC')\n",
    "dfout = pd.Series(dftest[0:4], index= ['Test statistic','p-value','lags used','number of observations used'])\n",
    "for key,value in dftest[4].items():\n",
    "    dfout['Critical value (%s)'%key] = value\n",
    "print(dfout)"
   ]
  },
  {
   "cell_type": "code",
   "execution_count": null,
   "metadata": {},
   "outputs": [],
   "source": []
  },
  {
   "cell_type": "code",
   "execution_count": 16,
   "metadata": {},
   "outputs": [
    {
     "data": {
      "text/html": [
       "<div>\n",
       "<style scoped>\n",
       "    .dataframe tbody tr th:only-of-type {\n",
       "        vertical-align: middle;\n",
       "    }\n",
       "\n",
       "    .dataframe tbody tr th {\n",
       "        vertical-align: top;\n",
       "    }\n",
       "\n",
       "    .dataframe thead th {\n",
       "        text-align: right;\n",
       "    }\n",
       "</style>\n",
       "<table border=\"1\" class=\"dataframe\">\n",
       "  <thead>\n",
       "    <tr style=\"text-align: right;\">\n",
       "      <th></th>\n",
       "      <th>price</th>\n",
       "    </tr>\n",
       "    <tr>\n",
       "      <th>date</th>\n",
       "      <th></th>\n",
       "    </tr>\n",
       "  </thead>\n",
       "  <tbody>\n",
       "    <tr>\n",
       "      <th>2019-01-24</th>\n",
       "      <td>5.572154</td>\n",
       "    </tr>\n",
       "    <tr>\n",
       "      <th>2019-01-25</th>\n",
       "      <td>5.572154</td>\n",
       "    </tr>\n",
       "    <tr>\n",
       "      <th>2019-01-26</th>\n",
       "      <td>5.572154</td>\n",
       "    </tr>\n",
       "    <tr>\n",
       "      <th>2019-01-27</th>\n",
       "      <td>5.572154</td>\n",
       "    </tr>\n",
       "    <tr>\n",
       "      <th>2019-01-28</th>\n",
       "      <td>5.572154</td>\n",
       "    </tr>\n",
       "    <tr>\n",
       "      <th>2019-01-29</th>\n",
       "      <td>5.572154</td>\n",
       "    </tr>\n",
       "    <tr>\n",
       "      <th>2019-01-30</th>\n",
       "      <td>5.572154</td>\n",
       "    </tr>\n",
       "    <tr>\n",
       "      <th>2019-01-31</th>\n",
       "      <td>5.572154</td>\n",
       "    </tr>\n",
       "    <tr>\n",
       "      <th>2019-02-01</th>\n",
       "      <td>5.572154</td>\n",
       "    </tr>\n",
       "    <tr>\n",
       "      <th>2019-02-02</th>\n",
       "      <td>5.337618</td>\n",
       "    </tr>\n",
       "    <tr>\n",
       "      <th>2019-02-03</th>\n",
       "      <td>5.259443</td>\n",
       "    </tr>\n",
       "    <tr>\n",
       "      <th>2019-02-04</th>\n",
       "      <td>5.233385</td>\n",
       "    </tr>\n",
       "    <tr>\n",
       "      <th>2019-02-05</th>\n",
       "      <td>5.224699</td>\n",
       "    </tr>\n",
       "    <tr>\n",
       "      <th>2019-02-06</th>\n",
       "      <td>5.149558</td>\n",
       "    </tr>\n",
       "  </tbody>\n",
       "</table>\n",
       "</div>"
      ],
      "text/plain": [
       "               price\n",
       "date                \n",
       "2019-01-24  5.572154\n",
       "2019-01-25  5.572154\n",
       "2019-01-26  5.572154\n",
       "2019-01-27  5.572154\n",
       "2019-01-28  5.572154\n",
       "2019-01-29  5.572154\n",
       "2019-01-30  5.572154\n",
       "2019-01-31  5.572154\n",
       "2019-02-01  5.572154\n",
       "2019-02-02  5.337618\n",
       "2019-02-03  5.259443\n",
       "2019-02-04  5.233385\n",
       "2019-02-05  5.224699\n",
       "2019-02-06  5.149558"
      ]
     },
     "execution_count": 16,
     "metadata": {},
     "output_type": "execute_result"
    }
   ],
   "source": [
    "#Calculate the weighted average to see the trend\n",
    "#DataFrame.ewm : Provides exponential weighted functions\n",
    "\n",
    "weighted_avg = indexed_book1_logscale.ewm(com=0.5).mean()\n",
    "weighted_avg"
   ]
  },
  {
   "cell_type": "code",
   "execution_count": 17,
   "metadata": {},
   "outputs": [
    {
     "name": "stderr",
     "output_type": "stream",
     "text": [
      "C:\\Users\\Shefali\\Anaconda3\\lib\\site-packages\\plotly\\offline\\offline.py:635: UserWarning:\n",
      "\n",
      "Your filename `basic-line` didn't end with .html. Adding .html to the end of your file.\n",
      "\n"
     ]
    },
    {
     "data": {
      "text/plain": [
       "'file://C:\\\\Users\\\\Shefali\\\\Desktop\\\\PY Work\\\\basic-line.html'"
      ]
     },
     "execution_count": 17,
     "metadata": {},
     "output_type": "execute_result"
    }
   ],
   "source": [
    "trace1 = go.Scatter(x= indexed_book1_logscale.index, y= indexed_book1_logscale.price)\n",
    "trace2 = go.Scatter(x= weighted_avg.index , y= weighted_avg.price)\n",
    "data = [trace1, trace2]\n",
    "plot(data, filename='basic-line')\n",
    "\n",
    "#As you can see, the trend is moving with the logged data with respect to time"
   ]
  },
  {
   "cell_type": "code",
   "execution_count": 18,
   "metadata": {},
   "outputs": [
    {
     "name": "stdout",
     "output_type": "stream",
     "text": [
      "               price\n",
      "date                \n",
      "2019-01-24  0.000000\n",
      "2019-01-25  0.000000\n",
      "2019-01-26  0.000000\n",
      "2019-01-27  0.000000\n",
      "2019-01-28  0.000000\n",
      "2019-01-29  0.000000\n",
      "2019-01-30  0.000000\n",
      "2019-01-31  0.000000\n",
      "2019-02-01  0.000000\n",
      "2019-02-02 -0.117262\n",
      "2019-02-03 -0.039087\n",
      "2019-02-04 -0.013029\n",
      "2019-02-05 -0.004343\n",
      "2019-02-06 -0.037570\n"
     ]
    },
    {
     "name": "stderr",
     "output_type": "stream",
     "text": [
      "C:\\Users\\Shefali\\Anaconda3\\lib\\site-packages\\plotly\\offline\\offline.py:635: UserWarning:\n",
      "\n",
      "Your filename `styled-line` didn't end with .html. Adding .html to the end of your file.\n",
      "\n"
     ]
    },
    {
     "data": {
      "text/plain": [
       "'file://C:\\\\Users\\\\Shefali\\\\Desktop\\\\PY Work\\\\styled-line.html'"
      ]
     },
     "execution_count": 18,
     "metadata": {},
     "output_type": "execute_result"
    }
   ],
   "source": [
    "#Difference between log timeseries and weighted average\n",
    "\n",
    "logminusWA = indexed_book1_logscale - weighted_avg\n",
    "print(logminusWA)\n",
    "\n",
    "#Determining the Stationarity of data\n",
    "\n",
    "moving_avg = logminusWA.rolling(window='14d').mean()\n",
    "moving_std = logminusWA.rolling(window='14d').std()\n",
    "    \n",
    "trace1 = go.Scatter(x= logminusWA.index, y= logminusWA.price, name='Original')\n",
    "trace2 = go.Scatter(x= moving_avg.index , y= moving_avg.price, name= 'Rolling Mean')\n",
    "trace3 = go.Scatter(x= moving_std.index , y= moving_std.price, name= 'Rolling Std')\n",
    "data = [trace1, trace2, trace3]\n",
    "    # Edit the layout\n",
    "layout = dict(title = 'Rolling Mean and Standard Deviation',\n",
    "              xaxis = dict(title = 'Date'),\n",
    "              yaxis = dict(title = 'Price'))\n",
    "fig = dict(data=data, layout=layout)\n",
    "plot(fig, filename='styled-line')"
   ]
  },
  {
   "cell_type": "code",
   "execution_count": 19,
   "metadata": {},
   "outputs": [
    {
     "name": "stdout",
     "output_type": "stream",
     "text": [
      "Results of Dickey-Fuller test: \n",
      "Test statistic                 -1.074205\n",
      "p-value                         0.725248\n",
      "lags used                       3.000000\n",
      "number of observations used    10.000000\n",
      "Critical value (1%)            -4.331573\n",
      "Critical value (5%)            -3.232950\n",
      "Critical value (10%)           -2.748700\n",
      "dtype: float64\n"
     ]
    }
   ],
   "source": [
    "print(\"Results of Dickey-Fuller test: \")\n",
    "dftest = adfuller(logminusWA['price'], autolag='AIC')\n",
    "dfout = pd.Series(dftest[0:4], index= ['Test statistic','p-value','lags used','number of observations used'])\n",
    "for key,value in dftest[4].items():\n",
    "    dfout['Critical value (%s)'%key] = value\n",
    "print(dfout)"
   ]
  },
  {
   "cell_type": "code",
   "execution_count": 20,
   "metadata": {},
   "outputs": [],
   "source": [
    "# No difference in the p-value from original data and weighted average data\n",
    "# Here timeseries is not stationary"
   ]
  },
  {
   "cell_type": "code",
   "execution_count": 21,
   "metadata": {},
   "outputs": [
    {
     "name": "stderr",
     "output_type": "stream",
     "text": [
      "C:\\Users\\Shefali\\Anaconda3\\lib\\site-packages\\plotly\\offline\\offline.py:635: UserWarning:\n",
      "\n",
      "Your filename `basic-line` didn't end with .html. Adding .html to the end of your file.\n",
      "\n"
     ]
    },
    {
     "data": {
      "text/plain": [
       "'file://C:\\\\Users\\\\Shefali\\\\Desktop\\\\PY Work\\\\basic-line.html'"
      ]
     },
     "execution_count": 21,
     "metadata": {},
     "output_type": "execute_result"
    }
   ],
   "source": [
    "#Shifting the values\n",
    "\n",
    "indexed_book1_logscale_diffshift = indexed_book1_logscale - indexed_book1_logscale.shift()\n",
    "\n",
    "data = [go.Scatter(x= indexed_book1_logscale_diffshift.index, y= indexed_book1_logscale_diffshift.price)]\n",
    "plot(data, filename='basic-line')"
   ]
  },
  {
   "cell_type": "code",
   "execution_count": 22,
   "metadata": {},
   "outputs": [
    {
     "name": "stderr",
     "output_type": "stream",
     "text": [
      "C:\\Users\\Shefali\\Anaconda3\\lib\\site-packages\\plotly\\offline\\offline.py:635: UserWarning:\n",
      "\n",
      "Your filename `styled-line` didn't end with .html. Adding .html to the end of your file.\n",
      "\n"
     ]
    },
    {
     "data": {
      "text/plain": [
       "'file://C:\\\\Users\\\\Shefali\\\\Desktop\\\\PY Work\\\\styled-line.html'"
      ]
     },
     "execution_count": 22,
     "metadata": {},
     "output_type": "execute_result"
    }
   ],
   "source": [
    "indexed_book1_logscale_diffshift.dropna(inplace=True)\n",
    "\n",
    "#Determining the Stationarity of data\n",
    "\n",
    "moving_avg = indexed_book1_logscale_diffshift.rolling(window='14d').mean()\n",
    "moving_std = indexed_book1_logscale_diffshift.rolling(window='14d').std()\n",
    "    \n",
    "trace1 = go.Scatter(x= indexed_book1_logscale_diffshift.index, y= indexed_book1_logscale_diffshift.price, name='Original')\n",
    "trace2 = go.Scatter(x= moving_avg.index , y= moving_avg.price, name= 'Rolling Mean')\n",
    "trace3 = go.Scatter(x= moving_std.index , y= moving_std.price, name= 'Rolling Std')\n",
    "data = [trace1, trace2, trace3]\n",
    "    # Edit the layout\n",
    "layout = dict(title = 'Rolling Mean and Standard Deviation',\n",
    "              xaxis = dict(title = 'Date'),\n",
    "              yaxis = dict(title = 'Price'))\n",
    "fig = dict(data=data, layout=layout)\n",
    "plot(fig, filename='styled-line')"
   ]
  },
  {
   "cell_type": "code",
   "execution_count": 23,
   "metadata": {},
   "outputs": [
    {
     "name": "stdout",
     "output_type": "stream",
     "text": [
      "Results of Dickey-Fuller test: \n",
      "Test statistic                 -2.002278\n",
      "p-value                         0.285575\n",
      "lags used                       2.000000\n",
      "number of observations used    10.000000\n",
      "Critical value (1%)            -4.331573\n",
      "Critical value (5%)            -3.232950\n",
      "Critical value (10%)           -2.748700\n",
      "dtype: float64\n"
     ]
    }
   ],
   "source": [
    "print(\"Results of Dickey-Fuller test: \")\n",
    "dftest = adfuller(indexed_book1_logscale_diffshift['price'], autolag='AIC')\n",
    "dfout = pd.Series(dftest[0:4], index= ['Test statistic','p-value','lags used','number of observations used'])\n",
    "for key,value in dftest[4].items():\n",
    "    dfout['Critical value (%s)'%key] = value\n",
    "print(dfout)\n",
    "\n",
    "# Here timeseries is stationary and null-hypothesis is rejected"
   ]
  },
  {
   "cell_type": "code",
   "execution_count": 24,
   "metadata": {},
   "outputs": [
    {
     "name": "stdout",
     "output_type": "stream",
     "text": [
      "This is the format of your plot grid:\n",
      "[ (1,1) x1,y1 ]\n",
      "[ (2,1) x2,y2 ]\n",
      "[ (3,1) x3,y3 ]\n",
      "[ (4,1) x4,y4 ]\n",
      "\n"
     ]
    },
    {
     "name": "stderr",
     "output_type": "stream",
     "text": [
      "C:\\Users\\Shefali\\Anaconda3\\lib\\site-packages\\plotly\\offline\\offline.py:635: UserWarning:\n",
      "\n",
      "Your filename `stacked-subplots` didn't end with .html. Adding .html to the end of your file.\n",
      "\n"
     ]
    },
    {
     "data": {
      "text/plain": [
       "'file://C:\\\\Users\\\\Shefali\\\\Desktop\\\\PY Work\\\\stacked-subplots.html'"
      ]
     },
     "execution_count": 24,
     "metadata": {},
     "output_type": "execute_result"
    }
   ],
   "source": [
    "from statsmodels.tsa.seasonal import seasonal_decompose\n",
    "\n",
    "decomposition = seasonal_decompose(indexed_book1_logscale)\n",
    "\n",
    "trend = decomposition.trend\n",
    "seasonal = decomposition.seasonal\n",
    "residual = decomposition.resid\n",
    "\n",
    "from plotly import tools\n",
    "\n",
    "trace1 = go.Scatter(x= indexed_book1_logscale.index, y= indexed_book1_logscale.price, name='Original')\n",
    "trace2 = go.Scatter(x= trend.index, y= trend.price, name='Trend')\n",
    "trace3 = go.Scatter(x= seasonal.index, y= seasonal.price, name='Seasonality')\n",
    "trace4 = go.Scatter(x= residual.index, y= residual.price, name='Residual')\n",
    "\n",
    "fig = tools.make_subplots(rows=4, cols=1)\n",
    "\n",
    "fig.append_trace(trace1, 1, 1)\n",
    "fig.append_trace(trace2, 2, 1)\n",
    "fig.append_trace(trace3, 3, 1)\n",
    "fig.append_trace(trace4, 4, 1)\n",
    "\n",
    "\n",
    "fig['layout'].update(title='Stacked subplots')\n",
    "plot(fig, filename='stacked-subplots')"
   ]
  },
  {
   "cell_type": "code",
   "execution_count": 25,
   "metadata": {},
   "outputs": [
    {
     "name": "stderr",
     "output_type": "stream",
     "text": [
      "C:\\Users\\Shefali\\Anaconda3\\lib\\site-packages\\plotly\\offline\\offline.py:635: UserWarning:\n",
      "\n",
      "Your filename `styled-line` didn't end with .html. Adding .html to the end of your file.\n",
      "\n"
     ]
    },
    {
     "data": {
      "text/plain": [
       "'file://C:\\\\Users\\\\Shefali\\\\Desktop\\\\PY Work\\\\styled-line.html'"
      ]
     },
     "execution_count": 25,
     "metadata": {},
     "output_type": "execute_result"
    }
   ],
   "source": [
    "#Residuals are irregualr in nature\n",
    "#So checking noise stationarity\n",
    "\n",
    "decomposed_logdata = residual\n",
    "decomposed_logdata.dropna(inplace=True)\n",
    "\n",
    "#Determining the Stationarity of data\n",
    "\n",
    "moving_avg = decomposed_logdata.rolling(window='14d').mean()\n",
    "moving_std = decomposed_logdata.rolling(window='14d').std()\n",
    "    \n",
    "trace1 = go.Scatter(x= decomposed_logdata.index, y= decomposed_logdata.price, name='Original')\n",
    "trace2 = go.Scatter(x= moving_avg.index , y= moving_avg.price, name= 'Rolling Mean')\n",
    "trace3 = go.Scatter(x= moving_std.index , y= moving_std.price, name= 'Rolling Std')\n",
    "data = [trace1, trace2, trace3]\n",
    "    # Edit the layout\n",
    "layout = dict(title = 'Rolling Mean and Standard Deviation',\n",
    "              xaxis = dict(title = 'Date'),\n",
    "              yaxis = dict(title = 'Price'))\n",
    "fig = dict(data=data, layout=layout)\n",
    "plot(fig, filename='styled-line')"
   ]
  },
  {
   "cell_type": "code",
   "execution_count": 26,
   "metadata": {},
   "outputs": [
    {
     "name": "stderr",
     "output_type": "stream",
     "text": [
      "C:\\Users\\Shefali\\Anaconda3\\lib\\site-packages\\statsmodels\\regression\\linear_model.py:1283: RuntimeWarning:\n",
      "\n",
      "invalid value encountered in sqrt\n",
      "\n",
      "C:\\Users\\Shefali\\Anaconda3\\lib\\site-packages\\statsmodels\\regression\\linear_model.py:1275: RuntimeWarning:\n",
      "\n",
      "invalid value encountered in double_scalars\n",
      "\n"
     ]
    },
    {
     "data": {
      "text/plain": [
       "'file://C:\\\\Users\\\\Shefali\\\\Desktop\\\\PY Work\\\\temp-plot.html'"
      ]
     },
     "execution_count": 26,
     "metadata": {},
     "output_type": "execute_result"
    }
   ],
   "source": [
    "#ACF and PACF plots\n",
    "\n",
    "from statsmodels.tsa.stattools import acf, pacf\n",
    "\n",
    "lag_acf = acf(indexed_book1_logscale_diffshift)\n",
    "lag_pacf = pacf(indexed_book1_logscale_diffshift)\n",
    "#lag_acf,lag_pacf\n",
    "\n",
    "#ACF\n",
    "#trace1 = go.Scatter(y= lag_acf, name='Autocorrelation Function', type='bar')\n",
    "trace1 = {\"y\": lag_acf, \"name\": \"Autocorrelation Function\", \"type\": \"bar\"}\n",
    "trace2 = {\"y\": lag_pacf, \"name\": \"Partial Autocorrelation Function\", \"type\": \"bar\"}\n",
    "#trace2 = go.Scatter(y= lag_pacf, name='Partial Autocorrelation Function', type='bar')\n",
    "\n",
    "data = [trace1, trace2]\n",
    "layout = dict(title = 'ACF and PACF Plots')\n",
    "fig = dict(data=data, layout=layout)\n",
    "plot(fig)"
   ]
  },
  {
   "cell_type": "code",
   "execution_count": 29,
   "metadata": {},
   "outputs": [
    {
     "name": "stdout",
     "output_type": "stream",
     "text": [
      "Plotting AR Model...\n"
     ]
    },
    {
     "name": "stderr",
     "output_type": "stream",
     "text": [
      "C:\\Users\\Shefali\\Anaconda3\\lib\\site-packages\\statsmodels\\tsa\\base\\tsa_model.py:171: ValueWarning:\n",
      "\n",
      "No frequency information was provided, so inferred frequency D will be used.\n",
      "\n",
      "C:\\Users\\Shefali\\Anaconda3\\lib\\site-packages\\statsmodels\\tsa\\base\\tsa_model.py:171: ValueWarning:\n",
      "\n",
      "No frequency information was provided, so inferred frequency D will be used.\n",
      "\n"
     ]
    },
    {
     "data": {
      "text/plain": [
       "'file://C:\\\\Users\\\\Shefali\\\\Desktop\\\\PY Work\\\\temp-plot.html'"
      ]
     },
     "execution_count": 29,
     "metadata": {},
     "output_type": "execute_result"
    }
   ],
   "source": [
    "#AR Model\n",
    "from statsmodels.tsa.arima_model import ARIMA\n",
    "\n",
    "model = ARIMA(indexed_book1_logscale, order= (3,1,0))\n",
    "results_AR = model.fit(disp=-1)\n",
    "\n",
    "print(\"Plotting AR Model...\")\n",
    "trace1 = go.Scatter(x= indexed_book1_logscale_diffshift.index, y= indexed_book1_logscale_diffshift.price, name='Original')\n",
    "trace2 = go.Scatter(y=results_AR.fittedvalues, name='AR fitted values')\n",
    "\n",
    "data = [trace1, trace2]\n",
    "layout = dict(title = 'RSS: %.4f'%sum((results_AR.fittedvalues-indexed_book1_logscale_diffshift.price)**2))\n",
    "fig = dict(data=data, layout=layout)\n",
    "plot(fig)"
   ]
  },
  {
   "cell_type": "code",
   "execution_count": 30,
   "metadata": {},
   "outputs": [
    {
     "name": "stdout",
     "output_type": "stream",
     "text": [
      "Plotting MA Model...\n"
     ]
    },
    {
     "name": "stderr",
     "output_type": "stream",
     "text": [
      "C:\\Users\\Shefali\\Anaconda3\\lib\\site-packages\\statsmodels\\tsa\\base\\tsa_model.py:171: ValueWarning:\n",
      "\n",
      "No frequency information was provided, so inferred frequency D will be used.\n",
      "\n",
      "C:\\Users\\Shefali\\Anaconda3\\lib\\site-packages\\statsmodels\\tsa\\base\\tsa_model.py:171: ValueWarning:\n",
      "\n",
      "No frequency information was provided, so inferred frequency D will be used.\n",
      "\n"
     ]
    },
    {
     "data": {
      "text/plain": [
       "'file://C:\\\\Users\\\\Shefali\\\\Desktop\\\\PY Work\\\\temp-plot.html'"
      ]
     },
     "execution_count": 30,
     "metadata": {},
     "output_type": "execute_result"
    }
   ],
   "source": [
    "#MA Model\n",
    "from statsmodels.tsa.arima_model import ARIMA\n",
    "\n",
    "model = ARIMA(indexed_book1_logscale, order= (0,1,0))\n",
    "results_MA = model.fit(disp=-1)\n",
    "\n",
    "print(\"Plotting MA Model...\")\n",
    "trace1 = go.Scatter(x= indexed_book1_logscale_diffshift.index, y= indexed_book1_logscale_diffshift.price, name='Original')\n",
    "trace2 = go.Scatter(y=results_MA.fittedvalues, name='MA fitted values')\n",
    "\n",
    "data = [trace1, trace2]\n",
    "layout = dict(title = 'RSS: %.4f'%sum((results_MA.fittedvalues-indexed_book1_logscale_diffshift.price)**2))\n",
    "fig = dict(data=data, layout=layout)\n",
    "plot(fig)"
   ]
  },
  {
   "cell_type": "code",
   "execution_count": 31,
   "metadata": {},
   "outputs": [],
   "source": [
    "#AR Model is better as it has less RSS value than MA Model"
   ]
  },
  {
   "cell_type": "code",
   "execution_count": 32,
   "metadata": {},
   "outputs": [
    {
     "name": "stdout",
     "output_type": "stream",
     "text": [
      "date\n",
      "2019-01-25   -0.036318\n",
      "2019-01-26   -0.040522\n",
      "2019-01-27   -0.045968\n",
      "2019-01-28   -0.053209\n",
      "2019-01-29   -0.053209\n",
      "2019-01-30   -0.053209\n",
      "2019-01-31   -0.053209\n",
      "2019-02-01   -0.053209\n",
      "2019-02-02   -0.053209\n",
      "2019-02-03    0.000436\n",
      "2019-02-04    0.001356\n",
      "2019-02-05    0.002200\n",
      "2019-02-06   -0.053209\n",
      "dtype: float64\n",
      "date\n",
      "2019-01-25   -0.036318\n",
      "2019-01-26   -0.076839\n",
      "2019-01-27   -0.122808\n",
      "2019-01-28   -0.176016\n",
      "2019-01-29   -0.229225\n",
      "2019-01-30   -0.282433\n",
      "2019-01-31   -0.335642\n",
      "2019-02-01   -0.388851\n",
      "2019-02-02   -0.442059\n",
      "2019-02-03   -0.441624\n",
      "2019-02-04   -0.440268\n",
      "2019-02-05   -0.438068\n",
      "2019-02-06   -0.491276\n",
      "dtype: float64\n"
     ]
    }
   ],
   "source": [
    "prediction = pd.Series(results_AR.fittedvalues, copy=True)\n",
    "print(prediction)\n",
    "\n",
    "prediction_cumsum = prediction.cumsum()\n",
    "print(prediction_cumsum)"
   ]
  },
  {
   "cell_type": "code",
   "execution_count": 33,
   "metadata": {},
   "outputs": [
    {
     "name": "stderr",
     "output_type": "stream",
     "text": [
      "C:\\Users\\Shefali\\Anaconda3\\lib\\site-packages\\ipykernel_launcher.py:1: DeprecationWarning:\n",
      "\n",
      "\n",
      ".ix is deprecated. Please use\n",
      ".loc for label based indexing or\n",
      ".iloc for positional indexing\n",
      "\n",
      "See the documentation here:\n",
      "http://pandas.pydata.org/pandas-docs/stable/indexing.html#ix-indexer-is-deprecated\n",
      "\n"
     ]
    },
    {
     "data": {
      "text/plain": [
       "date\n",
       "2019-01-24    5.572154\n",
       "2019-01-25    5.535836\n",
       "2019-01-26    5.495315\n",
       "2019-01-27    5.449346\n",
       "2019-01-28    5.396138\n",
       "2019-01-29    5.342929\n",
       "2019-01-30    5.289721\n",
       "2019-01-31    5.236512\n",
       "2019-02-01    5.183303\n",
       "2019-02-02    5.130095\n",
       "2019-02-03    5.130531\n",
       "2019-02-04    5.131886\n",
       "2019-02-05    5.134086\n",
       "2019-02-06    5.080878\n",
       "dtype: float64"
      ]
     },
     "execution_count": 33,
     "metadata": {},
     "output_type": "execute_result"
    }
   ],
   "source": [
    "prediction_log = pd.Series(indexed_book1_logscale.price.ix[0], index = indexed_book1_logscale.index)\n",
    "prediction_log = prediction_log.add(prediction_cumsum, fill_value=0)\n",
    "prediction_log"
   ]
  },
  {
   "cell_type": "code",
   "execution_count": 34,
   "metadata": {},
   "outputs": [
    {
     "data": {
      "text/plain": [
       "'file://C:\\\\Users\\\\Shefali\\\\Desktop\\\\PY Work\\\\temp-plot.html'"
      ]
     },
     "execution_count": 34,
     "metadata": {},
     "output_type": "execute_result"
    }
   ],
   "source": [
    "prediction_ARIMA = np.exp(prediction_log)\n",
    "\n",
    "trace1 = go.Scatter(x= indexed_book1.index, y= indexed_book1.price, name='Original data')\n",
    "trace2 = go.Scatter(y=prediction_ARIMA, name='prdiction')\n",
    "\n",
    "data = [trace1, trace2]\n",
    "layout = dict(title = \"Predictions\")\n",
    "fig = dict(data=data, layout=layout)\n",
    "plot(fig)"
   ]
  },
  {
   "cell_type": "code",
   "execution_count": 35,
   "metadata": {},
   "outputs": [
    {
     "data": {
      "text/html": [
       "<div>\n",
       "<style scoped>\n",
       "    .dataframe tbody tr th:only-of-type {\n",
       "        vertical-align: middle;\n",
       "    }\n",
       "\n",
       "    .dataframe tbody tr th {\n",
       "        vertical-align: top;\n",
       "    }\n",
       "\n",
       "    .dataframe thead th {\n",
       "        text-align: right;\n",
       "    }\n",
       "</style>\n",
       "<table border=\"1\" class=\"dataframe\">\n",
       "  <thead>\n",
       "    <tr style=\"text-align: right;\">\n",
       "      <th></th>\n",
       "      <th>price</th>\n",
       "    </tr>\n",
       "    <tr>\n",
       "      <th>date</th>\n",
       "      <th></th>\n",
       "    </tr>\n",
       "  </thead>\n",
       "  <tbody>\n",
       "    <tr>\n",
       "      <th>2019-01-24</th>\n",
       "      <td>5.572154</td>\n",
       "    </tr>\n",
       "    <tr>\n",
       "      <th>2019-01-25</th>\n",
       "      <td>5.572154</td>\n",
       "    </tr>\n",
       "    <tr>\n",
       "      <th>2019-01-26</th>\n",
       "      <td>5.572154</td>\n",
       "    </tr>\n",
       "    <tr>\n",
       "      <th>2019-01-27</th>\n",
       "      <td>5.572154</td>\n",
       "    </tr>\n",
       "    <tr>\n",
       "      <th>2019-01-28</th>\n",
       "      <td>5.572154</td>\n",
       "    </tr>\n",
       "    <tr>\n",
       "      <th>2019-01-29</th>\n",
       "      <td>5.572154</td>\n",
       "    </tr>\n",
       "    <tr>\n",
       "      <th>2019-01-30</th>\n",
       "      <td>5.572154</td>\n",
       "    </tr>\n",
       "    <tr>\n",
       "      <th>2019-01-31</th>\n",
       "      <td>5.572154</td>\n",
       "    </tr>\n",
       "    <tr>\n",
       "      <th>2019-02-01</th>\n",
       "      <td>5.572154</td>\n",
       "    </tr>\n",
       "    <tr>\n",
       "      <th>2019-02-02</th>\n",
       "      <td>5.220356</td>\n",
       "    </tr>\n",
       "    <tr>\n",
       "      <th>2019-02-03</th>\n",
       "      <td>5.220356</td>\n",
       "    </tr>\n",
       "    <tr>\n",
       "      <th>2019-02-04</th>\n",
       "      <td>5.220356</td>\n",
       "    </tr>\n",
       "    <tr>\n",
       "      <th>2019-02-05</th>\n",
       "      <td>5.220356</td>\n",
       "    </tr>\n",
       "    <tr>\n",
       "      <th>2019-02-06</th>\n",
       "      <td>5.111988</td>\n",
       "    </tr>\n",
       "  </tbody>\n",
       "</table>\n",
       "</div>"
      ],
      "text/plain": [
       "               price\n",
       "date                \n",
       "2019-01-24  5.572154\n",
       "2019-01-25  5.572154\n",
       "2019-01-26  5.572154\n",
       "2019-01-27  5.572154\n",
       "2019-01-28  5.572154\n",
       "2019-01-29  5.572154\n",
       "2019-01-30  5.572154\n",
       "2019-01-31  5.572154\n",
       "2019-02-01  5.572154\n",
       "2019-02-02  5.220356\n",
       "2019-02-03  5.220356\n",
       "2019-02-04  5.220356\n",
       "2019-02-05  5.220356\n",
       "2019-02-06  5.111988"
      ]
     },
     "execution_count": 35,
     "metadata": {},
     "output_type": "execute_result"
    }
   ],
   "source": [
    "indexed_book1_logscale"
   ]
  },
  {
   "cell_type": "code",
   "execution_count": 37,
   "metadata": {},
   "outputs": [
    {
     "data": {
      "text/plain": [
       "(array([5.07530378, 5.04449702, 5.01874385, 4.98001821, 4.94156119,\n",
       "        4.90427932, 4.86881976]),\n",
       " array([0.09250367, 0.12125678, 0.1381516 , 0.14895001, 0.16110793,\n",
       "        0.17338348, 0.18497125]),\n",
       " array([[4.89399992, 5.25660764],\n",
       "        [4.80683809, 5.28215594],\n",
       "        [4.74797169, 5.28951602],\n",
       "        [4.68808156, 5.27195486],\n",
       "        [4.62579546, 5.25732693],\n",
       "        [4.56445394, 5.2441047 ],\n",
       "        [4.50628276, 5.23135676]]))"
      ]
     },
     "execution_count": 37,
     "metadata": {},
     "output_type": "execute_result"
    },
    {
     "data": {
      "image/png": "[encoded data removed]",
      "text/plain": [
       "<Figure size 432x288 with 1 Axes>"
      ]
     },
     "metadata": {
      "needs_background": "light"
     },
     "output_type": "display_data"
    }
   ],
   "source": [
    "forecast = results_AR.forecast(steps=7)\n",
    "#print(results_AR.forecast(steps=7))\n",
    "\n",
    "results_AR.plot_predict(1,21)\n",
    "results_AR.forecast(steps=7)"
   ]
  },
  {
   "cell_type": "code",
   "execution_count": null,
   "metadata": {},
   "outputs": [],
   "source": []
  }
 ],
 "metadata": {
  "kernelspec": {
   "display_name": "Python 3",
   "language": "python",
   "name": "python3"
  },
  "language_info": {
   "codemirror_mode": {
    "name": "ipython",
    "version": 3
   },
   "file_extension": ".py",
   "mimetype": "text/x-python",
   "name": "python",
   "nbconvert_exporter": "python",
   "pygments_lexer": "ipython3",
   "version": "3.7.1"
  }
 },
 "nbformat": 4,
 "nbformat_minor": 2
}
