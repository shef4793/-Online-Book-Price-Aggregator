{
 "cells": [
  {
   "cell_type": "code",
   "execution_count": 1,
   "metadata": {},
   "outputs": [],
   "source": [
    "from plotly import __version__\n",
    "from plotly.offline import download_plotlyjs, init_notebook_mode, plot, iplot\n",
    "\n",
    "import plotly.graph_objs as go"
   ]
  },
  {
   "cell_type": "code",
   "execution_count": 2,
   "metadata": {},
   "outputs": [
    {
     "data": {
      "text/html": [
       "<div>\n",
       "<style scoped>\n",
       "    .dataframe tbody tr th:only-of-type {\n",
       "        vertical-align: middle;\n",
       "    }\n",
       "\n",
       "    .dataframe tbody tr th {\n",
       "        vertical-align: top;\n",
       "    }\n",
       "\n",
       "    .dataframe thead th {\n",
       "        text-align: right;\n",
       "    }\n",
       "</style>\n",
       "<table border=\"1\" class=\"dataframe\">\n",
       "  <thead>\n",
       "    <tr style=\"text-align: right;\">\n",
       "      <th></th>\n",
       "      <th>title</th>\n",
       "      <th>date</th>\n",
       "      <th>price</th>\n",
       "    </tr>\n",
       "  </thead>\n",
       "  <tbody>\n",
       "    <tr>\n",
       "      <th>0</th>\n",
       "      <td>The Immortals of Meluha</td>\n",
       "      <td>2019-01-24</td>\n",
       "      <td>254</td>\n",
       "    </tr>\n",
       "    <tr>\n",
       "      <th>1</th>\n",
       "      <td>The Immortals of Meluha</td>\n",
       "      <td>2019-01-25</td>\n",
       "      <td>254</td>\n",
       "    </tr>\n",
       "    <tr>\n",
       "      <th>2</th>\n",
       "      <td>The Immortals of Meluha</td>\n",
       "      <td>2019-01-26</td>\n",
       "      <td>296</td>\n",
       "    </tr>\n",
       "    <tr>\n",
       "      <th>3</th>\n",
       "      <td>The Immortals of Meluha</td>\n",
       "      <td>2019-01-27</td>\n",
       "      <td>221</td>\n",
       "    </tr>\n",
       "    <tr>\n",
       "      <th>4</th>\n",
       "      <td>The Immortals of Meluha</td>\n",
       "      <td>2019-01-28</td>\n",
       "      <td>221</td>\n",
       "    </tr>\n",
       "  </tbody>\n",
       "</table>\n",
       "</div>"
      ],
      "text/plain": [
       "                     title       date  price\n",
       "0  The Immortals of Meluha 2019-01-24    254\n",
       "1  The Immortals of Meluha 2019-01-25    254\n",
       "2  The Immortals of Meluha 2019-01-26    296\n",
       "3  The Immortals of Meluha 2019-01-27    221\n",
       "4  The Immortals of Meluha 2019-01-28    221"
      ]
     },
     "execution_count": 2,
     "metadata": {},
     "output_type": "execute_result"
    }
   ],
   "source": [
    "import pandas as pd\n",
    "import numpy as np\n",
    "df = pd.read_excel('books_variation.xlsx')\n",
    "df.head()"
   ]
  },
  {
   "cell_type": "code",
   "execution_count": 3,
   "metadata": {},
   "outputs": [
    {
     "data": {
      "text/html": [
       "<div>\n",
       "<style scoped>\n",
       "    .dataframe tbody tr th:only-of-type {\n",
       "        vertical-align: middle;\n",
       "    }\n",
       "\n",
       "    .dataframe tbody tr th {\n",
       "        vertical-align: top;\n",
       "    }\n",
       "\n",
       "    .dataframe thead th {\n",
       "        text-align: right;\n",
       "    }\n",
       "</style>\n",
       "<table border=\"1\" class=\"dataframe\">\n",
       "  <thead>\n",
       "    <tr style=\"text-align: right;\">\n",
       "      <th></th>\n",
       "      <th>date</th>\n",
       "      <th>price</th>\n",
       "    </tr>\n",
       "  </thead>\n",
       "  <tbody>\n",
       "    <tr>\n",
       "      <th>70</th>\n",
       "      <td>2019-01-24</td>\n",
       "      <td>120</td>\n",
       "    </tr>\n",
       "    <tr>\n",
       "      <th>71</th>\n",
       "      <td>2019-01-25</td>\n",
       "      <td>120</td>\n",
       "    </tr>\n",
       "    <tr>\n",
       "      <th>72</th>\n",
       "      <td>2019-01-26</td>\n",
       "      <td>120</td>\n",
       "    </tr>\n",
       "    <tr>\n",
       "      <th>73</th>\n",
       "      <td>2019-01-27</td>\n",
       "      <td>120</td>\n",
       "    </tr>\n",
       "    <tr>\n",
       "      <th>74</th>\n",
       "      <td>2019-01-28</td>\n",
       "      <td>144</td>\n",
       "    </tr>\n",
       "    <tr>\n",
       "      <th>75</th>\n",
       "      <td>2019-01-29</td>\n",
       "      <td>144</td>\n",
       "    </tr>\n",
       "    <tr>\n",
       "      <th>76</th>\n",
       "      <td>2019-01-30</td>\n",
       "      <td>144</td>\n",
       "    </tr>\n",
       "    <tr>\n",
       "      <th>77</th>\n",
       "      <td>2019-01-31</td>\n",
       "      <td>181</td>\n",
       "    </tr>\n",
       "    <tr>\n",
       "      <th>78</th>\n",
       "      <td>2019-02-01</td>\n",
       "      <td>175</td>\n",
       "    </tr>\n",
       "    <tr>\n",
       "      <th>79</th>\n",
       "      <td>2019-02-02</td>\n",
       "      <td>175</td>\n",
       "    </tr>\n",
       "    <tr>\n",
       "      <th>80</th>\n",
       "      <td>2019-02-03</td>\n",
       "      <td>145</td>\n",
       "    </tr>\n",
       "    <tr>\n",
       "      <th>81</th>\n",
       "      <td>2019-02-04</td>\n",
       "      <td>145</td>\n",
       "    </tr>\n",
       "    <tr>\n",
       "      <th>82</th>\n",
       "      <td>2019-02-05</td>\n",
       "      <td>175</td>\n",
       "    </tr>\n",
       "    <tr>\n",
       "      <th>83</th>\n",
       "      <td>2019-02-06</td>\n",
       "      <td>144</td>\n",
       "    </tr>\n",
       "  </tbody>\n",
       "</table>\n",
       "</div>"
      ],
      "text/plain": [
       "         date  price\n",
       "70 2019-01-24    120\n",
       "71 2019-01-25    120\n",
       "72 2019-01-26    120\n",
       "73 2019-01-27    120\n",
       "74 2019-01-28    144\n",
       "75 2019-01-29    144\n",
       "76 2019-01-30    144\n",
       "77 2019-01-31    181\n",
       "78 2019-02-01    175\n",
       "79 2019-02-02    175\n",
       "80 2019-02-03    145\n",
       "81 2019-02-04    145\n",
       "82 2019-02-05    175\n",
       "83 2019-02-06    144"
      ]
     },
     "execution_count": 3,
     "metadata": {},
     "output_type": "execute_result"
    }
   ],
   "source": [
    "book1 = df.loc[df['title'] == 'Think and Grow Rich']\n",
    "book1 = book1.drop(columns='title')\n",
    "book1"
   ]
  },
  {
   "cell_type": "code",
   "execution_count": 4,
   "metadata": {},
   "outputs": [
    {
     "data": {
      "text/plain": [
       "DatetimeIndex(['2019-01-24', '2019-01-25', '2019-01-26', '2019-01-27',\n",
       "               '2019-01-28', '2019-01-29', '2019-01-30', '2019-01-31',\n",
       "               '2019-02-01', '2019-02-02', '2019-02-03', '2019-02-04',\n",
       "               '2019-02-05', '2019-02-06'],\n",
       "              dtype='datetime64[ns]', name='date', freq=None)"
      ]
     },
     "execution_count": 4,
     "metadata": {},
     "output_type": "execute_result"
    }
   ],
   "source": [
    "book1['date'] = pd.to_datetime(df['date'], infer_datetime_format=True)\n",
    "indexed_book1 = book1.set_index(['date'])\n",
    "indexed_book1.index"
   ]
  },
  {
   "cell_type": "code",
   "execution_count": 5,
   "metadata": {},
   "outputs": [
    {
     "name": "stderr",
     "output_type": "stream",
     "text": [
      "C:\\Users\\Shefali\\Anaconda3\\lib\\site-packages\\plotly\\offline\\offline.py:635: UserWarning:\n",
      "\n",
      "Your filename `basic-line` didn't end with .html. Adding .html to the end of your file.\n",
      "\n"
     ]
    },
    {
     "data": {
      "text/plain": [
       "'file://C:\\\\Users\\\\Shefali\\\\Desktop\\\\PY Work\\\\basic-line.html'"
      ]
     },
     "execution_count": 5,
     "metadata": {},
     "output_type": "execute_result"
    }
   ],
   "source": [
    "data = [go.Scatter(x= indexed_book1.index, y= indexed_book1.price)]\n",
    "plot(data, filename='basic-line')"
   ]
  },
  {
   "cell_type": "code",
   "execution_count": 6,
   "metadata": {},
   "outputs": [
    {
     "data": {
      "text/plain": [
       "(                 price\n",
       " date                  \n",
       " 2019-01-24  120.000000\n",
       " 2019-01-25  120.000000\n",
       " 2019-01-26  120.000000\n",
       " 2019-01-27  120.000000\n",
       " 2019-01-28  124.800000\n",
       " 2019-01-29  128.000000\n",
       " 2019-01-30  130.285714\n",
       " 2019-01-31  136.625000\n",
       " 2019-02-01  140.888889\n",
       " 2019-02-02  144.300000\n",
       " 2019-02-03  144.363636\n",
       " 2019-02-04  144.416667\n",
       " 2019-02-05  146.769231\n",
       " 2019-02-06  146.571429,                 price\n",
       " date                 \n",
       " 2019-01-24        NaN\n",
       " 2019-01-25   0.000000\n",
       " 2019-01-26   0.000000\n",
       " 2019-01-27   0.000000\n",
       " 2019-01-28  10.733126\n",
       " 2019-01-29  12.393547\n",
       " 2019-01-30  12.828540\n",
       " 2019-01-31  21.507059\n",
       " 2019-02-01  23.840325\n",
       " 2019-02-02  24.931239\n",
       " 2019-02-03  23.652791\n",
       " 2019-02-04  22.552800\n",
       " 2019-02-05  23.198972\n",
       " 2019-02-06  22.301136)"
      ]
     },
     "execution_count": 6,
     "metadata": {},
     "output_type": "execute_result"
    }
   ],
   "source": [
    "#Determining rolling statistics\n",
    "rollmean = indexed_book1.rolling(window='14d').mean()  #monthly basis\n",
    "rollstd = indexed_book1.rolling(window='14d').std()\n",
    "rollmean, rollstd"
   ]
  },
  {
   "cell_type": "code",
   "execution_count": 7,
   "metadata": {},
   "outputs": [
    {
     "name": "stderr",
     "output_type": "stream",
     "text": [
      "C:\\Users\\Shefali\\Anaconda3\\lib\\site-packages\\plotly\\offline\\offline.py:635: UserWarning:\n",
      "\n",
      "Your filename `styled-line` didn't end with .html. Adding .html to the end of your file.\n",
      "\n"
     ]
    },
    {
     "data": {
      "text/plain": [
       "'file://C:\\\\Users\\\\Shefali\\\\Desktop\\\\PY Work\\\\styled-line.html'"
      ]
     },
     "execution_count": 7,
     "metadata": {},
     "output_type": "execute_result"
    }
   ],
   "source": [
    "#Plotting Rolling Statistics\n",
    "\n",
    "trace1 = go.Scatter(x= indexed_book1.index, y= indexed_book1.price, name='Original')\n",
    "trace2 = go.Scatter(x= rollmean.index , y= rollmean.price, name= 'Rolling Mean')\n",
    "trace3 = go.Scatter(x= rollstd.index , y= rollstd.price, name= 'Rolling Std')\n",
    "data = [trace1, trace2, trace3]\n",
    "    # Edit the layout\n",
    "layout = dict(title = 'Rolling Mean and Standard Deviation',\n",
    "              xaxis = dict(title = 'Date'),\n",
    "              yaxis = dict(title = 'Price')\n",
    "              )\n",
    "fig = dict(data=data, layout=layout)\n",
    "plot(fig, filename='styled-line')"
   ]
  },
  {
   "cell_type": "code",
   "execution_count": 10,
   "metadata": {},
   "outputs": [
    {
     "name": "stdout",
     "output_type": "stream",
     "text": [
      "Test statistic                 0.000000\n",
      "p-value                        0.958532\n",
      "lags used                      6.000000\n",
      "number of observations used    7.000000\n",
      "Critical value (1%)           -4.938690\n",
      "Critical value (5%)           -3.477583\n",
      "Critical value (10%)          -2.843868\n",
      "dtype: float64\n"
     ]
    }
   ],
   "source": [
    "#Dickey-Fuller test\n",
    "from statsmodels.tsa.stattools import adfuller\n",
    "\n",
    "dftest = adfuller(indexed_book1['price'], autolag='AIC')\n",
    "dfout = pd.Series(dftest[0:4], index= ['Test statistic','p-value','lags used','number of observations used'])\n",
    "for key,value in dftest[4].items():\n",
    "    dfout['Critical value (%s)'%key] = value\n",
    "print(dfout)\n"
   ]
  },
  {
   "cell_type": "code",
   "execution_count": 11,
   "metadata": {},
   "outputs": [],
   "source": [
    "#The test statistic is positive, meaning we are much less likely to reject the null hypothesis (it looks non-stationary).\n",
    "#Comparing the test statistic to the critical values, it looks like we would have to fail to reject the null hypothesis \n",
    "#that the time series is non-stationary and does have time-dependent structure."
   ]
  },
  {
   "cell_type": "code",
   "execution_count": 12,
   "metadata": {},
   "outputs": [
    {
     "name": "stderr",
     "output_type": "stream",
     "text": [
      "C:\\Users\\Shefali\\Anaconda3\\lib\\site-packages\\plotly\\offline\\offline.py:635: UserWarning:\n",
      "\n",
      "Your filename `line-mode` didn't end with .html. Adding .html to the end of your file.\n",
      "\n"
     ]
    },
    {
     "data": {
      "text/plain": [
       "'file://C:\\\\Users\\\\Shefali\\\\Desktop\\\\PY Work\\\\line-mode.html'"
      ]
     },
     "execution_count": 12,
     "metadata": {},
     "output_type": "execute_result"
    }
   ],
   "source": [
    "#log transform the dataset to make the distribution of values more linear and better meet the expectations of this statistical test\n",
    "import numpy as np\n",
    "indexed_book1_logscale = np.log(indexed_book1)\n",
    "\n",
    "data = [go.Scatter(x= indexed_book1_logscale.index, y= indexed_book1_logscale.price)]\n",
    "plot(data, filename='line-mode')"
   ]
  },
  {
   "cell_type": "code",
   "execution_count": 13,
   "metadata": {},
   "outputs": [
    {
     "data": {
      "text/plain": [
       "(               price\n",
       " date                \n",
       " 2019-01-24  4.787492\n",
       " 2019-01-25  4.787492\n",
       " 2019-01-26  4.787492\n",
       " 2019-01-27  4.787492\n",
       " 2019-01-28  4.823956\n",
       " 2019-01-29  4.848266\n",
       " 2019-01-30  4.865630\n",
       " 2019-01-31  4.907238\n",
       " 2019-02-01  4.935854\n",
       " 2019-02-02  4.958748\n",
       " 2019-02-03  4.960383\n",
       " 2019-02-04  4.961745\n",
       " 2019-02-05  4.977364\n",
       " 2019-02-06  4.976824,                price\n",
       " date                \n",
       " 2019-01-24       NaN\n",
       " 2019-01-25  0.000000\n",
       " 2019-01-26  0.000000\n",
       " 2019-01-27  0.000000\n",
       " 2019-01-28  0.081537\n",
       " 2019-01-29  0.094150\n",
       " 2019-01-30  0.097455\n",
       " 2019-01-31  0.148293\n",
       " 2019-02-01  0.163132\n",
       " 2019-02-02  0.169989\n",
       " 2019-02-03  0.161356\n",
       " 2019-02-04  0.153920\n",
       " 2019-02-05  0.157760\n",
       " 2019-02-06  0.151584)"
      ]
     },
     "execution_count": 13,
     "metadata": {},
     "output_type": "execute_result"
    }
   ],
   "source": [
    "# Moving Average with log timeseries\n",
    "\n",
    "moving_avg = indexed_book1_logscale.rolling(window='14d').mean()\n",
    "moving_std = indexed_book1_logscale.rolling(window='14d').std()\n",
    "moving_avg, moving_std"
   ]
  },
  {
   "cell_type": "code",
   "execution_count": 14,
   "metadata": {},
   "outputs": [
    {
     "name": "stderr",
     "output_type": "stream",
     "text": [
      "C:\\Users\\Shefali\\Anaconda3\\lib\\site-packages\\plotly\\offline\\offline.py:635: UserWarning:\n",
      "\n",
      "Your filename `basic-line` didn't end with .html. Adding .html to the end of your file.\n",
      "\n"
     ]
    },
    {
     "data": {
      "text/plain": [
       "'file://C:\\\\Users\\\\Shefali\\\\Desktop\\\\PY Work\\\\basic-line.html'"
      ]
     },
     "execution_count": 14,
     "metadata": {},
     "output_type": "execute_result"
    }
   ],
   "source": [
    "trace1 = go.Scatter(x= indexed_book1_logscale.index, y= indexed_book1_logscale.price)\n",
    "trace2 = go.Scatter(x= moving_avg.index , y= moving_avg.price)\n",
    "data = [trace1, trace2]\n",
    "plot(data, filename='basic-line')\n"
   ]
  },
  {
   "cell_type": "code",
   "execution_count": 15,
   "metadata": {},
   "outputs": [
    {
     "data": {
      "text/html": [
       "<div>\n",
       "<style scoped>\n",
       "    .dataframe tbody tr th:only-of-type {\n",
       "        vertical-align: middle;\n",
       "    }\n",
       "\n",
       "    .dataframe tbody tr th {\n",
       "        vertical-align: top;\n",
       "    }\n",
       "\n",
       "    .dataframe thead th {\n",
       "        text-align: right;\n",
       "    }\n",
       "</style>\n",
       "<table border=\"1\" class=\"dataframe\">\n",
       "  <thead>\n",
       "    <tr style=\"text-align: right;\">\n",
       "      <th></th>\n",
       "      <th>price</th>\n",
       "    </tr>\n",
       "    <tr>\n",
       "      <th>date</th>\n",
       "      <th></th>\n",
       "    </tr>\n",
       "  </thead>\n",
       "  <tbody>\n",
       "    <tr>\n",
       "      <th>2019-01-24</th>\n",
       "      <td>0.000000</td>\n",
       "    </tr>\n",
       "    <tr>\n",
       "      <th>2019-01-25</th>\n",
       "      <td>0.000000</td>\n",
       "    </tr>\n",
       "    <tr>\n",
       "      <th>2019-01-26</th>\n",
       "      <td>0.000000</td>\n",
       "    </tr>\n",
       "    <tr>\n",
       "      <th>2019-01-27</th>\n",
       "      <td>0.000000</td>\n",
       "    </tr>\n",
       "    <tr>\n",
       "      <th>2019-01-28</th>\n",
       "      <td>0.145857</td>\n",
       "    </tr>\n",
       "    <tr>\n",
       "      <th>2019-01-29</th>\n",
       "      <td>0.121548</td>\n",
       "    </tr>\n",
       "    <tr>\n",
       "      <th>2019-01-30</th>\n",
       "      <td>0.104184</td>\n",
       "    </tr>\n",
       "    <tr>\n",
       "      <th>2019-01-31</th>\n",
       "      <td>0.291259</td>\n",
       "    </tr>\n",
       "    <tr>\n",
       "      <th>2019-02-01</th>\n",
       "      <td>0.228932</td>\n",
       "    </tr>\n",
       "    <tr>\n",
       "      <th>2019-02-02</th>\n",
       "      <td>0.206038</td>\n",
       "    </tr>\n",
       "    <tr>\n",
       "      <th>2019-02-03</th>\n",
       "      <td>0.016351</td>\n",
       "    </tr>\n",
       "    <tr>\n",
       "      <th>2019-02-04</th>\n",
       "      <td>0.014988</td>\n",
       "    </tr>\n",
       "    <tr>\n",
       "      <th>2019-02-05</th>\n",
       "      <td>0.187422</td>\n",
       "    </tr>\n",
       "    <tr>\n",
       "      <th>2019-02-06</th>\n",
       "      <td>-0.007011</td>\n",
       "    </tr>\n",
       "  </tbody>\n",
       "</table>\n",
       "</div>"
      ],
      "text/plain": [
       "               price\n",
       "date                \n",
       "2019-01-24  0.000000\n",
       "2019-01-25  0.000000\n",
       "2019-01-26  0.000000\n",
       "2019-01-27  0.000000\n",
       "2019-01-28  0.145857\n",
       "2019-01-29  0.121548\n",
       "2019-01-30  0.104184\n",
       "2019-01-31  0.291259\n",
       "2019-02-01  0.228932\n",
       "2019-02-02  0.206038\n",
       "2019-02-03  0.016351\n",
       "2019-02-04  0.014988\n",
       "2019-02-05  0.187422\n",
       "2019-02-06 -0.007011"
      ]
     },
     "execution_count": 15,
     "metadata": {},
     "output_type": "execute_result"
    }
   ],
   "source": [
    "#Difference between log timeseries and moving average\n",
    "\n",
    "logminusMA = indexed_book1_logscale - moving_avg\n",
    "logminusMA"
   ]
  },
  {
   "cell_type": "code",
   "execution_count": 16,
   "metadata": {},
   "outputs": [
    {
     "name": "stderr",
     "output_type": "stream",
     "text": [
      "C:\\Users\\Shefali\\Anaconda3\\lib\\site-packages\\plotly\\offline\\offline.py:635: UserWarning:\n",
      "\n",
      "Your filename `styled-line` didn't end with .html. Adding .html to the end of your file.\n",
      "\n"
     ]
    },
    {
     "data": {
      "text/plain": [
       "'file://C:\\\\Users\\\\Shefali\\\\Desktop\\\\PY Work\\\\styled-line.html'"
      ]
     },
     "execution_count": 16,
     "metadata": {},
     "output_type": "execute_result"
    }
   ],
   "source": [
    "#Determining the Stationarity of data\n",
    "\n",
    "moving_avg = logminusMA.rolling(window='14d').mean()\n",
    "moving_std = logminusMA.rolling(window='14d').std()\n",
    "    \n",
    "trace1 = go.Scatter(x= logminusMA.index, y= logminusMA.price, name='Original')\n",
    "trace2 = go.Scatter(x= moving_avg.index , y= moving_avg.price, name= 'Rolling Mean')\n",
    "trace3 = go.Scatter(x= moving_std.index , y= moving_std.price, name= 'Rolling Std')\n",
    "data = [trace1, trace2, trace3]\n",
    "    # Edit the layout\n",
    "layout = dict(title = 'Rolling Mean and Standard Deviation',\n",
    "              xaxis = dict(title = 'Date'),\n",
    "              yaxis = dict(title = 'Price'))\n",
    "fig = dict(data=data, layout=layout)\n",
    "plot(fig, filename='styled-line')"
   ]
  },
  {
   "cell_type": "code",
   "execution_count": 17,
   "metadata": {},
   "outputs": [
    {
     "name": "stdout",
     "output_type": "stream",
     "text": [
      "Results of Dickey-Fuller test: \n",
      "Test statistic                -0.000000\n",
      "p-value                        0.958532\n",
      "lags used                      7.000000\n",
      "number of observations used    6.000000\n",
      "Critical value (1%)           -5.354256\n",
      "Critical value (5%)           -3.646238\n",
      "Critical value (10%)          -2.901198\n",
      "dtype: float64\n"
     ]
    }
   ],
   "source": [
    "print(\"Results of Dickey-Fuller test: \")\n",
    "dftest = adfuller(logminusMA['price'], autolag='AIC')\n",
    "dfout = pd.Series(dftest[0:4], index= ['Test statistic','p-value','lags used','number of observations used'])\n",
    "for key,value in dftest[4].items():\n",
    "    dfout['Critical value (%s)'%key] = value\n",
    "print(dfout)"
   ]
  },
  {
   "cell_type": "code",
   "execution_count": null,
   "metadata": {},
   "outputs": [],
   "source": []
  },
  {
   "cell_type": "code",
   "execution_count": 18,
   "metadata": {},
   "outputs": [
    {
     "data": {
      "text/html": [
       "<div>\n",
       "<style scoped>\n",
       "    .dataframe tbody tr th:only-of-type {\n",
       "        vertical-align: middle;\n",
       "    }\n",
       "\n",
       "    .dataframe tbody tr th {\n",
       "        vertical-align: top;\n",
       "    }\n",
       "\n",
       "    .dataframe thead th {\n",
       "        text-align: right;\n",
       "    }\n",
       "</style>\n",
       "<table border=\"1\" class=\"dataframe\">\n",
       "  <thead>\n",
       "    <tr style=\"text-align: right;\">\n",
       "      <th></th>\n",
       "      <th>price</th>\n",
       "    </tr>\n",
       "    <tr>\n",
       "      <th>date</th>\n",
       "      <th></th>\n",
       "    </tr>\n",
       "  </thead>\n",
       "  <tbody>\n",
       "    <tr>\n",
       "      <th>2019-01-24</th>\n",
       "      <td>4.787492</td>\n",
       "    </tr>\n",
       "    <tr>\n",
       "      <th>2019-01-25</th>\n",
       "      <td>4.787492</td>\n",
       "    </tr>\n",
       "    <tr>\n",
       "      <th>2019-01-26</th>\n",
       "      <td>4.787492</td>\n",
       "    </tr>\n",
       "    <tr>\n",
       "      <th>2019-01-27</th>\n",
       "      <td>4.787492</td>\n",
       "    </tr>\n",
       "    <tr>\n",
       "      <th>2019-01-28</th>\n",
       "      <td>4.909542</td>\n",
       "    </tr>\n",
       "    <tr>\n",
       "      <th>2019-01-29</th>\n",
       "      <td>4.949778</td>\n",
       "    </tr>\n",
       "    <tr>\n",
       "      <th>2019-01-30</th>\n",
       "      <td>4.963141</td>\n",
       "    </tr>\n",
       "    <tr>\n",
       "      <th>2019-01-31</th>\n",
       "      <td>5.120069</td>\n",
       "    </tr>\n",
       "    <tr>\n",
       "      <th>2019-02-01</th>\n",
       "      <td>5.149882</td>\n",
       "    </tr>\n",
       "    <tr>\n",
       "      <th>2019-02-02</th>\n",
       "      <td>5.159818</td>\n",
       "    </tr>\n",
       "    <tr>\n",
       "      <th>2019-02-03</th>\n",
       "      <td>5.037761</td>\n",
       "    </tr>\n",
       "    <tr>\n",
       "      <th>2019-02-04</th>\n",
       "      <td>4.997076</td>\n",
       "    </tr>\n",
       "    <tr>\n",
       "      <th>2019-02-05</th>\n",
       "      <td>5.108883</td>\n",
       "    </tr>\n",
       "    <tr>\n",
       "      <th>2019-02-06</th>\n",
       "      <td>5.016170</td>\n",
       "    </tr>\n",
       "  </tbody>\n",
       "</table>\n",
       "</div>"
      ],
      "text/plain": [
       "               price\n",
       "date                \n",
       "2019-01-24  4.787492\n",
       "2019-01-25  4.787492\n",
       "2019-01-26  4.787492\n",
       "2019-01-27  4.787492\n",
       "2019-01-28  4.909542\n",
       "2019-01-29  4.949778\n",
       "2019-01-30  4.963141\n",
       "2019-01-31  5.120069\n",
       "2019-02-01  5.149882\n",
       "2019-02-02  5.159818\n",
       "2019-02-03  5.037761\n",
       "2019-02-04  4.997076\n",
       "2019-02-05  5.108883\n",
       "2019-02-06  5.016170"
      ]
     },
     "execution_count": 18,
     "metadata": {},
     "output_type": "execute_result"
    }
   ],
   "source": [
    "#Calculate the weighted average to see the trend\n",
    "#DataFrame.ewm : Provides exponential weighted functions\n",
    "\n",
    "weighted_avg = indexed_book1_logscale.ewm(com=0.5).mean()\n",
    "weighted_avg"
   ]
  },
  {
   "cell_type": "code",
   "execution_count": 19,
   "metadata": {},
   "outputs": [
    {
     "name": "stderr",
     "output_type": "stream",
     "text": [
      "C:\\Users\\Shefali\\Anaconda3\\lib\\site-packages\\plotly\\offline\\offline.py:635: UserWarning:\n",
      "\n",
      "Your filename `basic-line` didn't end with .html. Adding .html to the end of your file.\n",
      "\n"
     ]
    },
    {
     "data": {
      "text/plain": [
       "'file://C:\\\\Users\\\\Shefali\\\\Desktop\\\\PY Work\\\\basic-line.html'"
      ]
     },
     "execution_count": 19,
     "metadata": {},
     "output_type": "execute_result"
    }
   ],
   "source": [
    "trace1 = go.Scatter(x= indexed_book1_logscale.index, y= indexed_book1_logscale.price)\n",
    "trace2 = go.Scatter(x= weighted_avg.index , y= weighted_avg.price)\n",
    "data = [trace1, trace2]\n",
    "plot(data, filename='basic-line')\n",
    "\n",
    "#As you can see, the trend is moving with the logged data with respect to time"
   ]
  },
  {
   "cell_type": "code",
   "execution_count": 20,
   "metadata": {},
   "outputs": [
    {
     "name": "stdout",
     "output_type": "stream",
     "text": [
      "               price\n",
      "date                \n",
      "2019-01-24  0.000000\n",
      "2019-01-25  0.000000\n",
      "2019-01-26  0.000000\n",
      "2019-01-27  0.000000\n",
      "2019-01-28  0.060272\n",
      "2019-01-29  0.020035\n",
      "2019-01-30  0.006672\n",
      "2019-01-31  0.078428\n",
      "2019-02-01  0.014904\n",
      "2019-02-02  0.004968\n",
      "2019-02-03 -0.061027\n",
      "2019-02-04 -0.020342\n",
      "2019-02-05  0.055903\n",
      "2019-02-06 -0.046356\n"
     ]
    },
    {
     "name": "stderr",
     "output_type": "stream",
     "text": [
      "C:\\Users\\Shefali\\Anaconda3\\lib\\site-packages\\plotly\\offline\\offline.py:635: UserWarning:\n",
      "\n",
      "Your filename `styled-line` didn't end with .html. Adding .html to the end of your file.\n",
      "\n"
     ]
    },
    {
     "data": {
      "text/plain": [
       "'file://C:\\\\Users\\\\Shefali\\\\Desktop\\\\PY Work\\\\styled-line.html'"
      ]
     },
     "execution_count": 20,
     "metadata": {},
     "output_type": "execute_result"
    }
   ],
   "source": [
    "#Difference between log timeseries and weighted average\n",
    "\n",
    "logminusWA = indexed_book1_logscale - weighted_avg\n",
    "print(logminusWA)\n",
    "\n",
    "#Determining the Stationarity of data\n",
    "\n",
    "moving_avg = logminusWA.rolling(window='14d').mean()\n",
    "moving_std = logminusWA.rolling(window='14d').std()\n",
    "    \n",
    "trace1 = go.Scatter(x= logminusWA.index, y= logminusWA.price, name='Original')\n",
    "trace2 = go.Scatter(x= moving_avg.index , y= moving_avg.price, name= 'Rolling Mean')\n",
    "trace3 = go.Scatter(x= moving_std.index , y= moving_std.price, name= 'Rolling Std')\n",
    "data = [trace1, trace2, trace3]\n",
    "    # Edit the layout\n",
    "layout = dict(title = 'Rolling Mean and Standard Deviation',\n",
    "              xaxis = dict(title = 'Date'),\n",
    "              yaxis = dict(title = 'Price'))\n",
    "fig = dict(data=data, layout=layout)\n",
    "plot(fig, filename='styled-line')"
   ]
  },
  {
   "cell_type": "code",
   "execution_count": 21,
   "metadata": {},
   "outputs": [
    {
     "name": "stdout",
     "output_type": "stream",
     "text": [
      "Results of Dickey-Fuller test: \n",
      "Test statistic                -0.000000\n",
      "p-value                        0.958532\n",
      "lags used                      6.000000\n",
      "number of observations used    7.000000\n",
      "Critical value (1%)           -4.938690\n",
      "Critical value (5%)           -3.477583\n",
      "Critical value (10%)          -2.843868\n",
      "dtype: float64\n"
     ]
    }
   ],
   "source": [
    "print(\"Results of Dickey-Fuller test: \")\n",
    "dftest = adfuller(logminusWA['price'], autolag='AIC')\n",
    "dfout = pd.Series(dftest[0:4], index= ['Test statistic','p-value','lags used','number of observations used'])\n",
    "for key,value in dftest[4].items():\n",
    "    dfout['Critical value (%s)'%key] = value\n",
    "print(dfout)"
   ]
  },
  {
   "cell_type": "code",
   "execution_count": 22,
   "metadata": {},
   "outputs": [],
   "source": [
    "# No difference in the p-value from original data and weighted average data\n",
    "# Here timeseries is not stationary"
   ]
  },
  {
   "cell_type": "code",
   "execution_count": 23,
   "metadata": {},
   "outputs": [
    {
     "name": "stderr",
     "output_type": "stream",
     "text": [
      "C:\\Users\\Shefali\\Anaconda3\\lib\\site-packages\\plotly\\offline\\offline.py:635: UserWarning:\n",
      "\n",
      "Your filename `basic-line` didn't end with .html. Adding .html to the end of your file.\n",
      "\n"
     ]
    },
    {
     "data": {
      "text/plain": [
       "'file://C:\\\\Users\\\\Shefali\\\\Desktop\\\\PY Work\\\\basic-line.html'"
      ]
     },
     "execution_count": 23,
     "metadata": {},
     "output_type": "execute_result"
    }
   ],
   "source": [
    "#Shifting the values\n",
    "\n",
    "indexed_book1_logscale_diffshift = indexed_book1_logscale - indexed_book1_logscale.shift()\n",
    "\n",
    "data = [go.Scatter(x= indexed_book1_logscale_diffshift.index, y= indexed_book1_logscale_diffshift.price)]\n",
    "plot(data, filename='basic-line')"
   ]
  },
  {
   "cell_type": "code",
   "execution_count": 24,
   "metadata": {},
   "outputs": [
    {
     "name": "stderr",
     "output_type": "stream",
     "text": [
      "C:\\Users\\Shefali\\Anaconda3\\lib\\site-packages\\plotly\\offline\\offline.py:635: UserWarning:\n",
      "\n",
      "Your filename `styled-line` didn't end with .html. Adding .html to the end of your file.\n",
      "\n"
     ]
    },
    {
     "data": {
      "text/plain": [
       "'file://C:\\\\Users\\\\Shefali\\\\Desktop\\\\PY Work\\\\styled-line.html'"
      ]
     },
     "execution_count": 24,
     "metadata": {},
     "output_type": "execute_result"
    }
   ],
   "source": [
    "indexed_book1_logscale_diffshift.dropna(inplace=True)\n",
    "\n",
    "#Determining the Stationarity of data\n",
    "\n",
    "moving_avg = indexed_book1_logscale_diffshift.rolling(window='14d').mean()\n",
    "moving_std = indexed_book1_logscale_diffshift.rolling(window='14d').std()\n",
    "    \n",
    "trace1 = go.Scatter(x= indexed_book1_logscale_diffshift.index, y= indexed_book1_logscale_diffshift.price, name='Original')\n",
    "trace2 = go.Scatter(x= moving_avg.index , y= moving_avg.price, name= 'Rolling Mean')\n",
    "trace3 = go.Scatter(x= moving_std.index , y= moving_std.price, name= 'Rolling Std')\n",
    "data = [trace1, trace2, trace3]\n",
    "    # Edit the layout\n",
    "layout = dict(title = 'Rolling Mean and Standard Deviation',\n",
    "              xaxis = dict(title = 'Date'),\n",
    "              yaxis = dict(title = 'Price'))\n",
    "fig = dict(data=data, layout=layout)\n",
    "plot(fig, filename='styled-line')"
   ]
  },
  {
   "cell_type": "code",
   "execution_count": 25,
   "metadata": {},
   "outputs": [
    {
     "name": "stdout",
     "output_type": "stream",
     "text": [
      "Results of Dickey-Fuller test: \n",
      "Test statistic                 -1.575487\n",
      "p-value                         0.495894\n",
      "lags used                       2.000000\n",
      "number of observations used    10.000000\n",
      "Critical value (1%)            -4.331573\n",
      "Critical value (5%)            -3.232950\n",
      "Critical value (10%)           -2.748700\n",
      "dtype: float64\n"
     ]
    }
   ],
   "source": [
    "print(\"Results of Dickey-Fuller test: \")\n",
    "dftest = adfuller(indexed_book1_logscale_diffshift['price'], autolag='AIC')\n",
    "dfout = pd.Series(dftest[0:4], index= ['Test statistic','p-value','lags used','number of observations used'])\n",
    "for key,value in dftest[4].items():\n",
    "    dfout['Critical value (%s)'%key] = value\n",
    "print(dfout)\n",
    "\n",
    "# Here timeseries is stationary and null-hypothesis is rejected"
   ]
  },
  {
   "cell_type": "code",
   "execution_count": 26,
   "metadata": {},
   "outputs": [
    {
     "name": "stdout",
     "output_type": "stream",
     "text": [
      "This is the format of your plot grid:\n",
      "[ (1,1) x1,y1 ]\n",
      "[ (2,1) x2,y2 ]\n",
      "[ (3,1) x3,y3 ]\n",
      "[ (4,1) x4,y4 ]\n",
      "\n"
     ]
    },
    {
     "name": "stderr",
     "output_type": "stream",
     "text": [
      "C:\\Users\\Shefali\\Anaconda3\\lib\\site-packages\\plotly\\offline\\offline.py:635: UserWarning:\n",
      "\n",
      "Your filename `stacked-subplots` didn't end with .html. Adding .html to the end of your file.\n",
      "\n"
     ]
    },
    {
     "data": {
      "text/plain": [
       "'file://C:\\\\Users\\\\Shefali\\\\Desktop\\\\PY Work\\\\stacked-subplots.html'"
      ]
     },
     "execution_count": 26,
     "metadata": {},
     "output_type": "execute_result"
    }
   ],
   "source": [
    "from statsmodels.tsa.seasonal import seasonal_decompose\n",
    "\n",
    "decomposition = seasonal_decompose(indexed_book1_logscale)\n",
    "\n",
    "trend = decomposition.trend\n",
    "seasonal = decomposition.seasonal\n",
    "residual = decomposition.resid\n",
    "\n",
    "from plotly import tools\n",
    "\n",
    "trace1 = go.Scatter(x= indexed_book1_logscale.index, y= indexed_book1_logscale.price, name='Original')\n",
    "trace2 = go.Scatter(x= trend.index, y= trend.price, name='Trend')\n",
    "trace3 = go.Scatter(x= seasonal.index, y= seasonal.price, name='Seasonality')\n",
    "trace4 = go.Scatter(x= residual.index, y= residual.price, name='Residual')\n",
    "\n",
    "fig = tools.make_subplots(rows=4, cols=1)\n",
    "\n",
    "fig.append_trace(trace1, 1, 1)\n",
    "fig.append_trace(trace2, 2, 1)\n",
    "fig.append_trace(trace3, 3, 1)\n",
    "fig.append_trace(trace4, 4, 1)\n",
    "\n",
    "\n",
    "fig['layout'].update(title='Stacked subplots')\n",
    "plot(fig, filename='stacked-subplots')"
   ]
  },
  {
   "cell_type": "code",
   "execution_count": 27,
   "metadata": {},
   "outputs": [
    {
     "name": "stderr",
     "output_type": "stream",
     "text": [
      "C:\\Users\\Shefali\\Anaconda3\\lib\\site-packages\\plotly\\offline\\offline.py:635: UserWarning:\n",
      "\n",
      "Your filename `styled-line` didn't end with .html. Adding .html to the end of your file.\n",
      "\n"
     ]
    },
    {
     "data": {
      "text/plain": [
       "'file://C:\\\\Users\\\\Shefali\\\\Desktop\\\\PY Work\\\\styled-line.html'"
      ]
     },
     "execution_count": 27,
     "metadata": {},
     "output_type": "execute_result"
    }
   ],
   "source": [
    "#Residuals are irregualr in nature\n",
    "#So checking noise stationarity\n",
    "\n",
    "decomposed_logdata = residual\n",
    "decomposed_logdata.dropna(inplace=True)\n",
    "\n",
    "#Determining the Stationarity of data\n",
    "\n",
    "moving_avg = decomposed_logdata.rolling(window='14d').mean()\n",
    "moving_std = decomposed_logdata.rolling(window='14d').std()\n",
    "    \n",
    "trace1 = go.Scatter(x= decomposed_logdata.index, y= decomposed_logdata.price, name='Original')\n",
    "trace2 = go.Scatter(x= moving_avg.index , y= moving_avg.price, name= 'Rolling Mean')\n",
    "trace3 = go.Scatter(x= moving_std.index , y= moving_std.price, name= 'Rolling Std')\n",
    "data = [trace1, trace2, trace3]\n",
    "    # Edit the layout\n",
    "layout = dict(title = 'Rolling Mean and Standard Deviation',\n",
    "              xaxis = dict(title = 'Date'),\n",
    "              yaxis = dict(title = 'Price'))\n",
    "fig = dict(data=data, layout=layout)\n",
    "plot(fig, filename='styled-line')"
   ]
  },
  {
   "cell_type": "code",
   "execution_count": 28,
   "metadata": {},
   "outputs": [
    {
     "name": "stderr",
     "output_type": "stream",
     "text": [
      "C:\\Users\\Shefali\\Anaconda3\\lib\\site-packages\\statsmodels\\regression\\linear_model.py:1283: RuntimeWarning:\n",
      "\n",
      "invalid value encountered in sqrt\n",
      "\n",
      "C:\\Users\\Shefali\\Anaconda3\\lib\\site-packages\\statsmodels\\regression\\linear_model.py:1275: RuntimeWarning:\n",
      "\n",
      "invalid value encountered in double_scalars\n",
      "\n"
     ]
    },
    {
     "data": {
      "text/plain": [
       "'file://C:\\\\Users\\\\Shefali\\\\Desktop\\\\PY Work\\\\temp-plot.html'"
      ]
     },
     "execution_count": 28,
     "metadata": {},
     "output_type": "execute_result"
    }
   ],
   "source": [
    "#ACF and PACF plots\n",
    "\n",
    "from statsmodels.tsa.stattools import acf, pacf\n",
    "\n",
    "lag_acf = acf(indexed_book1_logscale_diffshift)\n",
    "lag_pacf = pacf(indexed_book1_logscale_diffshift)\n",
    "#lag_acf,lag_pacf\n",
    "\n",
    "#ACF\n",
    "#trace1 = go.Scatter(y= lag_acf, name='Autocorrelation Function', type='bar')\n",
    "trace1 = {\"y\": lag_acf, \"name\": \"Autocorrelation Function\", \"type\": \"bar\"}\n",
    "trace2 = {\"y\": lag_pacf, \"name\": \"Partial Autocorrelation Function\", \"type\": \"bar\"}\n",
    "#trace2 = go.Scatter(y= lag_pacf, name='Partial Autocorrelation Function', type='bar')\n",
    "\n",
    "data = [trace1, trace2]\n",
    "layout = dict(title = 'ACF and PACF Plots')\n",
    "fig = dict(data=data, layout=layout)\n",
    "plot(fig)"
   ]
  },
  {
   "cell_type": "code",
   "execution_count": 35,
   "metadata": {},
   "outputs": [
    {
     "name": "stdout",
     "output_type": "stream",
     "text": [
      "Plotting AR Model...\n"
     ]
    },
    {
     "name": "stderr",
     "output_type": "stream",
     "text": [
      "C:\\Users\\Shefali\\Anaconda3\\lib\\site-packages\\statsmodels\\tsa\\base\\tsa_model.py:171: ValueWarning:\n",
      "\n",
      "No frequency information was provided, so inferred frequency D will be used.\n",
      "\n",
      "C:\\Users\\Shefali\\Anaconda3\\lib\\site-packages\\statsmodels\\tsa\\base\\tsa_model.py:171: ValueWarning:\n",
      "\n",
      "No frequency information was provided, so inferred frequency D will be used.\n",
      "\n"
     ]
    },
    {
     "data": {
      "text/plain": [
       "'file://C:\\\\Users\\\\Shefali\\\\Desktop\\\\PY Work\\\\temp-plot.html'"
      ]
     },
     "execution_count": 35,
     "metadata": {},
     "output_type": "execute_result"
    }
   ],
   "source": [
    "#AR Model\n",
    "from statsmodels.tsa.arima_model import ARIMA\n",
    "\n",
    "model = ARIMA(indexed_book1_logscale, order= (3,1,0))\n",
    "results_AR = model.fit(disp=-1)\n",
    "\n",
    "print(\"Plotting AR Model...\")\n",
    "trace1 = go.Scatter(x= indexed_book1_logscale_diffshift.index, y= indexed_book1_logscale_diffshift.price, name='Original')\n",
    "trace2 = go.Scatter(y=results_AR.fittedvalues, name='AR fitted values')\n",
    "\n",
    "data = [trace1, trace2]\n",
    "layout = dict(title = 'RSS: %.4f'%sum((results_AR.fittedvalues-indexed_book1_logscale_diffshift.price)**2))\n",
    "fig = dict(data=data, layout=layout)\n",
    "plot(fig)"
   ]
  },
  {
   "cell_type": "code",
   "execution_count": 36,
   "metadata": {},
   "outputs": [
    {
     "name": "stdout",
     "output_type": "stream",
     "text": [
      "Plotting MA Model...\n"
     ]
    },
    {
     "name": "stderr",
     "output_type": "stream",
     "text": [
      "C:\\Users\\Shefali\\Anaconda3\\lib\\site-packages\\statsmodels\\tsa\\base\\tsa_model.py:171: ValueWarning:\n",
      "\n",
      "No frequency information was provided, so inferred frequency D will be used.\n",
      "\n",
      "C:\\Users\\Shefali\\Anaconda3\\lib\\site-packages\\statsmodels\\tsa\\base\\tsa_model.py:171: ValueWarning:\n",
      "\n",
      "No frequency information was provided, so inferred frequency D will be used.\n",
      "\n"
     ]
    },
    {
     "data": {
      "text/plain": [
       "'file://C:\\\\Users\\\\Shefali\\\\Desktop\\\\PY Work\\\\temp-plot.html'"
      ]
     },
     "execution_count": 36,
     "metadata": {},
     "output_type": "execute_result"
    }
   ],
   "source": [
    "#MA Model\n",
    "from statsmodels.tsa.arima_model import ARIMA\n",
    "\n",
    "model = ARIMA(indexed_book1_logscale, order= (0,1,0))\n",
    "results_MA = model.fit(disp=-1)\n",
    "\n",
    "print(\"Plotting MA Model...\")\n",
    "trace1 = go.Scatter(x= indexed_book1_logscale_diffshift.index, y= indexed_book1_logscale_diffshift.price, name='Original')\n",
    "trace2 = go.Scatter(y=results_MA.fittedvalues, name='MA fitted values')\n",
    "\n",
    "data = [trace1, trace2]\n",
    "layout = dict(title = 'RSS: %.4f'%sum((results_MA.fittedvalues-indexed_book1_logscale_diffshift.price)**2))\n",
    "fig = dict(data=data, layout=layout)\n",
    "plot(fig)"
   ]
  },
  {
   "cell_type": "code",
   "execution_count": 37,
   "metadata": {},
   "outputs": [],
   "source": [
    "#AR Model is better as it has less RSS value than MA Model"
   ]
  },
  {
   "cell_type": "code",
   "execution_count": 38,
   "metadata": {},
   "outputs": [
    {
     "name": "stdout",
     "output_type": "stream",
     "text": [
      "date\n",
      "2019-01-25    0.018392\n",
      "2019-01-26    0.023395\n",
      "2019-01-27    0.029832\n",
      "2019-01-28    0.027168\n",
      "2019-01-29   -0.031589\n",
      "2019-01-30   -0.017350\n",
      "2019-01-31    0.043449\n",
      "2019-02-01   -0.046530\n",
      "2019-02-02   -0.017807\n",
      "2019-02-03    0.055821\n",
      "2019-02-04    0.084762\n",
      "2019-02-05    0.073086\n",
      "2019-02-06   -0.050228\n",
      "dtype: float64\n",
      "date\n",
      "2019-01-25    0.018392\n",
      "2019-01-26    0.041787\n",
      "2019-01-27    0.071619\n",
      "2019-01-28    0.098788\n",
      "2019-01-29    0.067199\n",
      "2019-01-30    0.049848\n",
      "2019-01-31    0.093297\n",
      "2019-02-01    0.046767\n",
      "2019-02-02    0.028960\n",
      "2019-02-03    0.084781\n",
      "2019-02-04    0.169543\n",
      "2019-02-05    0.242629\n",
      "2019-02-06    0.192401\n",
      "dtype: float64\n"
     ]
    }
   ],
   "source": [
    "prediction = pd.Series(results_AR.fittedvalues, copy=True)\n",
    "print(prediction)\n",
    "\n",
    "prediction_cumsum = prediction.cumsum()\n",
    "print(prediction_cumsum)"
   ]
  },
  {
   "cell_type": "code",
   "execution_count": 39,
   "metadata": {},
   "outputs": [
    {
     "name": "stderr",
     "output_type": "stream",
     "text": [
      "C:\\Users\\Shefali\\Anaconda3\\lib\\site-packages\\ipykernel_launcher.py:1: DeprecationWarning:\n",
      "\n",
      "\n",
      ".ix is deprecated. Please use\n",
      ".loc for label based indexing or\n",
      ".iloc for positional indexing\n",
      "\n",
      "See the documentation here:\n",
      "http://pandas.pydata.org/pandas-docs/stable/indexing.html#ix-indexer-is-deprecated\n",
      "\n"
     ]
    },
    {
     "data": {
      "text/plain": [
       "date\n",
       "2019-01-24    4.787492\n",
       "2019-01-25    4.805884\n",
       "2019-01-26    4.829279\n",
       "2019-01-27    4.859111\n",
       "2019-01-28    4.886279\n",
       "2019-01-29    4.854691\n",
       "2019-01-30    4.837340\n",
       "2019-01-31    4.880789\n",
       "2019-02-01    4.834259\n",
       "2019-02-02    4.816452\n",
       "2019-02-03    4.872273\n",
       "2019-02-04    4.957034\n",
       "2019-02-05    5.030121\n",
       "2019-02-06    4.979892\n",
       "dtype: float64"
      ]
     },
     "execution_count": 39,
     "metadata": {},
     "output_type": "execute_result"
    }
   ],
   "source": [
    "prediction_log = pd.Series(indexed_book1_logscale.price.ix[0], index = indexed_book1_logscale.index)\n",
    "prediction_log = prediction_log.add(prediction_cumsum, fill_value=0)\n",
    "prediction_log"
   ]
  },
  {
   "cell_type": "code",
   "execution_count": 40,
   "metadata": {},
   "outputs": [
    {
     "data": {
      "text/plain": [
       "'file://C:\\\\Users\\\\Shefali\\\\Desktop\\\\PY Work\\\\temp-plot.html'"
      ]
     },
     "execution_count": 40,
     "metadata": {},
     "output_type": "execute_result"
    }
   ],
   "source": [
    "prediction_ARIMA = np.exp(prediction_log)\n",
    "\n",
    "trace1 = go.Scatter(x= indexed_book1.index, y= indexed_book1.price, name='Original data')\n",
    "trace2 = go.Scatter(y=prediction_ARIMA, name='prdiction')\n",
    "\n",
    "data = [trace1, trace2]\n",
    "layout = dict(title = \"Predictions\")\n",
    "fig = dict(data=data, layout=layout)\n",
    "plot(fig)"
   ]
  },
  {
   "cell_type": "code",
   "execution_count": 41,
   "metadata": {},
   "outputs": [
    {
     "data": {
      "text/html": [
       "<div>\n",
       "<style scoped>\n",
       "    .dataframe tbody tr th:only-of-type {\n",
       "        vertical-align: middle;\n",
       "    }\n",
       "\n",
       "    .dataframe tbody tr th {\n",
       "        vertical-align: top;\n",
       "    }\n",
       "\n",
       "    .dataframe thead th {\n",
       "        text-align: right;\n",
       "    }\n",
       "</style>\n",
       "<table border=\"1\" class=\"dataframe\">\n",
       "  <thead>\n",
       "    <tr style=\"text-align: right;\">\n",
       "      <th></th>\n",
       "      <th>price</th>\n",
       "    </tr>\n",
       "    <tr>\n",
       "      <th>date</th>\n",
       "      <th></th>\n",
       "    </tr>\n",
       "  </thead>\n",
       "  <tbody>\n",
       "    <tr>\n",
       "      <th>2019-01-24</th>\n",
       "      <td>4.787492</td>\n",
       "    </tr>\n",
       "    <tr>\n",
       "      <th>2019-01-25</th>\n",
       "      <td>4.787492</td>\n",
       "    </tr>\n",
       "    <tr>\n",
       "      <th>2019-01-26</th>\n",
       "      <td>4.787492</td>\n",
       "    </tr>\n",
       "    <tr>\n",
       "      <th>2019-01-27</th>\n",
       "      <td>4.787492</td>\n",
       "    </tr>\n",
       "    <tr>\n",
       "      <th>2019-01-28</th>\n",
       "      <td>4.969813</td>\n",
       "    </tr>\n",
       "    <tr>\n",
       "      <th>2019-01-29</th>\n",
       "      <td>4.969813</td>\n",
       "    </tr>\n",
       "    <tr>\n",
       "      <th>2019-01-30</th>\n",
       "      <td>4.969813</td>\n",
       "    </tr>\n",
       "    <tr>\n",
       "      <th>2019-01-31</th>\n",
       "      <td>5.198497</td>\n",
       "    </tr>\n",
       "    <tr>\n",
       "      <th>2019-02-01</th>\n",
       "      <td>5.164786</td>\n",
       "    </tr>\n",
       "    <tr>\n",
       "      <th>2019-02-02</th>\n",
       "      <td>5.164786</td>\n",
       "    </tr>\n",
       "    <tr>\n",
       "      <th>2019-02-03</th>\n",
       "      <td>4.976734</td>\n",
       "    </tr>\n",
       "    <tr>\n",
       "      <th>2019-02-04</th>\n",
       "      <td>4.976734</td>\n",
       "    </tr>\n",
       "    <tr>\n",
       "      <th>2019-02-05</th>\n",
       "      <td>5.164786</td>\n",
       "    </tr>\n",
       "    <tr>\n",
       "      <th>2019-02-06</th>\n",
       "      <td>4.969813</td>\n",
       "    </tr>\n",
       "  </tbody>\n",
       "</table>\n",
       "</div>"
      ],
      "text/plain": [
       "               price\n",
       "date                \n",
       "2019-01-24  4.787492\n",
       "2019-01-25  4.787492\n",
       "2019-01-26  4.787492\n",
       "2019-01-27  4.787492\n",
       "2019-01-28  4.969813\n",
       "2019-01-29  4.969813\n",
       "2019-01-30  4.969813\n",
       "2019-01-31  5.198497\n",
       "2019-02-01  5.164786\n",
       "2019-02-02  5.164786\n",
       "2019-02-03  4.976734\n",
       "2019-02-04  4.976734\n",
       "2019-02-05  5.164786\n",
       "2019-02-06  4.969813"
      ]
     },
     "execution_count": 41,
     "metadata": {},
     "output_type": "execute_result"
    }
   ],
   "source": [
    "indexed_book1_logscale"
   ]
  },
  {
   "cell_type": "code",
   "execution_count": 43,
   "metadata": {},
   "outputs": [
    {
     "data": {
      "text/plain": [
       "(array([5.01389759, 5.09125906, 5.06532093, 5.08589498, 5.11967441,\n",
       "        5.12861654, 5.14649199]),\n",
       " array([0.11185957, 0.13512878, 0.14789708, 0.17006911, 0.18664352,\n",
       "        0.20002996, 0.21448114]),\n",
       " array([[4.79465687, 5.23313832],\n",
       "        [4.82641152, 5.3561066 ],\n",
       "        [4.77544799, 5.35519387],\n",
       "        [4.75256565, 5.41922431],\n",
       "        [4.75385983, 5.48548899],\n",
       "        [4.73656503, 5.52066805],\n",
       "        [4.72611669, 5.5668673 ]]))"
      ]
     },
     "execution_count": 43,
     "metadata": {},
     "output_type": "execute_result"
    },
    {
     "data": {
      "image/png": "[encoded data removed]",
      "text/plain": [
       "<Figure size 432x288 with 1 Axes>"
      ]
     },
     "metadata": {
      "needs_background": "light"
     },
     "output_type": "display_data"
    }
   ],
   "source": [
    "forecast = results_AR.forecast(steps=7)\n",
    "#print(results_AR.forecast(steps=7))\n",
    "\n",
    "results_AR.plot_predict(1,21)\n",
    "results_AR.forecast(steps=7)"
   ]
  },
  {
   "cell_type": "code",
   "execution_count": null,
   "metadata": {},
   "outputs": [],
   "source": []
  }
 ],
 "metadata": {
  "kernelspec": {
   "display_name": "Python 3",
   "language": "python",
   "name": "python3"
  },
  "language_info": {
   "codemirror_mode": {
    "name": "ipython",
    "version": 3
   },
   "file_extension": ".py",
   "mimetype": "text/x-python",
   "name": "python",
   "nbconvert_exporter": "python",
   "pygments_lexer": "ipython3",
   "version": "3.7.1"
  }
 },
 "nbformat": 4,
 "nbformat_minor": 2
}
