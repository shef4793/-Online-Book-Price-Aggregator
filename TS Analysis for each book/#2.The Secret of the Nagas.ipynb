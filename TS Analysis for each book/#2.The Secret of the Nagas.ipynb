{
 "cells": [
  {
   "cell_type": "code",
   "execution_count": 1,
   "metadata": {},
   "outputs": [],
   "source": [
    "from plotly import __version__\n",
    "from plotly.offline import download_plotlyjs, init_notebook_mode, plot, iplot\n",
    "\n",
    "import plotly.graph_objs as go"
   ]
  },
  {
   "cell_type": "code",
   "execution_count": 2,
   "metadata": {},
   "outputs": [
    {
     "data": {
      "text/html": [
       "<div>\n",
       "<style scoped>\n",
       "    .dataframe tbody tr th:only-of-type {\n",
       "        vertical-align: middle;\n",
       "    }\n",
       "\n",
       "    .dataframe tbody tr th {\n",
       "        vertical-align: top;\n",
       "    }\n",
       "\n",
       "    .dataframe thead th {\n",
       "        text-align: right;\n",
       "    }\n",
       "</style>\n",
       "<table border=\"1\" class=\"dataframe\">\n",
       "  <thead>\n",
       "    <tr style=\"text-align: right;\">\n",
       "      <th></th>\n",
       "      <th>title</th>\n",
       "      <th>date</th>\n",
       "      <th>price</th>\n",
       "    </tr>\n",
       "  </thead>\n",
       "  <tbody>\n",
       "    <tr>\n",
       "      <th>0</th>\n",
       "      <td>The Immortals of Meluha</td>\n",
       "      <td>2019-01-24</td>\n",
       "      <td>254</td>\n",
       "    </tr>\n",
       "    <tr>\n",
       "      <th>1</th>\n",
       "      <td>The Immortals of Meluha</td>\n",
       "      <td>2019-01-25</td>\n",
       "      <td>254</td>\n",
       "    </tr>\n",
       "    <tr>\n",
       "      <th>2</th>\n",
       "      <td>The Immortals of Meluha</td>\n",
       "      <td>2019-01-26</td>\n",
       "      <td>296</td>\n",
       "    </tr>\n",
       "    <tr>\n",
       "      <th>3</th>\n",
       "      <td>The Immortals of Meluha</td>\n",
       "      <td>2019-01-27</td>\n",
       "      <td>221</td>\n",
       "    </tr>\n",
       "    <tr>\n",
       "      <th>4</th>\n",
       "      <td>The Immortals of Meluha</td>\n",
       "      <td>2019-01-28</td>\n",
       "      <td>221</td>\n",
       "    </tr>\n",
       "  </tbody>\n",
       "</table>\n",
       "</div>"
      ],
      "text/plain": [
       "                     title       date  price\n",
       "0  The Immortals of Meluha 2019-01-24    254\n",
       "1  The Immortals of Meluha 2019-01-25    254\n",
       "2  The Immortals of Meluha 2019-01-26    296\n",
       "3  The Immortals of Meluha 2019-01-27    221\n",
       "4  The Immortals of Meluha 2019-01-28    221"
      ]
     },
     "execution_count": 2,
     "metadata": {},
     "output_type": "execute_result"
    }
   ],
   "source": [
    "import pandas as pd\n",
    "import numpy as np\n",
    "df = pd.read_excel('books_variation.xlsx')\n",
    "df.head()"
   ]
  },
  {
   "cell_type": "code",
   "execution_count": 3,
   "metadata": {},
   "outputs": [
    {
     "data": {
      "text/html": [
       "<div>\n",
       "<style scoped>\n",
       "    .dataframe tbody tr th:only-of-type {\n",
       "        vertical-align: middle;\n",
       "    }\n",
       "\n",
       "    .dataframe tbody tr th {\n",
       "        vertical-align: top;\n",
       "    }\n",
       "\n",
       "    .dataframe thead th {\n",
       "        text-align: right;\n",
       "    }\n",
       "</style>\n",
       "<table border=\"1\" class=\"dataframe\">\n",
       "  <thead>\n",
       "    <tr style=\"text-align: right;\">\n",
       "      <th></th>\n",
       "      <th>date</th>\n",
       "      <th>price</th>\n",
       "    </tr>\n",
       "  </thead>\n",
       "  <tbody>\n",
       "    <tr>\n",
       "      <th>14</th>\n",
       "      <td>2019-01-24</td>\n",
       "      <td>244</td>\n",
       "    </tr>\n",
       "    <tr>\n",
       "      <th>15</th>\n",
       "      <td>2019-01-25</td>\n",
       "      <td>199</td>\n",
       "    </tr>\n",
       "    <tr>\n",
       "      <th>16</th>\n",
       "      <td>2019-01-26</td>\n",
       "      <td>199</td>\n",
       "    </tr>\n",
       "    <tr>\n",
       "      <th>17</th>\n",
       "      <td>2019-01-27</td>\n",
       "      <td>188</td>\n",
       "    </tr>\n",
       "    <tr>\n",
       "      <th>18</th>\n",
       "      <td>2019-01-28</td>\n",
       "      <td>244</td>\n",
       "    </tr>\n",
       "    <tr>\n",
       "      <th>19</th>\n",
       "      <td>2019-01-29</td>\n",
       "      <td>220</td>\n",
       "    </tr>\n",
       "    <tr>\n",
       "      <th>20</th>\n",
       "      <td>2019-01-30</td>\n",
       "      <td>244</td>\n",
       "    </tr>\n",
       "    <tr>\n",
       "      <th>21</th>\n",
       "      <td>2019-01-31</td>\n",
       "      <td>244</td>\n",
       "    </tr>\n",
       "    <tr>\n",
       "      <th>22</th>\n",
       "      <td>2019-02-01</td>\n",
       "      <td>244</td>\n",
       "    </tr>\n",
       "    <tr>\n",
       "      <th>23</th>\n",
       "      <td>2019-02-02</td>\n",
       "      <td>244</td>\n",
       "    </tr>\n",
       "    <tr>\n",
       "      <th>24</th>\n",
       "      <td>2019-02-03</td>\n",
       "      <td>207</td>\n",
       "    </tr>\n",
       "    <tr>\n",
       "      <th>25</th>\n",
       "      <td>2019-02-04</td>\n",
       "      <td>207</td>\n",
       "    </tr>\n",
       "    <tr>\n",
       "      <th>26</th>\n",
       "      <td>2019-02-05</td>\n",
       "      <td>207</td>\n",
       "    </tr>\n",
       "    <tr>\n",
       "      <th>27</th>\n",
       "      <td>2019-02-06</td>\n",
       "      <td>207</td>\n",
       "    </tr>\n",
       "  </tbody>\n",
       "</table>\n",
       "</div>"
      ],
      "text/plain": [
       "         date  price\n",
       "14 2019-01-24    244\n",
       "15 2019-01-25    199\n",
       "16 2019-01-26    199\n",
       "17 2019-01-27    188\n",
       "18 2019-01-28    244\n",
       "19 2019-01-29    220\n",
       "20 2019-01-30    244\n",
       "21 2019-01-31    244\n",
       "22 2019-02-01    244\n",
       "23 2019-02-02    244\n",
       "24 2019-02-03    207\n",
       "25 2019-02-04    207\n",
       "26 2019-02-05    207\n",
       "27 2019-02-06    207"
      ]
     },
     "execution_count": 3,
     "metadata": {},
     "output_type": "execute_result"
    }
   ],
   "source": [
    "book1 = df.loc[df['title'] == 'The Secret of the Nagas']\n",
    "book1 = book1.drop(columns='title')\n",
    "book1"
   ]
  },
  {
   "cell_type": "code",
   "execution_count": 4,
   "metadata": {},
   "outputs": [
    {
     "data": {
      "text/plain": [
       "DatetimeIndex(['2019-01-24', '2019-01-25', '2019-01-26', '2019-01-27',\n",
       "               '2019-01-28', '2019-01-29', '2019-01-30', '2019-01-31',\n",
       "               '2019-02-01', '2019-02-02', '2019-02-03', '2019-02-04',\n",
       "               '2019-02-05', '2019-02-06'],\n",
       "              dtype='datetime64[ns]', name='date', freq=None)"
      ]
     },
     "execution_count": 4,
     "metadata": {},
     "output_type": "execute_result"
    }
   ],
   "source": [
    "book1['date'] = pd.to_datetime(df['date'], infer_datetime_format=True)\n",
    "indexed_book1 = book1.set_index(['date'])\n",
    "indexed_book1.index"
   ]
  },
  {
   "cell_type": "code",
   "execution_count": 5,
   "metadata": {},
   "outputs": [
    {
     "name": "stderr",
     "output_type": "stream",
     "text": [
      "C:\\Users\\Shefali\\Anaconda3\\lib\\site-packages\\plotly\\offline\\offline.py:635: UserWarning:\n",
      "\n",
      "Your filename `basic-line` didn't end with .html. Adding .html to the end of your file.\n",
      "\n"
     ]
    },
    {
     "data": {
      "text/plain": [
       "'file://C:\\\\Users\\\\Shefali\\\\Desktop\\\\PY Work\\\\basic-line.html'"
      ]
     },
     "execution_count": 5,
     "metadata": {},
     "output_type": "execute_result"
    }
   ],
   "source": [
    "data = [go.Scatter(x= indexed_book1.index, y= indexed_book1.price)]\n",
    "plot(data, filename='basic-line')"
   ]
  },
  {
   "cell_type": "code",
   "execution_count": 6,
   "metadata": {},
   "outputs": [
    {
     "data": {
      "text/plain": [
       "(                 price\n",
       " date                  \n",
       " 2019-01-24  244.000000\n",
       " 2019-01-25  221.500000\n",
       " 2019-01-26  214.000000\n",
       " 2019-01-27  207.500000\n",
       " 2019-01-28  214.800000\n",
       " 2019-01-29  215.666667\n",
       " 2019-01-30  219.714286\n",
       " 2019-01-31  222.750000\n",
       " 2019-02-01  225.111111\n",
       " 2019-02-02  227.000000\n",
       " 2019-02-03  225.181818\n",
       " 2019-02-04  223.666667\n",
       " 2019-02-05  222.384615\n",
       " 2019-02-06  221.285714,                 price\n",
       " date                 \n",
       " 2019-01-24        NaN\n",
       " 2019-01-25  31.819805\n",
       " 2019-01-26  25.980762\n",
       " 2019-01-27  24.879711\n",
       " 2019-01-28  27.031463\n",
       " 2019-01-29  24.270696\n",
       " 2019-01-30  24.608361\n",
       " 2019-01-31  24.347191\n",
       " 2019-02-01  23.850809\n",
       " 2019-02-02  23.266571\n",
       " 2019-02-03  22.881513\n",
       " 2019-02-04  22.439143\n",
       " 2019-02-05  21.975511\n",
       " 2019-02-06  21.510028)"
      ]
     },
     "execution_count": 6,
     "metadata": {},
     "output_type": "execute_result"
    }
   ],
   "source": [
    "#Determining rolling statistics\n",
    "rollmean = indexed_book1.rolling(window='14d').mean()  #monthly basis\n",
    "rollstd = indexed_book1.rolling(window='14d').std()\n",
    "rollmean, rollstd"
   ]
  },
  {
   "cell_type": "code",
   "execution_count": 7,
   "metadata": {},
   "outputs": [
    {
     "name": "stderr",
     "output_type": "stream",
     "text": [
      "C:\\Users\\Shefali\\Anaconda3\\lib\\site-packages\\plotly\\offline\\offline.py:635: UserWarning:\n",
      "\n",
      "Your filename `styled-line` didn't end with .html. Adding .html to the end of your file.\n",
      "\n"
     ]
    },
    {
     "data": {
      "text/plain": [
       "'file://C:\\\\Users\\\\Shefali\\\\Desktop\\\\PY Work\\\\styled-line.html'"
      ]
     },
     "execution_count": 7,
     "metadata": {},
     "output_type": "execute_result"
    }
   ],
   "source": [
    "#Plotting Rolling Statistics\n",
    "\n",
    "trace1 = go.Scatter(x= indexed_book1.index, y= indexed_book1.price, name='Original')\n",
    "trace2 = go.Scatter(x= rollmean.index , y= rollmean.price, name= 'Rolling Mean')\n",
    "trace3 = go.Scatter(x= rollstd.index , y= rollstd.price, name= 'Rolling Std')\n",
    "data = [trace1, trace2, trace3]\n",
    "    # Edit the layout\n",
    "layout = dict(title = 'Rolling Mean and Standard Deviation',\n",
    "              xaxis = dict(title = 'Date'),\n",
    "              yaxis = dict(title = 'Price')\n",
    "              )\n",
    "fig = dict(data=data, layout=layout)\n",
    "plot(fig, filename='styled-line')"
   ]
  },
  {
   "cell_type": "code",
   "execution_count": 8,
   "metadata": {},
   "outputs": [
    {
     "name": "stdout",
     "output_type": "stream",
     "text": [
      "Test statistic                -0.000000\n",
      "p-value                        0.958532\n",
      "lags used                      8.000000\n",
      "number of observations used    5.000000\n",
      "Critical value (1%)           -6.045114\n",
      "Critical value (5%)           -3.929280\n",
      "Critical value (10%)          -2.986810\n",
      "dtype: float64\n"
     ]
    },
    {
     "name": "stderr",
     "output_type": "stream",
     "text": [
      "C:\\Users\\Shefali\\Anaconda3\\lib\\site-packages\\statsmodels\\regression\\linear_model.py:1510: RuntimeWarning:\n",
      "\n",
      "divide by zero encountered in double_scalars\n",
      "\n"
     ]
    }
   ],
   "source": [
    "#Dickey-Fuller test\n",
    "from statsmodels.tsa.stattools import adfuller\n",
    "\n",
    "dftest = adfuller(indexed_book1['price'], autolag='AIC')\n",
    "dfout = pd.Series(dftest[0:4], index= ['Test statistic','p-value','lags used','number of observations used'])\n",
    "for key,value in dftest[4].items():\n",
    "    dfout['Critical value (%s)'%key] = value\n",
    "print(dfout)\n"
   ]
  },
  {
   "cell_type": "code",
   "execution_count": 9,
   "metadata": {},
   "outputs": [],
   "source": [
    "#The test statistic is positive, meaning we are much less likely to reject the null hypothesis (it looks non-stationary).\n",
    "#Comparing the test statistic to the critical values, it looks like we would have to fail to reject the null hypothesis \n",
    "#that the time series is non-stationary and does have time-dependent structure."
   ]
  },
  {
   "cell_type": "code",
   "execution_count": null,
   "metadata": {},
   "outputs": [],
   "source": []
  },
  {
   "cell_type": "code",
   "execution_count": 24,
   "metadata": {},
   "outputs": [
    {
     "name": "stderr",
     "output_type": "stream",
     "text": [
      "C:\\Users\\Shefali\\Anaconda3\\lib\\site-packages\\plotly\\offline\\offline.py:635: UserWarning:\n",
      "\n",
      "Your filename `line-mode` didn't end with .html. Adding .html to the end of your file.\n",
      "\n"
     ]
    },
    {
     "data": {
      "text/plain": [
       "'file://C:\\\\Users\\\\Shefali\\\\Desktop\\\\PY Work\\\\line-mode.html'"
      ]
     },
     "execution_count": 24,
     "metadata": {},
     "output_type": "execute_result"
    }
   ],
   "source": [
    "#log transform the dataset to make the distribution of values more linear and better meet the expectations of this statistical test\n",
    "\n",
    "#indexed_book1_logscale = np.log(indexed_book1)\n",
    "\n",
    "data = [go.Scatter(x= indexed_book1.index, y= indexed_book1.price)]\n",
    "plot(data, filename='line-mode')"
   ]
  },
  {
   "cell_type": "code",
   "execution_count": 25,
   "metadata": {},
   "outputs": [
    {
     "data": {
      "text/plain": [
       "(                 price\n",
       " date                  \n",
       " 2019-01-24  244.000000\n",
       " 2019-01-25  221.500000\n",
       " 2019-01-26  214.000000\n",
       " 2019-01-27  207.500000\n",
       " 2019-01-28  214.800000\n",
       " 2019-01-29  215.666667\n",
       " 2019-01-30  219.714286\n",
       " 2019-01-31  222.750000\n",
       " 2019-02-01  225.111111\n",
       " 2019-02-02  227.000000\n",
       " 2019-02-03  225.181818\n",
       " 2019-02-04  223.666667\n",
       " 2019-02-05  222.384615\n",
       " 2019-02-06  221.285714,                 price\n",
       " date                 \n",
       " 2019-01-24        NaN\n",
       " 2019-01-25  31.819805\n",
       " 2019-01-26  25.980762\n",
       " 2019-01-27  24.879711\n",
       " 2019-01-28  27.031463\n",
       " 2019-01-29  24.270696\n",
       " 2019-01-30  24.608361\n",
       " 2019-01-31  24.347191\n",
       " 2019-02-01  23.850809\n",
       " 2019-02-02  23.266571\n",
       " 2019-02-03  22.881513\n",
       " 2019-02-04  22.439143\n",
       " 2019-02-05  21.975511\n",
       " 2019-02-06  21.510028)"
      ]
     },
     "execution_count": 25,
     "metadata": {},
     "output_type": "execute_result"
    }
   ],
   "source": [
    "# Moving Average with log timeseries\n",
    "\n",
    "moving_avg = indexed_book1.rolling(window='14d').mean()\n",
    "moving_std = indexed_book1.rolling(window='14d').std()\n",
    "moving_avg, moving_std"
   ]
  },
  {
   "cell_type": "code",
   "execution_count": 26,
   "metadata": {},
   "outputs": [
    {
     "name": "stderr",
     "output_type": "stream",
     "text": [
      "C:\\Users\\Shefali\\Anaconda3\\lib\\site-packages\\plotly\\offline\\offline.py:635: UserWarning:\n",
      "\n",
      "Your filename `basic-line` didn't end with .html. Adding .html to the end of your file.\n",
      "\n"
     ]
    },
    {
     "data": {
      "text/plain": [
       "'file://C:\\\\Users\\\\Shefali\\\\Desktop\\\\PY Work\\\\basic-line.html'"
      ]
     },
     "execution_count": 26,
     "metadata": {},
     "output_type": "execute_result"
    }
   ],
   "source": [
    "trace1 = go.Scatter(x= indexed_book1.index, y= indexed_book1.price)\n",
    "trace2 = go.Scatter(x= moving_avg.index , y= moving_avg.price)\n",
    "data = [trace1, trace2]\n",
    "plot(data, filename='basic-line')\n"
   ]
  },
  {
   "cell_type": "code",
   "execution_count": 27,
   "metadata": {},
   "outputs": [
    {
     "data": {
      "text/html": [
       "<div>\n",
       "<style scoped>\n",
       "    .dataframe tbody tr th:only-of-type {\n",
       "        vertical-align: middle;\n",
       "    }\n",
       "\n",
       "    .dataframe tbody tr th {\n",
       "        vertical-align: top;\n",
       "    }\n",
       "\n",
       "    .dataframe thead th {\n",
       "        text-align: right;\n",
       "    }\n",
       "</style>\n",
       "<table border=\"1\" class=\"dataframe\">\n",
       "  <thead>\n",
       "    <tr style=\"text-align: right;\">\n",
       "      <th></th>\n",
       "      <th>price</th>\n",
       "    </tr>\n",
       "    <tr>\n",
       "      <th>date</th>\n",
       "      <th></th>\n",
       "    </tr>\n",
       "  </thead>\n",
       "  <tbody>\n",
       "    <tr>\n",
       "      <th>2019-01-24</th>\n",
       "      <td>0.000000</td>\n",
       "    </tr>\n",
       "    <tr>\n",
       "      <th>2019-01-25</th>\n",
       "      <td>-22.500000</td>\n",
       "    </tr>\n",
       "    <tr>\n",
       "      <th>2019-01-26</th>\n",
       "      <td>-15.000000</td>\n",
       "    </tr>\n",
       "    <tr>\n",
       "      <th>2019-01-27</th>\n",
       "      <td>-19.500000</td>\n",
       "    </tr>\n",
       "    <tr>\n",
       "      <th>2019-01-28</th>\n",
       "      <td>29.200000</td>\n",
       "    </tr>\n",
       "    <tr>\n",
       "      <th>2019-01-29</th>\n",
       "      <td>4.333333</td>\n",
       "    </tr>\n",
       "    <tr>\n",
       "      <th>2019-01-30</th>\n",
       "      <td>24.285714</td>\n",
       "    </tr>\n",
       "    <tr>\n",
       "      <th>2019-01-31</th>\n",
       "      <td>21.250000</td>\n",
       "    </tr>\n",
       "    <tr>\n",
       "      <th>2019-02-01</th>\n",
       "      <td>18.888889</td>\n",
       "    </tr>\n",
       "    <tr>\n",
       "      <th>2019-02-02</th>\n",
       "      <td>17.000000</td>\n",
       "    </tr>\n",
       "    <tr>\n",
       "      <th>2019-02-03</th>\n",
       "      <td>-18.181818</td>\n",
       "    </tr>\n",
       "    <tr>\n",
       "      <th>2019-02-04</th>\n",
       "      <td>-16.666667</td>\n",
       "    </tr>\n",
       "    <tr>\n",
       "      <th>2019-02-05</th>\n",
       "      <td>-15.384615</td>\n",
       "    </tr>\n",
       "    <tr>\n",
       "      <th>2019-02-06</th>\n",
       "      <td>-14.285714</td>\n",
       "    </tr>\n",
       "  </tbody>\n",
       "</table>\n",
       "</div>"
      ],
      "text/plain": [
       "                price\n",
       "date                 \n",
       "2019-01-24   0.000000\n",
       "2019-01-25 -22.500000\n",
       "2019-01-26 -15.000000\n",
       "2019-01-27 -19.500000\n",
       "2019-01-28  29.200000\n",
       "2019-01-29   4.333333\n",
       "2019-01-30  24.285714\n",
       "2019-01-31  21.250000\n",
       "2019-02-01  18.888889\n",
       "2019-02-02  17.000000\n",
       "2019-02-03 -18.181818\n",
       "2019-02-04 -16.666667\n",
       "2019-02-05 -15.384615\n",
       "2019-02-06 -14.285714"
      ]
     },
     "execution_count": 27,
     "metadata": {},
     "output_type": "execute_result"
    }
   ],
   "source": [
    "#Difference between log timeseries and moving average\n",
    "\n",
    "logminusMA = indexed_book1 - moving_avg\n",
    "logminusMA"
   ]
  },
  {
   "cell_type": "code",
   "execution_count": 28,
   "metadata": {},
   "outputs": [
    {
     "name": "stderr",
     "output_type": "stream",
     "text": [
      "C:\\Users\\Shefali\\Anaconda3\\lib\\site-packages\\plotly\\offline\\offline.py:635: UserWarning:\n",
      "\n",
      "Your filename `styled-line` didn't end with .html. Adding .html to the end of your file.\n",
      "\n"
     ]
    },
    {
     "data": {
      "text/plain": [
       "'file://C:\\\\Users\\\\Shefali\\\\Desktop\\\\PY Work\\\\styled-line.html'"
      ]
     },
     "execution_count": 28,
     "metadata": {},
     "output_type": "execute_result"
    }
   ],
   "source": [
    "#Determining the Stationarity of data\n",
    "\n",
    "moving_avg = logminusMA.rolling(window='14d').mean()\n",
    "moving_std = logminusMA.rolling(window='14d').std()\n",
    "    \n",
    "trace1 = go.Scatter(x= logminusMA.index, y= logminusMA.price, name='Original')\n",
    "trace2 = go.Scatter(x= moving_avg.index , y= moving_avg.price, name= 'Rolling Mean')\n",
    "trace3 = go.Scatter(x= moving_std.index , y= moving_std.price, name= 'Rolling Std')\n",
    "data = [trace1, trace2, trace3]\n",
    "    # Edit the layout\n",
    "layout = dict(title = 'Rolling Mean and Standard Deviation',\n",
    "              xaxis = dict(title = 'Date'),\n",
    "              yaxis = dict(title = 'Price'))\n",
    "fig = dict(data=data, layout=layout)\n",
    "plot(fig, filename='styled-line')"
   ]
  },
  {
   "cell_type": "code",
   "execution_count": 29,
   "metadata": {},
   "outputs": [
    {
     "name": "stdout",
     "output_type": "stream",
     "text": [
      "Results of Dickey-Fuller test: \n",
      "Test statistic                -0.000000\n",
      "p-value                        0.958532\n",
      "lags used                      6.000000\n",
      "number of observations used    7.000000\n",
      "Critical value (1%)           -4.938690\n",
      "Critical value (5%)           -3.477583\n",
      "Critical value (10%)          -2.843868\n",
      "dtype: float64\n"
     ]
    },
    {
     "name": "stderr",
     "output_type": "stream",
     "text": [
      "C:\\Users\\Shefali\\Anaconda3\\lib\\site-packages\\statsmodels\\regression\\linear_model.py:1510: RuntimeWarning:\n",
      "\n",
      "divide by zero encountered in double_scalars\n",
      "\n"
     ]
    }
   ],
   "source": [
    "print(\"Results of Dickey-Fuller test: \")\n",
    "dftest = adfuller(logminusMA['price'], autolag='AIC')\n",
    "dfout = pd.Series(dftest[0:4], index= ['Test statistic','p-value','lags used','number of observations used'])\n",
    "for key,value in dftest[4].items():\n",
    "    dfout['Critical value (%s)'%key] = value\n",
    "print(dfout)"
   ]
  },
  {
   "cell_type": "code",
   "execution_count": 30,
   "metadata": {},
   "outputs": [],
   "source": [
    "#If you notice above, the p-value 0.020828 is relatively less that before which was 0.958532\n",
    "#Also, the Critical value and Test statistic value is almost equal which helps to determine whether data is stationary or not\n",
    "\n",
    "# Here timeseries is stationary and null-hypothesis is rejected"
   ]
  },
  {
   "cell_type": "code",
   "execution_count": 31,
   "metadata": {},
   "outputs": [
    {
     "data": {
      "text/html": [
       "<div>\n",
       "<style scoped>\n",
       "    .dataframe tbody tr th:only-of-type {\n",
       "        vertical-align: middle;\n",
       "    }\n",
       "\n",
       "    .dataframe tbody tr th {\n",
       "        vertical-align: top;\n",
       "    }\n",
       "\n",
       "    .dataframe thead th {\n",
       "        text-align: right;\n",
       "    }\n",
       "</style>\n",
       "<table border=\"1\" class=\"dataframe\">\n",
       "  <thead>\n",
       "    <tr style=\"text-align: right;\">\n",
       "      <th></th>\n",
       "      <th>price</th>\n",
       "    </tr>\n",
       "    <tr>\n",
       "      <th>date</th>\n",
       "      <th></th>\n",
       "    </tr>\n",
       "  </thead>\n",
       "  <tbody>\n",
       "    <tr>\n",
       "      <th>2019-01-24</th>\n",
       "      <td>244.000000</td>\n",
       "    </tr>\n",
       "    <tr>\n",
       "      <th>2019-01-25</th>\n",
       "      <td>210.250000</td>\n",
       "    </tr>\n",
       "    <tr>\n",
       "      <th>2019-01-26</th>\n",
       "      <td>202.461538</td>\n",
       "    </tr>\n",
       "    <tr>\n",
       "      <th>2019-01-27</th>\n",
       "      <td>192.700000</td>\n",
       "    </tr>\n",
       "    <tr>\n",
       "      <th>2019-01-28</th>\n",
       "      <td>227.041322</td>\n",
       "    </tr>\n",
       "    <tr>\n",
       "      <th>2019-01-29</th>\n",
       "      <td>222.340659</td>\n",
       "    </tr>\n",
       "    <tr>\n",
       "      <th>2019-01-30</th>\n",
       "      <td>236.786825</td>\n",
       "    </tr>\n",
       "    <tr>\n",
       "      <th>2019-01-31</th>\n",
       "      <td>241.596341</td>\n",
       "    </tr>\n",
       "    <tr>\n",
       "      <th>2019-02-01</th>\n",
       "      <td>243.198862</td>\n",
       "    </tr>\n",
       "    <tr>\n",
       "      <th>2019-02-02</th>\n",
       "      <td>243.732963</td>\n",
       "    </tr>\n",
       "    <tr>\n",
       "      <th>2019-02-03</th>\n",
       "      <td>219.244183</td>\n",
       "    </tr>\n",
       "    <tr>\n",
       "      <th>2019-02-04</th>\n",
       "      <td>211.081379</td>\n",
       "    </tr>\n",
       "    <tr>\n",
       "      <th>2019-02-05</th>\n",
       "      <td>208.360458</td>\n",
       "    </tr>\n",
       "    <tr>\n",
       "      <th>2019-02-06</th>\n",
       "      <td>207.453486</td>\n",
       "    </tr>\n",
       "  </tbody>\n",
       "</table>\n",
       "</div>"
      ],
      "text/plain": [
       "                 price\n",
       "date                  \n",
       "2019-01-24  244.000000\n",
       "2019-01-25  210.250000\n",
       "2019-01-26  202.461538\n",
       "2019-01-27  192.700000\n",
       "2019-01-28  227.041322\n",
       "2019-01-29  222.340659\n",
       "2019-01-30  236.786825\n",
       "2019-01-31  241.596341\n",
       "2019-02-01  243.198862\n",
       "2019-02-02  243.732963\n",
       "2019-02-03  219.244183\n",
       "2019-02-04  211.081379\n",
       "2019-02-05  208.360458\n",
       "2019-02-06  207.453486"
      ]
     },
     "execution_count": 31,
     "metadata": {},
     "output_type": "execute_result"
    }
   ],
   "source": [
    "#Calculate the weighted average to see the trend\n",
    "#DataFrame.ewm : Provides exponential weighted functions\n",
    "\n",
    "weighted_avg = indexed_book1.ewm(com=0.5).mean()\n",
    "weighted_avg"
   ]
  },
  {
   "cell_type": "code",
   "execution_count": 33,
   "metadata": {},
   "outputs": [
    {
     "name": "stderr",
     "output_type": "stream",
     "text": [
      "C:\\Users\\Shefali\\Anaconda3\\lib\\site-packages\\plotly\\offline\\offline.py:635: UserWarning:\n",
      "\n",
      "Your filename `basic-line` didn't end with .html. Adding .html to the end of your file.\n",
      "\n"
     ]
    },
    {
     "data": {
      "text/plain": [
       "'file://C:\\\\Users\\\\Shefali\\\\Desktop\\\\PY Work\\\\basic-line.html'"
      ]
     },
     "execution_count": 33,
     "metadata": {},
     "output_type": "execute_result"
    }
   ],
   "source": [
    "trace1 = go.Scatter(x= indexed_book1.index, y= indexed_book1.price)\n",
    "trace2 = go.Scatter(x= weighted_avg.index , y= weighted_avg.price)\n",
    "data = [trace1, trace2]\n",
    "plot(data, filename='basic-line')\n",
    "\n",
    "#As you can see, the trend is moving with the logged data with respect to time"
   ]
  },
  {
   "cell_type": "code",
   "execution_count": 34,
   "metadata": {},
   "outputs": [
    {
     "name": "stdout",
     "output_type": "stream",
     "text": [
      "                price\n",
      "date                 \n",
      "2019-01-24   0.000000\n",
      "2019-01-25 -11.250000\n",
      "2019-01-26  -3.461538\n",
      "2019-01-27  -4.700000\n",
      "2019-01-28  16.958678\n",
      "2019-01-29  -2.340659\n",
      "2019-01-30   7.213175\n",
      "2019-01-31   2.403659\n",
      "2019-02-01   0.801138\n",
      "2019-02-02   0.267037\n",
      "2019-02-03 -12.244183\n",
      "2019-02-04  -4.081379\n",
      "2019-02-05  -1.360458\n",
      "2019-02-06  -0.453486\n"
     ]
    },
    {
     "name": "stderr",
     "output_type": "stream",
     "text": [
      "C:\\Users\\Shefali\\Anaconda3\\lib\\site-packages\\plotly\\offline\\offline.py:635: UserWarning:\n",
      "\n",
      "Your filename `styled-line` didn't end with .html. Adding .html to the end of your file.\n",
      "\n"
     ]
    },
    {
     "data": {
      "text/plain": [
       "'file://C:\\\\Users\\\\Shefali\\\\Desktop\\\\PY Work\\\\styled-line.html'"
      ]
     },
     "execution_count": 34,
     "metadata": {},
     "output_type": "execute_result"
    }
   ],
   "source": [
    "#Difference between log timeseries and weighted average\n",
    "\n",
    "logminusWA = indexed_book1 - weighted_avg\n",
    "print(logminusWA)\n",
    "\n",
    "#Determining the Stationarity of data\n",
    "\n",
    "moving_avg = logminusWA.rolling(window='14d').mean()\n",
    "moving_std = logminusWA.rolling(window='14d').std()\n",
    "    \n",
    "trace1 = go.Scatter(x= logminusWA.index, y= logminusWA.price, name='Original')\n",
    "trace2 = go.Scatter(x= moving_avg.index , y= moving_avg.price, name= 'Rolling Mean')\n",
    "trace3 = go.Scatter(x= moving_std.index , y= moving_std.price, name= 'Rolling Std')\n",
    "data = [trace1, trace2, trace3]\n",
    "    # Edit the layout\n",
    "layout = dict(title = 'Rolling Mean and Standard Deviation',\n",
    "              xaxis = dict(title = 'Date'),\n",
    "              yaxis = dict(title = 'Price'))\n",
    "fig = dict(data=data, layout=layout)\n",
    "plot(fig, filename='styled-line')"
   ]
  },
  {
   "cell_type": "code",
   "execution_count": 35,
   "metadata": {},
   "outputs": [
    {
     "name": "stdout",
     "output_type": "stream",
     "text": [
      "Results of Dickey-Fuller test: \n",
      "Test statistic                -1.935642\n",
      "p-value                        0.315484\n",
      "lags used                      5.000000\n",
      "number of observations used    8.000000\n",
      "Critical value (1%)           -4.665186\n",
      "Critical value (5%)           -3.367187\n",
      "Critical value (10%)          -2.802961\n",
      "dtype: float64\n"
     ]
    }
   ],
   "source": [
    "print(\"Results of Dickey-Fuller test: \")\n",
    "dftest = adfuller(logminusWA['price'], autolag='AIC')\n",
    "dfout = pd.Series(dftest[0:4], index= ['Test statistic','p-value','lags used','number of observations used'])\n",
    "for key,value in dftest[4].items():\n",
    "    dfout['Critical value (%s)'%key] = value\n",
    "print(dfout)"
   ]
  },
  {
   "cell_type": "code",
   "execution_count": 36,
   "metadata": {},
   "outputs": [],
   "source": [
    "# No difference in the p-value from original data and weighted average data\n",
    "# Here timeseries is not stationary"
   ]
  },
  {
   "cell_type": "code",
   "execution_count": 37,
   "metadata": {},
   "outputs": [
    {
     "name": "stderr",
     "output_type": "stream",
     "text": [
      "C:\\Users\\Shefali\\Anaconda3\\lib\\site-packages\\plotly\\offline\\offline.py:635: UserWarning:\n",
      "\n",
      "Your filename `basic-line` didn't end with .html. Adding .html to the end of your file.\n",
      "\n"
     ]
    },
    {
     "data": {
      "text/plain": [
       "'file://C:\\\\Users\\\\Shefali\\\\Desktop\\\\PY Work\\\\basic-line.html'"
      ]
     },
     "execution_count": 37,
     "metadata": {},
     "output_type": "execute_result"
    }
   ],
   "source": [
    "#Shifting the values\n",
    "\n",
    "indexed_book1_diffshift = indexed_book1 - indexed_book1.shift()\n",
    "indexed_book1_diffshift = indexed_book1_diffshift.dropna()\n",
    "data = [go.Scatter(x= indexed_book1_diffshift.index, y= indexed_book1_diffshift.price)]\n",
    "plot(data, filename='basic-line')"
   ]
  },
  {
   "cell_type": "code",
   "execution_count": 39,
   "metadata": {},
   "outputs": [
    {
     "name": "stderr",
     "output_type": "stream",
     "text": [
      "C:\\Users\\Shefali\\Anaconda3\\lib\\site-packages\\plotly\\offline\\offline.py:635: UserWarning:\n",
      "\n",
      "Your filename `styled-line` didn't end with .html. Adding .html to the end of your file.\n",
      "\n"
     ]
    },
    {
     "data": {
      "text/plain": [
       "'file://C:\\\\Users\\\\Shefali\\\\Desktop\\\\PY Work\\\\styled-line.html'"
      ]
     },
     "execution_count": 39,
     "metadata": {},
     "output_type": "execute_result"
    }
   ],
   "source": [
    "indexed_book1_diffshift.dropna(inplace=True)\n",
    "\n",
    "#Determining the Stationarity of data\n",
    "\n",
    "moving_avg = indexed_book1_diffshift.rolling(window='14d').mean()\n",
    "moving_std = indexed_book1_diffshift.rolling(window='14d').std()\n",
    "    \n",
    "trace1 = go.Scatter(x= indexed_book1_diffshift.index, y= indexed_book1_diffshift.price, name='Original')\n",
    "trace2 = go.Scatter(x= moving_avg.index , y= moving_avg.price, name= 'Rolling Mean')\n",
    "trace3 = go.Scatter(x= moving_std.index , y= moving_std.price, name= 'Rolling Std')\n",
    "data = [trace1, trace2, trace3]\n",
    "    # Edit the layout\n",
    "layout = dict(title = 'Rolling Mean and Standard Deviation',\n",
    "              xaxis = dict(title = 'Date'),\n",
    "              yaxis = dict(title = 'Price'))\n",
    "fig = dict(data=data, layout=layout)\n",
    "plot(fig, filename='styled-line')"
   ]
  },
  {
   "cell_type": "code",
   "execution_count": 40,
   "metadata": {},
   "outputs": [
    {
     "name": "stdout",
     "output_type": "stream",
     "text": [
      "Results of Dickey-Fuller test: \n",
      "Test statistic                -0.000000\n",
      "p-value                        0.958532\n",
      "lags used                      5.000000\n",
      "number of observations used    7.000000\n",
      "Critical value (1%)           -4.938690\n",
      "Critical value (5%)           -3.477583\n",
      "Critical value (10%)          -2.843868\n",
      "dtype: float64\n"
     ]
    }
   ],
   "source": [
    "print(\"Results of Dickey-Fuller test: \")\n",
    "dftest = adfuller(indexed_book1_diffshift['price'], autolag='AIC')\n",
    "dfout = pd.Series(dftest[0:4], index= ['Test statistic','p-value','lags used','number of observations used'])\n",
    "for key,value in dftest[4].items():\n",
    "    dfout['Critical value (%s)'%key] = value\n",
    "print(dfout)\n",
    "\n",
    "# Here timeseries is stationary and null-hypothesis is rejected"
   ]
  },
  {
   "cell_type": "code",
   "execution_count": 41,
   "metadata": {},
   "outputs": [
    {
     "name": "stdout",
     "output_type": "stream",
     "text": [
      "This is the format of your plot grid:\n",
      "[ (1,1) x1,y1 ]\n",
      "[ (2,1) x2,y2 ]\n",
      "[ (3,1) x3,y3 ]\n",
      "[ (4,1) x4,y4 ]\n",
      "\n"
     ]
    },
    {
     "name": "stderr",
     "output_type": "stream",
     "text": [
      "C:\\Users\\Shefali\\Anaconda3\\lib\\site-packages\\plotly\\offline\\offline.py:635: UserWarning:\n",
      "\n",
      "Your filename `stacked-subplots` didn't end with .html. Adding .html to the end of your file.\n",
      "\n"
     ]
    },
    {
     "data": {
      "text/plain": [
       "'file://C:\\\\Users\\\\Shefali\\\\Desktop\\\\PY Work\\\\stacked-subplots.html'"
      ]
     },
     "execution_count": 41,
     "metadata": {},
     "output_type": "execute_result"
    }
   ],
   "source": [
    "from statsmodels.tsa.seasonal import seasonal_decompose\n",
    "\n",
    "decomposition = seasonal_decompose(indexed_book1)\n",
    "\n",
    "trend = decomposition.trend\n",
    "seasonal = decomposition.seasonal\n",
    "residual = decomposition.resid\n",
    "\n",
    "from plotly import tools\n",
    "\n",
    "trace1 = go.Scatter(x= indexed_book1.index, y= indexed_book1.price, name='Original')\n",
    "trace2 = go.Scatter(x= trend.index, y= trend.price, name='Trend')\n",
    "trace3 = go.Scatter(x= seasonal.index, y= seasonal.price, name='Seasonality')\n",
    "trace4 = go.Scatter(x= residual.index, y= residual.price, name='Residual')\n",
    "\n",
    "fig = tools.make_subplots(rows=4, cols=1)\n",
    "\n",
    "fig.append_trace(trace1, 1, 1)\n",
    "fig.append_trace(trace2, 2, 1)\n",
    "fig.append_trace(trace3, 3, 1)\n",
    "fig.append_trace(trace4, 4, 1)\n",
    "\n",
    "\n",
    "fig['layout'].update(title='Stacked subplots')\n",
    "plot(fig, filename='stacked-subplots')"
   ]
  },
  {
   "cell_type": "code",
   "execution_count": 42,
   "metadata": {},
   "outputs": [
    {
     "name": "stderr",
     "output_type": "stream",
     "text": [
      "C:\\Users\\Shefali\\Anaconda3\\lib\\site-packages\\plotly\\offline\\offline.py:635: UserWarning:\n",
      "\n",
      "Your filename `styled-line` didn't end with .html. Adding .html to the end of your file.\n",
      "\n"
     ]
    },
    {
     "data": {
      "text/plain": [
       "'file://C:\\\\Users\\\\Shefali\\\\Desktop\\\\PY Work\\\\styled-line.html'"
      ]
     },
     "execution_count": 42,
     "metadata": {},
     "output_type": "execute_result"
    }
   ],
   "source": [
    "#Residuals are irregualr in nature\n",
    "#So checking noise stationarity\n",
    "\n",
    "decomposed_logdata = residual\n",
    "decomposed_logdata.dropna(inplace=True)\n",
    "\n",
    "#Determining the Stationarity of data\n",
    "\n",
    "moving_avg = decomposed_logdata.rolling(window='14d').mean()\n",
    "moving_std = decomposed_logdata.rolling(window='14d').std()\n",
    "    \n",
    "trace1 = go.Scatter(x= decomposed_logdata.index, y= decomposed_logdata.price, name='Original')\n",
    "trace2 = go.Scatter(x= moving_avg.index , y= moving_avg.price, name= 'Rolling Mean')\n",
    "trace3 = go.Scatter(x= moving_std.index , y= moving_std.price, name= 'Rolling Std')\n",
    "data = [trace1, trace2, trace3]\n",
    "    # Edit the layout\n",
    "layout = dict(title = 'Rolling Mean and Standard Deviation',\n",
    "              xaxis = dict(title = 'Date'),\n",
    "              yaxis = dict(title = 'Price'))\n",
    "fig = dict(data=data, layout=layout)\n",
    "plot(fig, filename='styled-line')"
   ]
  },
  {
   "cell_type": "code",
   "execution_count": 43,
   "metadata": {},
   "outputs": [
    {
     "name": "stderr",
     "output_type": "stream",
     "text": [
      "C:\\Users\\Shefali\\Anaconda3\\lib\\site-packages\\statsmodels\\regression\\linear_model.py:1283: RuntimeWarning:\n",
      "\n",
      "invalid value encountered in sqrt\n",
      "\n",
      "C:\\Users\\Shefali\\Anaconda3\\lib\\site-packages\\statsmodels\\regression\\linear_model.py:1275: RuntimeWarning:\n",
      "\n",
      "invalid value encountered in double_scalars\n",
      "\n"
     ]
    },
    {
     "data": {
      "text/plain": [
       "'file://C:\\\\Users\\\\Shefali\\\\Desktop\\\\PY Work\\\\temp-plot.html'"
      ]
     },
     "execution_count": 43,
     "metadata": {},
     "output_type": "execute_result"
    }
   ],
   "source": [
    "#ACF and PACF plots\n",
    "\n",
    "from statsmodels.tsa.stattools import acf, pacf\n",
    "\n",
    "lag_acf = acf(indexed_book1_diffshift)\n",
    "lag_pacf = pacf(indexed_book1_diffshift)\n",
    "#lag_acf,lag_pacf\n",
    "\n",
    "#ACF\n",
    "#trace1 = go.Scatter(y= lag_acf, name='Autocorrelation Function', type='bar')\n",
    "trace1 = {\"y\": lag_acf, \"name\": \"Autocorrelation Function\", \"type\": \"bar\"}\n",
    "trace2 = {\"y\": lag_pacf, \"name\": \"Partial Autocorrelation Function\", \"type\": \"bar\"}\n",
    "#trace2 = go.Scatter(y= lag_pacf, name='Partial Autocorrelation Function', type='bar')\n",
    "\n",
    "data = [trace1, trace2]\n",
    "layout = dict(title = 'ACF and PACF Plots')\n",
    "fig = dict(data=data, layout=layout)\n",
    "plot(fig)"
   ]
  },
  {
   "cell_type": "code",
   "execution_count": 44,
   "metadata": {},
   "outputs": [
    {
     "name": "stderr",
     "output_type": "stream",
     "text": [
      "C:\\Users\\Shefali\\Anaconda3\\lib\\site-packages\\statsmodels\\tsa\\base\\tsa_model.py:171: ValueWarning:\n",
      "\n",
      "No frequency information was provided, so inferred frequency D will be used.\n",
      "\n",
      "C:\\Users\\Shefali\\Anaconda3\\lib\\site-packages\\statsmodels\\tsa\\base\\tsa_model.py:171: ValueWarning:\n",
      "\n",
      "No frequency information was provided, so inferred frequency D will be used.\n",
      "\n",
      "C:\\Users\\Shefali\\Anaconda3\\lib\\site-packages\\scipy\\signal\\signaltools.py:1341: FutureWarning:\n",
      "\n",
      "Using a non-tuple sequence for multidimensional indexing is deprecated; use `arr[tuple(seq)]` instead of `arr[seq]`. In the future this will be interpreted as an array index, `arr[np.array(seq)]`, which will result either in an error or a different result.\n",
      "\n",
      "C:\\Users\\Shefali\\Anaconda3\\lib\\site-packages\\scipy\\signal\\signaltools.py:1344: FutureWarning:\n",
      "\n",
      "Using a non-tuple sequence for multidimensional indexing is deprecated; use `arr[tuple(seq)]` instead of `arr[seq]`. In the future this will be interpreted as an array index, `arr[np.array(seq)]`, which will result either in an error or a different result.\n",
      "\n",
      "C:\\Users\\Shefali\\Anaconda3\\lib\\site-packages\\scipy\\signal\\signaltools.py:1350: FutureWarning:\n",
      "\n",
      "Using a non-tuple sequence for multidimensional indexing is deprecated; use `arr[tuple(seq)]` instead of `arr[seq]`. In the future this will be interpreted as an array index, `arr[np.array(seq)]`, which will result either in an error or a different result.\n",
      "\n"
     ]
    },
    {
     "name": "stdout",
     "output_type": "stream",
     "text": [
      "Plotting AR Model...\n"
     ]
    },
    {
     "data": {
      "text/plain": [
       "'file://C:\\\\Users\\\\Shefali\\\\Desktop\\\\PY Work\\\\temp-plot.html'"
      ]
     },
     "execution_count": 44,
     "metadata": {},
     "output_type": "execute_result"
    }
   ],
   "source": [
    "#AR Model\n",
    "from statsmodels.tsa.arima_model import ARIMA\n",
    "\n",
    "model = ARIMA(indexed_book1, order= (3,1,0))\n",
    "results_AR = model.fit(disp=-1)\n",
    "\n",
    "print(\"Plotting AR Model...\")\n",
    "trace1 = go.Scatter(x= indexed_book1.index, y= indexed_book1.price, name='Original')\n",
    "trace2 = go.Scatter(y=results_AR.fittedvalues, name='AR fitted values')\n",
    "\n",
    "data = [trace1, trace2]\n",
    "layout = dict(title = 'RSS: %.4f'%sum((results_AR.fittedvalues-indexed_book1.price)**2))\n",
    "fig = dict(data=data, layout=layout)\n",
    "plot(fig)"
   ]
  },
  {
   "cell_type": "code",
   "execution_count": 45,
   "metadata": {},
   "outputs": [
    {
     "name": "stderr",
     "output_type": "stream",
     "text": [
      "C:\\Users\\Shefali\\Anaconda3\\lib\\site-packages\\statsmodels\\tsa\\base\\tsa_model.py:171: ValueWarning:\n",
      "\n",
      "No frequency information was provided, so inferred frequency D will be used.\n",
      "\n",
      "C:\\Users\\Shefali\\Anaconda3\\lib\\site-packages\\statsmodels\\tsa\\base\\tsa_model.py:171: ValueWarning:\n",
      "\n",
      "No frequency information was provided, so inferred frequency D will be used.\n",
      "\n"
     ]
    },
    {
     "name": "stdout",
     "output_type": "stream",
     "text": [
      "Plotting MA Model...\n"
     ]
    },
    {
     "data": {
      "text/plain": [
       "'file://C:\\\\Users\\\\Shefali\\\\Desktop\\\\PY Work\\\\temp-plot.html'"
      ]
     },
     "execution_count": 45,
     "metadata": {},
     "output_type": "execute_result"
    }
   ],
   "source": [
    "#MA Model\n",
    "from statsmodels.tsa.arima_model import ARIMA\n",
    "\n",
    "model = ARIMA(indexed_book1, order= (0,1,1))\n",
    "results_MA = model.fit(disp=-1)\n",
    "\n",
    "print(\"Plotting MA Model...\")\n",
    "trace1 = go.Scatter(x= indexed_book1_diffshift.index, y= indexed_book1_diffshift.price, name='Original')\n",
    "trace2 = go.Scatter(y=results_MA.fittedvalues, name='MA fitted values')\n",
    "\n",
    "data = [trace1, trace2]\n",
    "layout = dict(title = 'RSS: %.4f'%sum((results_MA.fittedvalues-indexed_book1_diffshift.price)**2))\n",
    "fig = dict(data=data, layout=layout)\n",
    "plot(fig)"
   ]
  },
  {
   "cell_type": "code",
   "execution_count": 46,
   "metadata": {},
   "outputs": [],
   "source": [
    "#AR Model is better as it has less RSS value than MA Model"
   ]
  },
  {
   "cell_type": "code",
   "execution_count": 47,
   "metadata": {},
   "outputs": [
    {
     "name": "stdout",
     "output_type": "stream",
     "text": [
      "date\n",
      "2019-01-25    -1.737728\n",
      "2019-01-26    14.474867\n",
      "2019-01-27    -9.088668\n",
      "2019-01-28    12.940704\n",
      "2019-01-29   -18.572852\n",
      "2019-01-30    10.900711\n",
      "2019-01-31   -26.349996\n",
      "2019-02-01     5.768904\n",
      "2019-02-02    -9.251611\n",
      "2019-02-03    -2.573546\n",
      "2019-02-04     7.493403\n",
      "2019-02-05    -5.139472\n",
      "2019-02-06     7.721805\n",
      "dtype: float64\n",
      "date\n",
      "2019-01-25    -1.737728\n",
      "2019-01-26    12.737139\n",
      "2019-01-27     3.648471\n",
      "2019-01-28    16.589174\n",
      "2019-01-29    -1.983678\n",
      "2019-01-30     8.917033\n",
      "2019-01-31   -17.432963\n",
      "2019-02-01   -11.664058\n",
      "2019-02-02   -20.915669\n",
      "2019-02-03   -23.489215\n",
      "2019-02-04   -15.995812\n",
      "2019-02-05   -21.135284\n",
      "2019-02-06   -13.413479\n",
      "dtype: float64\n"
     ]
    }
   ],
   "source": [
    "prediction = pd.Series(results_AR.fittedvalues, copy=True)\n",
    "print(prediction)\n",
    "\n",
    "prediction_cumsum = prediction.cumsum()\n",
    "print(prediction_cumsum)"
   ]
  },
  {
   "cell_type": "code",
   "execution_count": 48,
   "metadata": {},
   "outputs": [
    {
     "name": "stderr",
     "output_type": "stream",
     "text": [
      "C:\\Users\\Shefali\\Anaconda3\\lib\\site-packages\\ipykernel_launcher.py:1: DeprecationWarning:\n",
      "\n",
      "\n",
      ".ix is deprecated. Please use\n",
      ".loc for label based indexing or\n",
      ".iloc for positional indexing\n",
      "\n",
      "See the documentation here:\n",
      "http://pandas.pydata.org/pandas-docs/stable/indexing.html#ix-indexer-is-deprecated\n",
      "\n"
     ]
    },
    {
     "data": {
      "text/plain": [
       "date\n",
       "2019-01-24    244.000000\n",
       "2019-01-25    242.262272\n",
       "2019-01-26    256.737139\n",
       "2019-01-27    247.648471\n",
       "2019-01-28    260.589174\n",
       "2019-01-29    242.016322\n",
       "2019-01-30    252.917033\n",
       "2019-01-31    226.567037\n",
       "2019-02-01    232.335942\n",
       "2019-02-02    223.084331\n",
       "2019-02-03    220.510785\n",
       "2019-02-04    228.004188\n",
       "2019-02-05    222.864716\n",
       "2019-02-06    230.586521\n",
       "dtype: float64"
      ]
     },
     "execution_count": 48,
     "metadata": {},
     "output_type": "execute_result"
    }
   ],
   "source": [
    "prediction_log = pd.Series(indexed_book1.price.ix[0], index = indexed_book1.index)\n",
    "prediction_log = prediction_log.add(prediction_cumsum, fill_value=0)\n",
    "prediction_log"
   ]
  },
  {
   "cell_type": "code",
   "execution_count": 49,
   "metadata": {},
   "outputs": [
    {
     "data": {
      "text/plain": [
       "'file://C:\\\\Users\\\\Shefali\\\\Desktop\\\\PY Work\\\\temp-plot.html'"
      ]
     },
     "execution_count": 49,
     "metadata": {},
     "output_type": "execute_result"
    }
   ],
   "source": [
    "prediction_ARIMA = np.exp(prediction_log)\n",
    "\n",
    "trace1 = go.Scatter(x= indexed_book1.index, y= indexed_book1.price, name='Original data')\n",
    "trace2 = go.Scatter(y=prediction_ARIMA, name='prdiction')\n",
    "\n",
    "data = [trace1, trace2]\n",
    "layout = dict(title = \"Predictions\")\n",
    "fig = dict(data=data, layout=layout)\n",
    "plot(fig)"
   ]
  },
  {
   "cell_type": "code",
   "execution_count": 53,
   "metadata": {},
   "outputs": [
    {
     "data": {
      "text/plain": [
       "date\n",
       "2019-01-24    9.286533e+105\n",
       "2019-01-25    1.633683e+105\n",
       "2019-01-26    3.158805e+111\n",
       "2019-01-27    3.567502e+107\n",
       "2019-01-28    1.487443e+113\n",
       "2019-01-29    1.277478e+105\n",
       "2019-01-30    6.925832e+109\n",
       "2019-01-31     2.493527e+98\n",
       "2019-02-01    7.983943e+100\n",
       "2019-02-02     7.661146e+96\n",
       "2019-02-03     5.842746e+95\n",
       "2019-02-04     1.049448e+99\n",
       "2019-02-05     6.150585e+96\n",
       "2019-02-06    1.388206e+100\n",
       "dtype: float64"
      ]
     },
     "execution_count": 53,
     "metadata": {},
     "output_type": "execute_result"
    }
   ],
   "source": [
    "prediction_ARIMA"
   ]
  },
  {
   "cell_type": "code",
   "execution_count": 52,
   "metadata": {},
   "outputs": [
    {
     "data": {
      "text/plain": [
       "(array([204.42645426, 202.55311807, 200.31079534, 198.93352156,\n",
       "        197.10046132, 195.55407342, 193.65737707]),\n",
       " array([21.18622986, 26.20478823, 32.05376774, 33.99996462, 37.19832566,\n",
       "        39.31637263, 42.30343059]),\n",
       " array([[162.90220675, 245.95070176],\n",
       "        [151.19267692, 253.91355922],\n",
       "        [137.48656499, 263.13502568],\n",
       "        [132.29481543, 265.57222769],\n",
       "        [124.19308273, 270.0078399 ],\n",
       "        [118.49539906, 272.61274778],\n",
       "        [110.74417669, 276.57057745]]))"
      ]
     },
     "execution_count": 52,
     "metadata": {},
     "output_type": "execute_result"
    },
    {
     "data": {
      "image/png": "[encoded data removed]",
      "text/plain": [
       "<Figure size 432x288 with 1 Axes>"
      ]
     },
     "metadata": {
      "needs_background": "light"
     },
     "output_type": "display_data"
    }
   ],
   "source": [
    "#forecast = results_AR.forecast(steps=7)\n",
    "#print(results_AR.forecast(steps=7))\n",
    "\n",
    "results_AR.plot_predict(1,21)\n",
    "results_AR.forecast(steps=7)"
   ]
  },
  {
   "cell_type": "code",
   "execution_count": null,
   "metadata": {},
   "outputs": [],
   "source": []
  }
 ],
 "metadata": {
  "kernelspec": {
   "display_name": "Python 3",
   "language": "python",
   "name": "python3"
  },
  "language_info": {
   "codemirror_mode": {
    "name": "ipython",
    "version": 3
   },
   "file_extension": ".py",
   "mimetype": "text/x-python",
   "name": "python",
   "nbconvert_exporter": "python",
   "pygments_lexer": "ipython3",
   "version": "3.7.1"
  }
 },
 "nbformat": 4,
 "nbformat_minor": 2
}
