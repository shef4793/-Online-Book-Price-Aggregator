{
 "cells": [
  {
   "cell_type": "code",
   "execution_count": 1,
   "metadata": {},
   "outputs": [],
   "source": [
    "from plotly import __version__\n",
    "from plotly.offline import download_plotlyjs, init_notebook_mode, plot, iplot\n",
    "\n",
    "import plotly.graph_objs as go"
   ]
  },
  {
   "cell_type": "code",
   "execution_count": 2,
   "metadata": {},
   "outputs": [
    {
     "data": {
      "text/html": [
       "<div>\n",
       "<style scoped>\n",
       "    .dataframe tbody tr th:only-of-type {\n",
       "        vertical-align: middle;\n",
       "    }\n",
       "\n",
       "    .dataframe tbody tr th {\n",
       "        vertical-align: top;\n",
       "    }\n",
       "\n",
       "    .dataframe thead th {\n",
       "        text-align: right;\n",
       "    }\n",
       "</style>\n",
       "<table border=\"1\" class=\"dataframe\">\n",
       "  <thead>\n",
       "    <tr style=\"text-align: right;\">\n",
       "      <th></th>\n",
       "      <th>title</th>\n",
       "      <th>date</th>\n",
       "      <th>price</th>\n",
       "    </tr>\n",
       "  </thead>\n",
       "  <tbody>\n",
       "    <tr>\n",
       "      <th>0</th>\n",
       "      <td>The Immortals of Meluha</td>\n",
       "      <td>2019-01-24</td>\n",
       "      <td>254</td>\n",
       "    </tr>\n",
       "    <tr>\n",
       "      <th>1</th>\n",
       "      <td>The Immortals of Meluha</td>\n",
       "      <td>2019-01-25</td>\n",
       "      <td>254</td>\n",
       "    </tr>\n",
       "    <tr>\n",
       "      <th>2</th>\n",
       "      <td>The Immortals of Meluha</td>\n",
       "      <td>2019-01-26</td>\n",
       "      <td>296</td>\n",
       "    </tr>\n",
       "    <tr>\n",
       "      <th>3</th>\n",
       "      <td>The Immortals of Meluha</td>\n",
       "      <td>2019-01-27</td>\n",
       "      <td>221</td>\n",
       "    </tr>\n",
       "    <tr>\n",
       "      <th>4</th>\n",
       "      <td>The Immortals of Meluha</td>\n",
       "      <td>2019-01-28</td>\n",
       "      <td>221</td>\n",
       "    </tr>\n",
       "  </tbody>\n",
       "</table>\n",
       "</div>"
      ],
      "text/plain": [
       "                     title       date  price\n",
       "0  The Immortals of Meluha 2019-01-24    254\n",
       "1  The Immortals of Meluha 2019-01-25    254\n",
       "2  The Immortals of Meluha 2019-01-26    296\n",
       "3  The Immortals of Meluha 2019-01-27    221\n",
       "4  The Immortals of Meluha 2019-01-28    221"
      ]
     },
     "execution_count": 2,
     "metadata": {},
     "output_type": "execute_result"
    }
   ],
   "source": [
    "import pandas as pd\n",
    "import numpy as np\n",
    "df = pd.read_excel('books_variation.xlsx')\n",
    "df.head()"
   ]
  },
  {
   "cell_type": "code",
   "execution_count": 4,
   "metadata": {},
   "outputs": [
    {
     "data": {
      "text/html": [
       "<div>\n",
       "<style scoped>\n",
       "    .dataframe tbody tr th:only-of-type {\n",
       "        vertical-align: middle;\n",
       "    }\n",
       "\n",
       "    .dataframe tbody tr th {\n",
       "        vertical-align: top;\n",
       "    }\n",
       "\n",
       "    .dataframe thead th {\n",
       "        text-align: right;\n",
       "    }\n",
       "</style>\n",
       "<table border=\"1\" class=\"dataframe\">\n",
       "  <thead>\n",
       "    <tr style=\"text-align: right;\">\n",
       "      <th></th>\n",
       "      <th>date</th>\n",
       "      <th>price</th>\n",
       "    </tr>\n",
       "  </thead>\n",
       "  <tbody>\n",
       "    <tr>\n",
       "      <th>154</th>\n",
       "      <td>2019-01-24</td>\n",
       "      <td>112</td>\n",
       "    </tr>\n",
       "    <tr>\n",
       "      <th>155</th>\n",
       "      <td>2019-01-25</td>\n",
       "      <td>100</td>\n",
       "    </tr>\n",
       "    <tr>\n",
       "      <th>156</th>\n",
       "      <td>2019-01-26</td>\n",
       "      <td>112</td>\n",
       "    </tr>\n",
       "    <tr>\n",
       "      <th>157</th>\n",
       "      <td>2019-01-27</td>\n",
       "      <td>112</td>\n",
       "    </tr>\n",
       "    <tr>\n",
       "      <th>158</th>\n",
       "      <td>2019-01-28</td>\n",
       "      <td>112</td>\n",
       "    </tr>\n",
       "    <tr>\n",
       "      <th>159</th>\n",
       "      <td>2019-01-29</td>\n",
       "      <td>112</td>\n",
       "    </tr>\n",
       "    <tr>\n",
       "      <th>160</th>\n",
       "      <td>2019-01-30</td>\n",
       "      <td>112</td>\n",
       "    </tr>\n",
       "    <tr>\n",
       "      <th>161</th>\n",
       "      <td>2019-01-31</td>\n",
       "      <td>112</td>\n",
       "    </tr>\n",
       "    <tr>\n",
       "      <th>162</th>\n",
       "      <td>2019-02-01</td>\n",
       "      <td>112</td>\n",
       "    </tr>\n",
       "    <tr>\n",
       "      <th>163</th>\n",
       "      <td>2019-02-02</td>\n",
       "      <td>106</td>\n",
       "    </tr>\n",
       "    <tr>\n",
       "      <th>164</th>\n",
       "      <td>2019-02-03</td>\n",
       "      <td>106</td>\n",
       "    </tr>\n",
       "    <tr>\n",
       "      <th>165</th>\n",
       "      <td>2019-02-04</td>\n",
       "      <td>106</td>\n",
       "    </tr>\n",
       "    <tr>\n",
       "      <th>166</th>\n",
       "      <td>2019-02-05</td>\n",
       "      <td>106</td>\n",
       "    </tr>\n",
       "    <tr>\n",
       "      <th>167</th>\n",
       "      <td>2019-02-06</td>\n",
       "      <td>94</td>\n",
       "    </tr>\n",
       "  </tbody>\n",
       "</table>\n",
       "</div>"
      ],
      "text/plain": [
       "          date  price\n",
       "154 2019-01-24    112\n",
       "155 2019-01-25    100\n",
       "156 2019-01-26    112\n",
       "157 2019-01-27    112\n",
       "158 2019-01-28    112\n",
       "159 2019-01-29    112\n",
       "160 2019-01-30    112\n",
       "161 2019-01-31    112\n",
       "162 2019-02-01    112\n",
       "163 2019-02-02    106\n",
       "164 2019-02-03    106\n",
       "165 2019-02-04    106\n",
       "166 2019-02-05    106\n",
       "167 2019-02-06     94"
      ]
     },
     "execution_count": 4,
     "metadata": {},
     "output_type": "execute_result"
    }
   ],
   "source": [
    "book1 = df.loc[df['title'] == 'One Indian Girl  ']\n",
    "book1 = book1.drop(columns='title')\n",
    "book1"
   ]
  },
  {
   "cell_type": "code",
   "execution_count": 5,
   "metadata": {},
   "outputs": [
    {
     "data": {
      "text/plain": [
       "DatetimeIndex(['2019-01-24', '2019-01-25', '2019-01-26', '2019-01-27',\n",
       "               '2019-01-28', '2019-01-29', '2019-01-30', '2019-01-31',\n",
       "               '2019-02-01', '2019-02-02', '2019-02-03', '2019-02-04',\n",
       "               '2019-02-05', '2019-02-06'],\n",
       "              dtype='datetime64[ns]', name='date', freq=None)"
      ]
     },
     "execution_count": 5,
     "metadata": {},
     "output_type": "execute_result"
    }
   ],
   "source": [
    "book1['date'] = pd.to_datetime(df['date'], infer_datetime_format=True)\n",
    "indexed_book1 = book1.set_index(['date'])\n",
    "indexed_book1.index"
   ]
  },
  {
   "cell_type": "code",
   "execution_count": 6,
   "metadata": {},
   "outputs": [
    {
     "name": "stderr",
     "output_type": "stream",
     "text": [
      "C:\\Users\\Shefali\\Anaconda3\\lib\\site-packages\\plotly\\offline\\offline.py:635: UserWarning:\n",
      "\n",
      "Your filename `basic-line` didn't end with .html. Adding .html to the end of your file.\n",
      "\n"
     ]
    },
    {
     "data": {
      "text/plain": [
       "'file://C:\\\\Users\\\\Shefali\\\\Desktop\\\\PY Work\\\\basic-line.html'"
      ]
     },
     "execution_count": 6,
     "metadata": {},
     "output_type": "execute_result"
    }
   ],
   "source": [
    "data = [go.Scatter(x= indexed_book1.index, y= indexed_book1.price)]\n",
    "plot(data, filename='basic-line')"
   ]
  },
  {
   "cell_type": "code",
   "execution_count": 7,
   "metadata": {},
   "outputs": [
    {
     "data": {
      "text/plain": [
       "(                 price\n",
       " date                  \n",
       " 2019-01-24  112.000000\n",
       " 2019-01-25  106.000000\n",
       " 2019-01-26  108.000000\n",
       " 2019-01-27  109.000000\n",
       " 2019-01-28  109.600000\n",
       " 2019-01-29  110.000000\n",
       " 2019-01-30  110.285714\n",
       " 2019-01-31  110.500000\n",
       " 2019-02-01  110.666667\n",
       " 2019-02-02  110.200000\n",
       " 2019-02-03  109.818182\n",
       " 2019-02-04  109.500000\n",
       " 2019-02-05  109.230769\n",
       " 2019-02-06  108.142857,                price\n",
       " date                \n",
       " 2019-01-24       NaN\n",
       " 2019-01-25  8.485281\n",
       " 2019-01-26  6.928203\n",
       " 2019-01-27  6.000000\n",
       " 2019-01-28  5.366563\n",
       " 2019-01-29  4.898979\n",
       " 2019-01-30  4.535574\n",
       " 2019-01-31  4.242641\n",
       " 2019-02-01  4.000000\n",
       " 2019-02-02  4.049691\n",
       " 2019-02-03  4.045199\n",
       " 2019-02-04  4.011348\n",
       " 2019-02-05  3.961352\n",
       " 2019-02-06  5.572696)"
      ]
     },
     "execution_count": 7,
     "metadata": {},
     "output_type": "execute_result"
    }
   ],
   "source": [
    "#Determining rolling statistics\n",
    "rollmean = indexed_book1.rolling(window='14d').mean()  #monthly basis\n",
    "rollstd = indexed_book1.rolling(window='14d').std()\n",
    "rollmean, rollstd"
   ]
  },
  {
   "cell_type": "code",
   "execution_count": 8,
   "metadata": {},
   "outputs": [
    {
     "name": "stderr",
     "output_type": "stream",
     "text": [
      "C:\\Users\\Shefali\\Anaconda3\\lib\\site-packages\\plotly\\offline\\offline.py:635: UserWarning:\n",
      "\n",
      "Your filename `styled-line` didn't end with .html. Adding .html to the end of your file.\n",
      "\n"
     ]
    },
    {
     "data": {
      "text/plain": [
       "'file://C:\\\\Users\\\\Shefali\\\\Desktop\\\\PY Work\\\\styled-line.html'"
      ]
     },
     "execution_count": 8,
     "metadata": {},
     "output_type": "execute_result"
    }
   ],
   "source": [
    "#Plotting Rolling Statistics\n",
    "\n",
    "trace1 = go.Scatter(x= indexed_book1.index, y= indexed_book1.price, name='Original')\n",
    "trace2 = go.Scatter(x= rollmean.index , y= rollmean.price, name= 'Rolling Mean')\n",
    "trace3 = go.Scatter(x= rollstd.index , y= rollstd.price, name= 'Rolling Std')\n",
    "data = [trace1, trace2, trace3]\n",
    "    # Edit the layout\n",
    "layout = dict(title = 'Rolling Mean and Standard Deviation',\n",
    "              xaxis = dict(title = 'Date'),\n",
    "              yaxis = dict(title = 'Price')\n",
    "              )\n",
    "fig = dict(data=data, layout=layout)\n",
    "plot(fig, filename='styled-line')"
   ]
  },
  {
   "cell_type": "code",
   "execution_count": 9,
   "metadata": {},
   "outputs": [
    {
     "name": "stdout",
     "output_type": "stream",
     "text": [
      "Test statistic                 0.641223\n",
      "p-value                        0.988589\n",
      "lags used                      4.000000\n",
      "number of observations used    9.000000\n",
      "Critical value (1%)           -4.473135\n",
      "Critical value (5%)           -3.289881\n",
      "Critical value (10%)          -2.772382\n",
      "dtype: float64\n"
     ]
    }
   ],
   "source": [
    "#Dickey-Fuller test\n",
    "from statsmodels.tsa.stattools import adfuller\n",
    "\n",
    "dftest = adfuller(indexed_book1['price'], autolag='AIC')\n",
    "dfout = pd.Series(dftest[0:4], index= ['Test statistic','p-value','lags used','number of observations used'])\n",
    "for key,value in dftest[4].items():\n",
    "    dfout['Critical value (%s)'%key] = value\n",
    "print(dfout)\n"
   ]
  },
  {
   "cell_type": "code",
   "execution_count": 10,
   "metadata": {},
   "outputs": [],
   "source": [
    "#The test statistic is positive, meaning we are much less likely to reject the null hypothesis (it looks non-stationary).\n",
    "#Comparing the test statistic to the critical values, it looks like we would have to fail to reject the null hypothesis \n",
    "#that the time series is non-stationary and does have time-dependent structure."
   ]
  },
  {
   "cell_type": "code",
   "execution_count": 11,
   "metadata": {},
   "outputs": [
    {
     "name": "stderr",
     "output_type": "stream",
     "text": [
      "C:\\Users\\Shefali\\Anaconda3\\lib\\site-packages\\plotly\\offline\\offline.py:635: UserWarning:\n",
      "\n",
      "Your filename `line-mode` didn't end with .html. Adding .html to the end of your file.\n",
      "\n"
     ]
    },
    {
     "data": {
      "text/plain": [
       "'file://C:\\\\Users\\\\Shefali\\\\Desktop\\\\PY Work\\\\line-mode.html'"
      ]
     },
     "execution_count": 11,
     "metadata": {},
     "output_type": "execute_result"
    }
   ],
   "source": [
    "#log transform the dataset to make the distribution of values more linear and better meet the expectations of this statistical test\n",
    "import numpy as np\n",
    "indexed_book1_logscale = np.log(indexed_book1)\n",
    "\n",
    "data = [go.Scatter(x= indexed_book1_logscale.index, y= indexed_book1_logscale.price)]\n",
    "plot(data, filename='line-mode')"
   ]
  },
  {
   "cell_type": "code",
   "execution_count": 12,
   "metadata": {},
   "outputs": [
    {
     "data": {
      "text/plain": [
       "(               price\n",
       " date                \n",
       " 2019-01-24  4.718499\n",
       " 2019-01-25  4.661835\n",
       " 2019-01-26  4.680723\n",
       " 2019-01-27  4.690167\n",
       " 2019-01-28  4.695833\n",
       " 2019-01-29  4.699611\n",
       " 2019-01-30  4.702309\n",
       " 2019-01-31  4.704333\n",
       " 2019-02-01  4.705907\n",
       " 2019-02-02  4.701660\n",
       " 2019-02-03  4.698185\n",
       " 2019-02-04  4.695290\n",
       " 2019-02-05  4.692840\n",
       " 2019-02-06  4.682158,                price\n",
       " date                \n",
       " 2019-01-24       NaN\n",
       " 2019-01-25  0.080135\n",
       " 2019-01-26  0.065430\n",
       " 2019-01-27  0.056664\n",
       " 2019-01-28  0.050682\n",
       " 2019-01-29  0.046266\n",
       " 2019-01-30  0.042834\n",
       " 2019-01-31  0.040068\n",
       " 2019-02-01  0.037776\n",
       " 2019-02-02  0.038064\n",
       " 2019-02-03  0.037905\n",
       " 2019-02-04  0.037507\n",
       " 2019-02-05  0.036980\n",
       " 2019-02-06  0.053477)"
      ]
     },
     "execution_count": 12,
     "metadata": {},
     "output_type": "execute_result"
    }
   ],
   "source": [
    "# Moving Average with log timeseries\n",
    "\n",
    "moving_avg = indexed_book1_logscale.rolling(window='14d').mean()\n",
    "moving_std = indexed_book1_logscale.rolling(window='14d').std()\n",
    "moving_avg, moving_std"
   ]
  },
  {
   "cell_type": "code",
   "execution_count": 13,
   "metadata": {},
   "outputs": [
    {
     "name": "stderr",
     "output_type": "stream",
     "text": [
      "C:\\Users\\Shefali\\Anaconda3\\lib\\site-packages\\plotly\\offline\\offline.py:635: UserWarning:\n",
      "\n",
      "Your filename `basic-line` didn't end with .html. Adding .html to the end of your file.\n",
      "\n"
     ]
    },
    {
     "data": {
      "text/plain": [
       "'file://C:\\\\Users\\\\Shefali\\\\Desktop\\\\PY Work\\\\basic-line.html'"
      ]
     },
     "execution_count": 13,
     "metadata": {},
     "output_type": "execute_result"
    }
   ],
   "source": [
    "trace1 = go.Scatter(x= indexed_book1_logscale.index, y= indexed_book1_logscale.price)\n",
    "trace2 = go.Scatter(x= moving_avg.index , y= moving_avg.price)\n",
    "data = [trace1, trace2]\n",
    "plot(data, filename='basic-line')\n"
   ]
  },
  {
   "cell_type": "code",
   "execution_count": 14,
   "metadata": {},
   "outputs": [
    {
     "data": {
      "text/html": [
       "<div>\n",
       "<style scoped>\n",
       "    .dataframe tbody tr th:only-of-type {\n",
       "        vertical-align: middle;\n",
       "    }\n",
       "\n",
       "    .dataframe tbody tr th {\n",
       "        vertical-align: top;\n",
       "    }\n",
       "\n",
       "    .dataframe thead th {\n",
       "        text-align: right;\n",
       "    }\n",
       "</style>\n",
       "<table border=\"1\" class=\"dataframe\">\n",
       "  <thead>\n",
       "    <tr style=\"text-align: right;\">\n",
       "      <th></th>\n",
       "      <th>price</th>\n",
       "    </tr>\n",
       "    <tr>\n",
       "      <th>date</th>\n",
       "      <th></th>\n",
       "    </tr>\n",
       "  </thead>\n",
       "  <tbody>\n",
       "    <tr>\n",
       "      <th>2019-01-24</th>\n",
       "      <td>0.000000</td>\n",
       "    </tr>\n",
       "    <tr>\n",
       "      <th>2019-01-25</th>\n",
       "      <td>-0.056664</td>\n",
       "    </tr>\n",
       "    <tr>\n",
       "      <th>2019-01-26</th>\n",
       "      <td>0.037776</td>\n",
       "    </tr>\n",
       "    <tr>\n",
       "      <th>2019-01-27</th>\n",
       "      <td>0.028332</td>\n",
       "    </tr>\n",
       "    <tr>\n",
       "      <th>2019-01-28</th>\n",
       "      <td>0.022666</td>\n",
       "    </tr>\n",
       "    <tr>\n",
       "      <th>2019-01-29</th>\n",
       "      <td>0.018888</td>\n",
       "    </tr>\n",
       "    <tr>\n",
       "      <th>2019-01-30</th>\n",
       "      <td>0.016190</td>\n",
       "    </tr>\n",
       "    <tr>\n",
       "      <th>2019-01-31</th>\n",
       "      <td>0.014166</td>\n",
       "    </tr>\n",
       "    <tr>\n",
       "      <th>2019-02-01</th>\n",
       "      <td>0.012592</td>\n",
       "    </tr>\n",
       "    <tr>\n",
       "      <th>2019-02-02</th>\n",
       "      <td>-0.038221</td>\n",
       "    </tr>\n",
       "    <tr>\n",
       "      <th>2019-02-03</th>\n",
       "      <td>-0.034746</td>\n",
       "    </tr>\n",
       "    <tr>\n",
       "      <th>2019-02-04</th>\n",
       "      <td>-0.031851</td>\n",
       "    </tr>\n",
       "    <tr>\n",
       "      <th>2019-02-05</th>\n",
       "      <td>-0.029401</td>\n",
       "    </tr>\n",
       "    <tr>\n",
       "      <th>2019-02-06</th>\n",
       "      <td>-0.138863</td>\n",
       "    </tr>\n",
       "  </tbody>\n",
       "</table>\n",
       "</div>"
      ],
      "text/plain": [
       "               price\n",
       "date                \n",
       "2019-01-24  0.000000\n",
       "2019-01-25 -0.056664\n",
       "2019-01-26  0.037776\n",
       "2019-01-27  0.028332\n",
       "2019-01-28  0.022666\n",
       "2019-01-29  0.018888\n",
       "2019-01-30  0.016190\n",
       "2019-01-31  0.014166\n",
       "2019-02-01  0.012592\n",
       "2019-02-02 -0.038221\n",
       "2019-02-03 -0.034746\n",
       "2019-02-04 -0.031851\n",
       "2019-02-05 -0.029401\n",
       "2019-02-06 -0.138863"
      ]
     },
     "execution_count": 14,
     "metadata": {},
     "output_type": "execute_result"
    }
   ],
   "source": [
    "#Difference between log timeseries and moving average\n",
    "\n",
    "logminusMA = indexed_book1_logscale - moving_avg\n",
    "logminusMA"
   ]
  },
  {
   "cell_type": "code",
   "execution_count": 15,
   "metadata": {},
   "outputs": [
    {
     "name": "stderr",
     "output_type": "stream",
     "text": [
      "C:\\Users\\Shefali\\Anaconda3\\lib\\site-packages\\plotly\\offline\\offline.py:635: UserWarning:\n",
      "\n",
      "Your filename `styled-line` didn't end with .html. Adding .html to the end of your file.\n",
      "\n"
     ]
    },
    {
     "data": {
      "text/plain": [
       "'file://C:\\\\Users\\\\Shefali\\\\Desktop\\\\PY Work\\\\styled-line.html'"
      ]
     },
     "execution_count": 15,
     "metadata": {},
     "output_type": "execute_result"
    }
   ],
   "source": [
    "#Determining the Stationarity of data\n",
    "\n",
    "moving_avg = logminusMA.rolling(window='14d').mean()\n",
    "moving_std = logminusMA.rolling(window='14d').std()\n",
    "    \n",
    "trace1 = go.Scatter(x= logminusMA.index, y= logminusMA.price, name='Original')\n",
    "trace2 = go.Scatter(x= moving_avg.index , y= moving_avg.price, name= 'Rolling Mean')\n",
    "trace3 = go.Scatter(x= moving_std.index , y= moving_std.price, name= 'Rolling Std')\n",
    "data = [trace1, trace2, trace3]\n",
    "    # Edit the layout\n",
    "layout = dict(title = 'Rolling Mean and Standard Deviation',\n",
    "              xaxis = dict(title = 'Date'),\n",
    "              yaxis = dict(title = 'Price'))\n",
    "fig = dict(data=data, layout=layout)\n",
    "plot(fig, filename='styled-line')"
   ]
  },
  {
   "cell_type": "code",
   "execution_count": 16,
   "metadata": {},
   "outputs": [
    {
     "name": "stdout",
     "output_type": "stream",
     "text": [
      "Results of Dickey-Fuller test: \n",
      "Test statistic                -0.000000\n",
      "p-value                        0.958532\n",
      "lags used                      8.000000\n",
      "number of observations used    5.000000\n",
      "Critical value (1%)           -6.045114\n",
      "Critical value (5%)           -3.929280\n",
      "Critical value (10%)          -2.986810\n",
      "dtype: float64\n"
     ]
    },
    {
     "name": "stderr",
     "output_type": "stream",
     "text": [
      "C:\\Users\\Shefali\\Anaconda3\\lib\\site-packages\\statsmodels\\regression\\linear_model.py:1510: RuntimeWarning:\n",
      "\n",
      "divide by zero encountered in double_scalars\n",
      "\n"
     ]
    }
   ],
   "source": [
    "print(\"Results of Dickey-Fuller test: \")\n",
    "dftest = adfuller(logminusMA['price'], autolag='AIC')\n",
    "dfout = pd.Series(dftest[0:4], index= ['Test statistic','p-value','lags used','number of observations used'])\n",
    "for key,value in dftest[4].items():\n",
    "    dfout['Critical value (%s)'%key] = value\n",
    "print(dfout)"
   ]
  },
  {
   "cell_type": "code",
   "execution_count": null,
   "metadata": {},
   "outputs": [],
   "source": []
  },
  {
   "cell_type": "code",
   "execution_count": 17,
   "metadata": {},
   "outputs": [
    {
     "data": {
      "text/html": [
       "<div>\n",
       "<style scoped>\n",
       "    .dataframe tbody tr th:only-of-type {\n",
       "        vertical-align: middle;\n",
       "    }\n",
       "\n",
       "    .dataframe tbody tr th {\n",
       "        vertical-align: top;\n",
       "    }\n",
       "\n",
       "    .dataframe thead th {\n",
       "        text-align: right;\n",
       "    }\n",
       "</style>\n",
       "<table border=\"1\" class=\"dataframe\">\n",
       "  <thead>\n",
       "    <tr style=\"text-align: right;\">\n",
       "      <th></th>\n",
       "      <th>price</th>\n",
       "    </tr>\n",
       "    <tr>\n",
       "      <th>date</th>\n",
       "      <th></th>\n",
       "    </tr>\n",
       "  </thead>\n",
       "  <tbody>\n",
       "    <tr>\n",
       "      <th>2019-01-24</th>\n",
       "      <td>4.718499</td>\n",
       "    </tr>\n",
       "    <tr>\n",
       "      <th>2019-01-25</th>\n",
       "      <td>4.633502</td>\n",
       "    </tr>\n",
       "    <tr>\n",
       "      <th>2019-01-26</th>\n",
       "      <td>4.692346</td>\n",
       "    </tr>\n",
       "    <tr>\n",
       "      <th>2019-01-27</th>\n",
       "      <td>4.709999</td>\n",
       "    </tr>\n",
       "    <tr>\n",
       "      <th>2019-01-28</th>\n",
       "      <td>4.715689</td>\n",
       "    </tr>\n",
       "    <tr>\n",
       "      <th>2019-01-29</th>\n",
       "      <td>4.717565</td>\n",
       "    </tr>\n",
       "    <tr>\n",
       "      <th>2019-01-30</th>\n",
       "      <td>4.718188</td>\n",
       "    </tr>\n",
       "    <tr>\n",
       "      <th>2019-01-31</th>\n",
       "      <td>4.718395</td>\n",
       "    </tr>\n",
       "    <tr>\n",
       "      <th>2019-02-01</th>\n",
       "      <td>4.718464</td>\n",
       "    </tr>\n",
       "    <tr>\n",
       "      <th>2019-02-02</th>\n",
       "      <td>4.681780</td>\n",
       "    </tr>\n",
       "    <tr>\n",
       "      <th>2019-02-03</th>\n",
       "      <td>4.669553</td>\n",
       "    </tr>\n",
       "    <tr>\n",
       "      <th>2019-02-04</th>\n",
       "      <td>4.665477</td>\n",
       "    </tr>\n",
       "    <tr>\n",
       "      <th>2019-02-05</th>\n",
       "      <td>4.664118</td>\n",
       "    </tr>\n",
       "    <tr>\n",
       "      <th>2019-02-06</th>\n",
       "      <td>4.583569</td>\n",
       "    </tr>\n",
       "  </tbody>\n",
       "</table>\n",
       "</div>"
      ],
      "text/plain": [
       "               price\n",
       "date                \n",
       "2019-01-24  4.718499\n",
       "2019-01-25  4.633502\n",
       "2019-01-26  4.692346\n",
       "2019-01-27  4.709999\n",
       "2019-01-28  4.715689\n",
       "2019-01-29  4.717565\n",
       "2019-01-30  4.718188\n",
       "2019-01-31  4.718395\n",
       "2019-02-01  4.718464\n",
       "2019-02-02  4.681780\n",
       "2019-02-03  4.669553\n",
       "2019-02-04  4.665477\n",
       "2019-02-05  4.664118\n",
       "2019-02-06  4.583569"
      ]
     },
     "execution_count": 17,
     "metadata": {},
     "output_type": "execute_result"
    }
   ],
   "source": [
    "#Calculate the weighted average to see the trend\n",
    "#DataFrame.ewm : Provides exponential weighted functions\n",
    "\n",
    "weighted_avg = indexed_book1_logscale.ewm(com=0.5).mean()\n",
    "weighted_avg"
   ]
  },
  {
   "cell_type": "code",
   "execution_count": 19,
   "metadata": {},
   "outputs": [
    {
     "name": "stderr",
     "output_type": "stream",
     "text": [
      "C:\\Users\\Shefali\\Anaconda3\\lib\\site-packages\\plotly\\offline\\offline.py:635: UserWarning:\n",
      "\n",
      "Your filename `basic-line` didn't end with .html. Adding .html to the end of your file.\n",
      "\n"
     ]
    },
    {
     "data": {
      "text/plain": [
       "'file://C:\\\\Users\\\\Shefali\\\\Desktop\\\\PY Work\\\\basic-line.html'"
      ]
     },
     "execution_count": 19,
     "metadata": {},
     "output_type": "execute_result"
    }
   ],
   "source": [
    "trace1 = go.Scatter(x= indexed_book1_logscale.index, y= indexed_book1_logscale.price)\n",
    "trace2 = go.Scatter(x= weighted_avg.index , y= weighted_avg.price)\n",
    "data = [trace1, trace2]\n",
    "plot(data, filename='basic-line')\n",
    "\n",
    "#As you can see, the trend is moving with the logged data with respect to time"
   ]
  },
  {
   "cell_type": "code",
   "execution_count": 20,
   "metadata": {},
   "outputs": [
    {
     "name": "stdout",
     "output_type": "stream",
     "text": [
      "               price\n",
      "date                \n",
      "2019-01-24  0.000000\n",
      "2019-01-25 -0.028332\n",
      "2019-01-26  0.026153\n",
      "2019-01-27  0.008500\n",
      "2019-01-28  0.002810\n",
      "2019-01-29  0.000934\n",
      "2019-01-30  0.000311\n",
      "2019-01-31  0.000104\n",
      "2019-02-01  0.000035\n",
      "2019-02-02 -0.018341\n",
      "2019-02-03 -0.006114\n",
      "2019-02-04 -0.002038\n",
      "2019-02-05 -0.000679\n",
      "2019-02-06 -0.040275\n"
     ]
    },
    {
     "name": "stderr",
     "output_type": "stream",
     "text": [
      "C:\\Users\\Shefali\\Anaconda3\\lib\\site-packages\\plotly\\offline\\offline.py:635: UserWarning:\n",
      "\n",
      "Your filename `styled-line` didn't end with .html. Adding .html to the end of your file.\n",
      "\n"
     ]
    },
    {
     "data": {
      "text/plain": [
       "'file://C:\\\\Users\\\\Shefali\\\\Desktop\\\\PY Work\\\\styled-line.html'"
      ]
     },
     "execution_count": 20,
     "metadata": {},
     "output_type": "execute_result"
    }
   ],
   "source": [
    "#Difference between log timeseries and weighted average\n",
    "\n",
    "logminusWA = indexed_book1_logscale - weighted_avg\n",
    "print(logminusWA)\n",
    "\n",
    "#Determining the Stationarity of data\n",
    "\n",
    "moving_avg = logminusWA.rolling(window='14d').mean()\n",
    "moving_std = logminusWA.rolling(window='14d').std()\n",
    "    \n",
    "trace1 = go.Scatter(x= logminusWA.index, y= logminusWA.price, name='Original')\n",
    "trace2 = go.Scatter(x= moving_avg.index , y= moving_avg.price, name= 'Rolling Mean')\n",
    "trace3 = go.Scatter(x= moving_std.index , y= moving_std.price, name= 'Rolling Std')\n",
    "data = [trace1, trace2, trace3]\n",
    "    # Edit the layout\n",
    "layout = dict(title = 'Rolling Mean and Standard Deviation',\n",
    "              xaxis = dict(title = 'Date'),\n",
    "              yaxis = dict(title = 'Price'))\n",
    "fig = dict(data=data, layout=layout)\n",
    "plot(fig, filename='styled-line')"
   ]
  },
  {
   "cell_type": "code",
   "execution_count": 21,
   "metadata": {},
   "outputs": [
    {
     "name": "stdout",
     "output_type": "stream",
     "text": [
      "Results of Dickey-Fuller test: \n",
      "Test statistic                -0.000000\n",
      "p-value                        0.958532\n",
      "lags used                      8.000000\n",
      "number of observations used    5.000000\n",
      "Critical value (1%)           -6.045114\n",
      "Critical value (5%)           -3.929280\n",
      "Critical value (10%)          -2.986810\n",
      "dtype: float64\n"
     ]
    }
   ],
   "source": [
    "print(\"Results of Dickey-Fuller test: \")\n",
    "dftest = adfuller(logminusWA['price'], autolag='AIC')\n",
    "dfout = pd.Series(dftest[0:4], index= ['Test statistic','p-value','lags used','number of observations used'])\n",
    "for key,value in dftest[4].items():\n",
    "    dfout['Critical value (%s)'%key] = value\n",
    "print(dfout)"
   ]
  },
  {
   "cell_type": "code",
   "execution_count": 22,
   "metadata": {},
   "outputs": [],
   "source": [
    "# No difference in the p-value from original data and weighted average data\n",
    "# Here timeseries is not stationary"
   ]
  },
  {
   "cell_type": "code",
   "execution_count": 23,
   "metadata": {},
   "outputs": [
    {
     "name": "stderr",
     "output_type": "stream",
     "text": [
      "C:\\Users\\Shefali\\Anaconda3\\lib\\site-packages\\plotly\\offline\\offline.py:635: UserWarning:\n",
      "\n",
      "Your filename `basic-line` didn't end with .html. Adding .html to the end of your file.\n",
      "\n"
     ]
    },
    {
     "data": {
      "text/plain": [
       "'file://C:\\\\Users\\\\Shefali\\\\Desktop\\\\PY Work\\\\basic-line.html'"
      ]
     },
     "execution_count": 23,
     "metadata": {},
     "output_type": "execute_result"
    }
   ],
   "source": [
    "#Shifting the values\n",
    "\n",
    "indexed_book1_logscale_diffshift = indexed_book1_logscale - indexed_book1_logscale.shift()\n",
    "\n",
    "data = [go.Scatter(x= indexed_book1_logscale_diffshift.index, y= indexed_book1_logscale_diffshift.price)]\n",
    "plot(data, filename='basic-line')"
   ]
  },
  {
   "cell_type": "code",
   "execution_count": 24,
   "metadata": {},
   "outputs": [
    {
     "name": "stderr",
     "output_type": "stream",
     "text": [
      "C:\\Users\\Shefali\\Anaconda3\\lib\\site-packages\\plotly\\offline\\offline.py:635: UserWarning:\n",
      "\n",
      "Your filename `styled-line` didn't end with .html. Adding .html to the end of your file.\n",
      "\n"
     ]
    },
    {
     "data": {
      "text/plain": [
       "'file://C:\\\\Users\\\\Shefali\\\\Desktop\\\\PY Work\\\\styled-line.html'"
      ]
     },
     "execution_count": 24,
     "metadata": {},
     "output_type": "execute_result"
    }
   ],
   "source": [
    "indexed_book1_logscale_diffshift.dropna(inplace=True)\n",
    "\n",
    "#Determining the Stationarity of data\n",
    "\n",
    "moving_avg = indexed_book1_logscale_diffshift.rolling(window='14d').mean()\n",
    "moving_std = indexed_book1_logscale_diffshift.rolling(window='14d').std()\n",
    "    \n",
    "trace1 = go.Scatter(x= indexed_book1_logscale_diffshift.index, y= indexed_book1_logscale_diffshift.price, name='Original')\n",
    "trace2 = go.Scatter(x= moving_avg.index , y= moving_avg.price, name= 'Rolling Mean')\n",
    "trace3 = go.Scatter(x= moving_std.index , y= moving_std.price, name= 'Rolling Std')\n",
    "data = [trace1, trace2, trace3]\n",
    "    # Edit the layout\n",
    "layout = dict(title = 'Rolling Mean and Standard Deviation',\n",
    "              xaxis = dict(title = 'Date'),\n",
    "              yaxis = dict(title = 'Price'))\n",
    "fig = dict(data=data, layout=layout)\n",
    "plot(fig, filename='styled-line')"
   ]
  },
  {
   "cell_type": "code",
   "execution_count": 25,
   "metadata": {},
   "outputs": [
    {
     "name": "stdout",
     "output_type": "stream",
     "text": [
      "Results of Dickey-Fuller test: \n",
      "Test statistic                 -1.105663\n",
      "p-value                         0.712808\n",
      "lags used                       2.000000\n",
      "number of observations used    10.000000\n",
      "Critical value (1%)            -4.331573\n",
      "Critical value (5%)            -3.232950\n",
      "Critical value (10%)           -2.748700\n",
      "dtype: float64\n"
     ]
    }
   ],
   "source": [
    "print(\"Results of Dickey-Fuller test: \")\n",
    "dftest = adfuller(indexed_book1_logscale_diffshift['price'], autolag='AIC')\n",
    "dfout = pd.Series(dftest[0:4], index= ['Test statistic','p-value','lags used','number of observations used'])\n",
    "for key,value in dftest[4].items():\n",
    "    dfout['Critical value (%s)'%key] = value\n",
    "print(dfout)\n",
    "\n",
    "# Here timeseries is stationary and null-hypothesis is rejected"
   ]
  },
  {
   "cell_type": "code",
   "execution_count": 26,
   "metadata": {},
   "outputs": [
    {
     "name": "stdout",
     "output_type": "stream",
     "text": [
      "This is the format of your plot grid:\n",
      "[ (1,1) x1,y1 ]\n",
      "[ (2,1) x2,y2 ]\n",
      "[ (3,1) x3,y3 ]\n",
      "[ (4,1) x4,y4 ]\n",
      "\n"
     ]
    },
    {
     "name": "stderr",
     "output_type": "stream",
     "text": [
      "C:\\Users\\Shefali\\Anaconda3\\lib\\site-packages\\plotly\\offline\\offline.py:635: UserWarning:\n",
      "\n",
      "Your filename `stacked-subplots` didn't end with .html. Adding .html to the end of your file.\n",
      "\n"
     ]
    },
    {
     "data": {
      "text/plain": [
       "'file://C:\\\\Users\\\\Shefali\\\\Desktop\\\\PY Work\\\\stacked-subplots.html'"
      ]
     },
     "execution_count": 26,
     "metadata": {},
     "output_type": "execute_result"
    }
   ],
   "source": [
    "from statsmodels.tsa.seasonal import seasonal_decompose\n",
    "\n",
    "decomposition = seasonal_decompose(indexed_book1_logscale)\n",
    "\n",
    "trend = decomposition.trend\n",
    "seasonal = decomposition.seasonal\n",
    "residual = decomposition.resid\n",
    "\n",
    "from plotly import tools\n",
    "\n",
    "trace1 = go.Scatter(x= indexed_book1_logscale.index, y= indexed_book1_logscale.price, name='Original')\n",
    "trace2 = go.Scatter(x= trend.index, y= trend.price, name='Trend')\n",
    "trace3 = go.Scatter(x= seasonal.index, y= seasonal.price, name='Seasonality')\n",
    "trace4 = go.Scatter(x= residual.index, y= residual.price, name='Residual')\n",
    "\n",
    "fig = tools.make_subplots(rows=4, cols=1)\n",
    "\n",
    "fig.append_trace(trace1, 1, 1)\n",
    "fig.append_trace(trace2, 2, 1)\n",
    "fig.append_trace(trace3, 3, 1)\n",
    "fig.append_trace(trace4, 4, 1)\n",
    "\n",
    "\n",
    "fig['layout'].update(title='Stacked subplots')\n",
    "plot(fig, filename='stacked-subplots')"
   ]
  },
  {
   "cell_type": "code",
   "execution_count": 27,
   "metadata": {},
   "outputs": [
    {
     "name": "stderr",
     "output_type": "stream",
     "text": [
      "C:\\Users\\Shefali\\Anaconda3\\lib\\site-packages\\plotly\\offline\\offline.py:635: UserWarning:\n",
      "\n",
      "Your filename `styled-line` didn't end with .html. Adding .html to the end of your file.\n",
      "\n"
     ]
    },
    {
     "data": {
      "text/plain": [
       "'file://C:\\\\Users\\\\Shefali\\\\Desktop\\\\PY Work\\\\styled-line.html'"
      ]
     },
     "execution_count": 27,
     "metadata": {},
     "output_type": "execute_result"
    }
   ],
   "source": [
    "#Residuals are irregualr in nature\n",
    "#So checking noise stationarity\n",
    "\n",
    "decomposed_logdata = residual\n",
    "decomposed_logdata.dropna(inplace=True)\n",
    "\n",
    "#Determining the Stationarity of data\n",
    "\n",
    "moving_avg = decomposed_logdata.rolling(window='14d').mean()\n",
    "moving_std = decomposed_logdata.rolling(window='14d').std()\n",
    "    \n",
    "trace1 = go.Scatter(x= decomposed_logdata.index, y= decomposed_logdata.price, name='Original')\n",
    "trace2 = go.Scatter(x= moving_avg.index , y= moving_avg.price, name= 'Rolling Mean')\n",
    "trace3 = go.Scatter(x= moving_std.index , y= moving_std.price, name= 'Rolling Std')\n",
    "data = [trace1, trace2, trace3]\n",
    "    # Edit the layout\n",
    "layout = dict(title = 'Rolling Mean and Standard Deviation',\n",
    "              xaxis = dict(title = 'Date'),\n",
    "              yaxis = dict(title = 'Price'))\n",
    "fig = dict(data=data, layout=layout)\n",
    "plot(fig, filename='styled-line')"
   ]
  },
  {
   "cell_type": "code",
   "execution_count": 28,
   "metadata": {},
   "outputs": [
    {
     "name": "stderr",
     "output_type": "stream",
     "text": [
      "C:\\Users\\Shefali\\Anaconda3\\lib\\site-packages\\statsmodels\\regression\\linear_model.py:1283: RuntimeWarning:\n",
      "\n",
      "invalid value encountered in sqrt\n",
      "\n",
      "C:\\Users\\Shefali\\Anaconda3\\lib\\site-packages\\statsmodels\\regression\\linear_model.py:1275: RuntimeWarning:\n",
      "\n",
      "invalid value encountered in double_scalars\n",
      "\n"
     ]
    },
    {
     "data": {
      "text/plain": [
       "'file://C:\\\\Users\\\\Shefali\\\\Desktop\\\\PY Work\\\\temp-plot.html'"
      ]
     },
     "execution_count": 28,
     "metadata": {},
     "output_type": "execute_result"
    }
   ],
   "source": [
    "#ACF and PACF plots\n",
    "\n",
    "from statsmodels.tsa.stattools import acf, pacf\n",
    "\n",
    "lag_acf = acf(indexed_book1_logscale_diffshift)\n",
    "lag_pacf = pacf(indexed_book1_logscale_diffshift)\n",
    "#lag_acf,lag_pacf\n",
    "\n",
    "#ACF\n",
    "#trace1 = go.Scatter(y= lag_acf, name='Autocorrelation Function', type='bar')\n",
    "trace1 = {\"y\": lag_acf, \"name\": \"Autocorrelation Function\", \"type\": \"bar\"}\n",
    "trace2 = {\"y\": lag_pacf, \"name\": \"Partial Autocorrelation Function\", \"type\": \"bar\"}\n",
    "#trace2 = go.Scatter(y= lag_pacf, name='Partial Autocorrelation Function', type='bar')\n",
    "\n",
    "data = [trace1, trace2]\n",
    "layout = dict(title = 'ACF and PACF Plots')\n",
    "fig = dict(data=data, layout=layout)\n",
    "plot(fig)"
   ]
  },
  {
   "cell_type": "code",
   "execution_count": 29,
   "metadata": {},
   "outputs": [
    {
     "name": "stderr",
     "output_type": "stream",
     "text": [
      "C:\\Users\\Shefali\\Anaconda3\\lib\\site-packages\\statsmodels\\tsa\\base\\tsa_model.py:171: ValueWarning:\n",
      "\n",
      "No frequency information was provided, so inferred frequency D will be used.\n",
      "\n",
      "C:\\Users\\Shefali\\Anaconda3\\lib\\site-packages\\statsmodels\\tsa\\base\\tsa_model.py:171: ValueWarning:\n",
      "\n",
      "No frequency information was provided, so inferred frequency D will be used.\n",
      "\n",
      "C:\\Users\\Shefali\\Anaconda3\\lib\\site-packages\\scipy\\signal\\signaltools.py:1341: FutureWarning:\n",
      "\n",
      "Using a non-tuple sequence for multidimensional indexing is deprecated; use `arr[tuple(seq)]` instead of `arr[seq]`. In the future this will be interpreted as an array index, `arr[np.array(seq)]`, which will result either in an error or a different result.\n",
      "\n",
      "C:\\Users\\Shefali\\Anaconda3\\lib\\site-packages\\scipy\\signal\\signaltools.py:1344: FutureWarning:\n",
      "\n",
      "Using a non-tuple sequence for multidimensional indexing is deprecated; use `arr[tuple(seq)]` instead of `arr[seq]`. In the future this will be interpreted as an array index, `arr[np.array(seq)]`, which will result either in an error or a different result.\n",
      "\n",
      "C:\\Users\\Shefali\\Anaconda3\\lib\\site-packages\\scipy\\signal\\signaltools.py:1350: FutureWarning:\n",
      "\n",
      "Using a non-tuple sequence for multidimensional indexing is deprecated; use `arr[tuple(seq)]` instead of `arr[seq]`. In the future this will be interpreted as an array index, `arr[np.array(seq)]`, which will result either in an error or a different result.\n",
      "\n"
     ]
    },
    {
     "name": "stdout",
     "output_type": "stream",
     "text": [
      "Plotting AR Model...\n"
     ]
    },
    {
     "data": {
      "text/plain": [
       "'file://C:\\\\Users\\\\Shefali\\\\Desktop\\\\PY Work\\\\temp-plot.html'"
      ]
     },
     "execution_count": 29,
     "metadata": {},
     "output_type": "execute_result"
    }
   ],
   "source": [
    "#AR Model\n",
    "from statsmodels.tsa.arima_model import ARIMA\n",
    "\n",
    "model = ARIMA(indexed_book1_logscale, order= (3,1,0))\n",
    "results_AR = model.fit(disp=-1)\n",
    "\n",
    "print(\"Plotting AR Model...\")\n",
    "trace1 = go.Scatter(x= indexed_book1_logscale_diffshift.index, y= indexed_book1_logscale_diffshift.price, name='Original')\n",
    "trace2 = go.Scatter(y=results_AR.fittedvalues, name='AR fitted values')\n",
    "\n",
    "data = [trace1, trace2]\n",
    "layout = dict(title = 'RSS: %.4f'%sum((results_AR.fittedvalues-indexed_book1_logscale_diffshift.price)**2))\n",
    "fig = dict(data=data, layout=layout)\n",
    "plot(fig)"
   ]
  },
  {
   "cell_type": "code",
   "execution_count": 30,
   "metadata": {},
   "outputs": [
    {
     "name": "stdout",
     "output_type": "stream",
     "text": [
      "Plotting MA Model...\n"
     ]
    },
    {
     "name": "stderr",
     "output_type": "stream",
     "text": [
      "C:\\Users\\Shefali\\Anaconda3\\lib\\site-packages\\statsmodels\\tsa\\base\\tsa_model.py:171: ValueWarning:\n",
      "\n",
      "No frequency information was provided, so inferred frequency D will be used.\n",
      "\n",
      "C:\\Users\\Shefali\\Anaconda3\\lib\\site-packages\\statsmodels\\tsa\\base\\tsa_model.py:171: ValueWarning:\n",
      "\n",
      "No frequency information was provided, so inferred frequency D will be used.\n",
      "\n"
     ]
    },
    {
     "data": {
      "text/plain": [
       "'file://C:\\\\Users\\\\Shefali\\\\Desktop\\\\PY Work\\\\temp-plot.html'"
      ]
     },
     "execution_count": 30,
     "metadata": {},
     "output_type": "execute_result"
    }
   ],
   "source": [
    "#MA Model\n",
    "from statsmodels.tsa.arima_model import ARIMA\n",
    "\n",
    "model = ARIMA(indexed_book1_logscale, order= (0,1,0))\n",
    "results_MA = model.fit(disp=-1)\n",
    "\n",
    "print(\"Plotting MA Model...\")\n",
    "trace1 = go.Scatter(x= indexed_book1_logscale_diffshift.index, y= indexed_book1_logscale_diffshift.price, name='Original')\n",
    "trace2 = go.Scatter(y=results_MA.fittedvalues, name='MA fitted values')\n",
    "\n",
    "data = [trace1, trace2]\n",
    "layout = dict(title = 'RSS: %.4f'%sum((results_MA.fittedvalues-indexed_book1_logscale_diffshift.price)**2))\n",
    "fig = dict(data=data, layout=layout)\n",
    "plot(fig)"
   ]
  },
  {
   "cell_type": "code",
   "execution_count": 31,
   "metadata": {},
   "outputs": [],
   "source": [
    "#AR Model is better as it has less RSS value than MA Model"
   ]
  },
  {
   "cell_type": "code",
   "execution_count": 32,
   "metadata": {},
   "outputs": [
    {
     "name": "stdout",
     "output_type": "stream",
     "text": [
      "date\n",
      "2019-01-25   -0.006690\n",
      "2019-01-26    0.050212\n",
      "2019-01-27   -0.062167\n",
      "2019-01-28   -0.031587\n",
      "2019-01-29   -0.027936\n",
      "2019-01-30   -0.013855\n",
      "2019-01-31   -0.013855\n",
      "2019-02-01   -0.013855\n",
      "2019-02-02   -0.013855\n",
      "2019-02-03    0.022809\n",
      "2019-02-04    0.001601\n",
      "2019-02-05   -0.007014\n",
      "2019-02-06   -0.013855\n",
      "dtype: float64\n",
      "date\n",
      "2019-01-25   -0.006690\n",
      "2019-01-26    0.043522\n",
      "2019-01-27   -0.018646\n",
      "2019-01-28   -0.050232\n",
      "2019-01-29   -0.078168\n",
      "2019-01-30   -0.092023\n",
      "2019-01-31   -0.105878\n",
      "2019-02-01   -0.119732\n",
      "2019-02-02   -0.133587\n",
      "2019-02-03   -0.110778\n",
      "2019-02-04   -0.109177\n",
      "2019-02-05   -0.116190\n",
      "2019-02-06   -0.130045\n",
      "dtype: float64\n"
     ]
    }
   ],
   "source": [
    "prediction = pd.Series(results_AR.fittedvalues, copy=True)\n",
    "print(prediction)\n",
    "\n",
    "prediction_cumsum = prediction.cumsum()\n",
    "print(prediction_cumsum)"
   ]
  },
  {
   "cell_type": "code",
   "execution_count": 33,
   "metadata": {},
   "outputs": [
    {
     "name": "stderr",
     "output_type": "stream",
     "text": [
      "C:\\Users\\Shefali\\Anaconda3\\lib\\site-packages\\ipykernel_launcher.py:1: DeprecationWarning:\n",
      "\n",
      "\n",
      ".ix is deprecated. Please use\n",
      ".loc for label based indexing or\n",
      ".iloc for positional indexing\n",
      "\n",
      "See the documentation here:\n",
      "http://pandas.pydata.org/pandas-docs/stable/indexing.html#ix-indexer-is-deprecated\n",
      "\n"
     ]
    },
    {
     "data": {
      "text/plain": [
       "date\n",
       "2019-01-24    4.718499\n",
       "2019-01-25    4.711809\n",
       "2019-01-26    4.762020\n",
       "2019-01-27    4.699853\n",
       "2019-01-28    4.668267\n",
       "2019-01-29    4.640331\n",
       "2019-01-30    4.626476\n",
       "2019-01-31    4.612621\n",
       "2019-02-01    4.598767\n",
       "2019-02-02    4.584912\n",
       "2019-02-03    4.607721\n",
       "2019-02-04    4.609322\n",
       "2019-02-05    4.602308\n",
       "2019-02-06    4.588454\n",
       "dtype: float64"
      ]
     },
     "execution_count": 33,
     "metadata": {},
     "output_type": "execute_result"
    }
   ],
   "source": [
    "prediction_log = pd.Series(indexed_book1_logscale.price.ix[0], index = indexed_book1_logscale.index)\n",
    "prediction_log = prediction_log.add(prediction_cumsum, fill_value=0)\n",
    "prediction_log"
   ]
  },
  {
   "cell_type": "code",
   "execution_count": 34,
   "metadata": {},
   "outputs": [
    {
     "data": {
      "text/plain": [
       "'file://C:\\\\Users\\\\Shefali\\\\Desktop\\\\PY Work\\\\temp-plot.html'"
      ]
     },
     "execution_count": 34,
     "metadata": {},
     "output_type": "execute_result"
    }
   ],
   "source": [
    "prediction_ARIMA = np.exp(prediction_log)\n",
    "\n",
    "trace1 = go.Scatter(x= indexed_book1.index, y= indexed_book1.price, name='Original data')\n",
    "trace2 = go.Scatter(y=prediction_ARIMA, name='prdiction')\n",
    "\n",
    "data = [trace1, trace2]\n",
    "layout = dict(title = \"Predictions\")\n",
    "fig = dict(data=data, layout=layout)\n",
    "plot(fig)"
   ]
  },
  {
   "cell_type": "code",
   "execution_count": 35,
   "metadata": {},
   "outputs": [
    {
     "data": {
      "text/html": [
       "<div>\n",
       "<style scoped>\n",
       "    .dataframe tbody tr th:only-of-type {\n",
       "        vertical-align: middle;\n",
       "    }\n",
       "\n",
       "    .dataframe tbody tr th {\n",
       "        vertical-align: top;\n",
       "    }\n",
       "\n",
       "    .dataframe thead th {\n",
       "        text-align: right;\n",
       "    }\n",
       "</style>\n",
       "<table border=\"1\" class=\"dataframe\">\n",
       "  <thead>\n",
       "    <tr style=\"text-align: right;\">\n",
       "      <th></th>\n",
       "      <th>price</th>\n",
       "    </tr>\n",
       "    <tr>\n",
       "      <th>date</th>\n",
       "      <th></th>\n",
       "    </tr>\n",
       "  </thead>\n",
       "  <tbody>\n",
       "    <tr>\n",
       "      <th>2019-01-24</th>\n",
       "      <td>4.718499</td>\n",
       "    </tr>\n",
       "    <tr>\n",
       "      <th>2019-01-25</th>\n",
       "      <td>4.605170</td>\n",
       "    </tr>\n",
       "    <tr>\n",
       "      <th>2019-01-26</th>\n",
       "      <td>4.718499</td>\n",
       "    </tr>\n",
       "    <tr>\n",
       "      <th>2019-01-27</th>\n",
       "      <td>4.718499</td>\n",
       "    </tr>\n",
       "    <tr>\n",
       "      <th>2019-01-28</th>\n",
       "      <td>4.718499</td>\n",
       "    </tr>\n",
       "    <tr>\n",
       "      <th>2019-01-29</th>\n",
       "      <td>4.718499</td>\n",
       "    </tr>\n",
       "    <tr>\n",
       "      <th>2019-01-30</th>\n",
       "      <td>4.718499</td>\n",
       "    </tr>\n",
       "    <tr>\n",
       "      <th>2019-01-31</th>\n",
       "      <td>4.718499</td>\n",
       "    </tr>\n",
       "    <tr>\n",
       "      <th>2019-02-01</th>\n",
       "      <td>4.718499</td>\n",
       "    </tr>\n",
       "    <tr>\n",
       "      <th>2019-02-02</th>\n",
       "      <td>4.663439</td>\n",
       "    </tr>\n",
       "    <tr>\n",
       "      <th>2019-02-03</th>\n",
       "      <td>4.663439</td>\n",
       "    </tr>\n",
       "    <tr>\n",
       "      <th>2019-02-04</th>\n",
       "      <td>4.663439</td>\n",
       "    </tr>\n",
       "    <tr>\n",
       "      <th>2019-02-05</th>\n",
       "      <td>4.663439</td>\n",
       "    </tr>\n",
       "    <tr>\n",
       "      <th>2019-02-06</th>\n",
       "      <td>4.543295</td>\n",
       "    </tr>\n",
       "  </tbody>\n",
       "</table>\n",
       "</div>"
      ],
      "text/plain": [
       "               price\n",
       "date                \n",
       "2019-01-24  4.718499\n",
       "2019-01-25  4.605170\n",
       "2019-01-26  4.718499\n",
       "2019-01-27  4.718499\n",
       "2019-01-28  4.718499\n",
       "2019-01-29  4.718499\n",
       "2019-01-30  4.718499\n",
       "2019-01-31  4.718499\n",
       "2019-02-01  4.718499\n",
       "2019-02-02  4.663439\n",
       "2019-02-03  4.663439\n",
       "2019-02-04  4.663439\n",
       "2019-02-05  4.663439\n",
       "2019-02-06  4.543295"
      ]
     },
     "execution_count": 35,
     "metadata": {},
     "output_type": "execute_result"
    }
   ],
   "source": [
    "indexed_book1_logscale"
   ]
  },
  {
   "cell_type": "code",
   "execution_count": 37,
   "metadata": {},
   "outputs": [
    {
     "data": {
      "text/plain": [
       "(array([4.60944218, 4.58526728, 4.58386968, 4.56951302, 4.56861424,\n",
       "        4.55956179, 4.55377108]),\n",
       " array([0.04896979, 0.05163083, 0.05707548, 0.06120204, 0.06626214,\n",
       "        0.07008617, 0.07404619]),\n",
       " array([[4.51346315, 4.70542121],\n",
       "        [4.4840727 , 4.68646185],\n",
       "        [4.47200379, 4.69573556],\n",
       "        [4.44955923, 4.6894668 ],\n",
       "        [4.43874283, 4.69848566],\n",
       "        [4.42219542, 4.69692817],\n",
       "        [4.40864322, 4.69889895]]))"
      ]
     },
     "execution_count": 37,
     "metadata": {},
     "output_type": "execute_result"
    },
    {
     "data": {
      "image/png": "[encoded data removed]",
      "text/plain": [
       "<Figure size 432x288 with 1 Axes>"
      ]
     },
     "metadata": {
      "needs_background": "light"
     },
     "output_type": "display_data"
    }
   ],
   "source": [
    "forecast = results_AR.forecast(steps=7)\n",
    "#print(results_AR.forecast(steps=7))\n",
    "\n",
    "results_AR.plot_predict(1,21)\n",
    "results_AR.forecast(steps=7)"
   ]
  },
  {
   "cell_type": "code",
   "execution_count": null,
   "metadata": {},
   "outputs": [],
   "source": []
  }
 ],
 "metadata": {
  "kernelspec": {
   "display_name": "Python 3",
   "language": "python",
   "name": "python3"
  },
  "language_info": {
   "codemirror_mode": {
    "name": "ipython",
    "version": 3
   },
   "file_extension": ".py",
   "mimetype": "text/x-python",
   "name": "python",
   "nbconvert_exporter": "python",
   "pygments_lexer": "ipython3",
   "version": "3.7.1"
  }
 },
 "nbformat": 4,
 "nbformat_minor": 2
}
